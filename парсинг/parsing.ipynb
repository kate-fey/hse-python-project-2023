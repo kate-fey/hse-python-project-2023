{
 "cells": [
  {
   "cell_type": "code",
   "execution_count": 1,
   "id": "85c88387",
   "metadata": {},
   "outputs": [],
   "source": [
    "# функция, которая собирает суп страницы\n",
    "from selenium import webdriver\n",
    "from bs4 import BeautifulSoup\n",
    "\n",
    "def get_soup(url):\n",
    "    driver = webdriver.Chrome()\n",
    "    driver.maximize_window()\n",
    "    driver.get(url)\n",
    "    pageSource = driver.page_source\n",
    "    driver.quit()\n",
    "    return BeautifulSoup(pageSource , \"html.parser\")\n",
    "    \n",
    "# soup = get_soup(\"https://www.crowdfunder.co.uk/search/projects?page=2&completed=pending&isLive=true&map=off\")\n"
   ]
  },
  {
   "attachments": {},
   "cell_type": "markdown",
   "id": "739abbf3",
   "metadata": {},
   "source": [
    "Мы используем селениум для сбора ссылок, т.к. на сайте динамическая вёрстка."
   ]
  },
  {
   "cell_type": "code",
   "execution_count": 2,
   "id": "4d41a7c2",
   "metadata": {},
   "outputs": [],
   "source": [
    "# функция, которая собирает ссылки на проекты, представленные на странице\n",
    "def get_hrefs(soup):\n",
    "    projs = soup.find_all('article', {'class': 'cf-pod'})\n",
    "    main_data = []\n",
    "    for i in range(0, 12):\n",
    "        item = projs[i]\n",
    "        itemdict = {}\n",
    "        itemdict.update([('href', item.a.get('href')), \n",
    "                         ('title', item.find('h3', {'class': 'cf-text cf-text--header cf-text--spaceQtr cf-text--break-word'}).text),\n",
    "                        ('description', item.find('p', {'class': 'cf-text cf-text--fixed14 cf-text--light cf-text--thin cf-text--break-word'}).text)])\n",
    "        main_data.append(itemdict)\n",
    "    return main_data\n",
    "\n",
    "\n",
    "# get_hrefs(soup)"
   ]
  },
  {
   "attachments": {},
   "cell_type": "markdown",
   "id": "9d9bef42",
   "metadata": {},
   "source": [
    "Собираем все текущие проекты с сайта."
   ]
  },
  {
   "cell_type": "code",
   "execution_count": 92,
   "id": "1d4eb03c",
   "metadata": {},
   "outputs": [
    {
     "data": {
      "application/vnd.jupyter.widget-view+json": {
       "model_id": "6e9f49e8ecc84091971e9b9adb8085e8",
       "version_major": 2,
       "version_minor": 0
      },
      "text/plain": [
       "  0%|          | 0/83 [00:00<?, ?it/s]"
      ]
     },
     "metadata": {},
     "output_type": "display_data"
    }
   ],
   "source": [
    "\n",
    "from tqdm.notebook import tqdm\n",
    "import time\n",
    "\n",
    "MAIN_URL = 'https://www.crowdfunder.co.uk/search/projects?'\n",
    "\n",
    "data = []\n",
    "fails = []\n",
    "for p in tqdm(range(1, 84)):\n",
    "    url = MAIN_URL + f'page={p}&completed=pending&isLive=true&map=off'\n",
    "    try:\n",
    "        tree = get_soup(url)\n",
    "        projects = get_hrefs(tree)\n",
    "        data.extend(projects)\n",
    "        time.sleep(0.1)\n",
    "    except:\n",
    "        fails.append(url)"
   ]
  },
  {
   "attachments": {},
   "cell_type": "markdown",
   "id": "4b262ffc",
   "metadata": {},
   "source": [
    "Вручную собираем страницу, которая не спарсилась изначально."
   ]
  },
  {
   "cell_type": "code",
   "execution_count": 6,
   "id": "09bff8ef",
   "metadata": {},
   "outputs": [],
   "source": [
    "import time\n",
    "new_3 = []\n",
    "tree_3 = get_soup('https://www.crowdfunder.co.uk/search/projects?page=3&completed=pending&isLive=true&map=off')\n",
    "projects_3 = get_hrefs(tree_3)\n",
    "new_3.extend(projects_3)\n",
    "time.sleep(0.1)"
   ]
  },
  {
   "cell_type": "code",
   "execution_count": 140,
   "id": "abd05fc7",
   "metadata": {},
   "outputs": [
    {
     "data": {
      "text/plain": [
       "12"
      ]
     },
     "execution_count": 140,
     "metadata": {},
     "output_type": "execute_result"
    }
   ],
   "source": [
    "len(new_3)"
   ]
  },
  {
   "cell_type": "code",
   "execution_count": 4,
   "id": "353d5cfa",
   "metadata": {},
   "outputs": [],
   "source": [
    "import pandas as pd\n",
    "df_live_rest = pd.read_pickle('df_live_store.pkl') # подгружаем датафрейм со всеми текущими проектами, собранный выше"
   ]
  },
  {
   "cell_type": "code",
   "execution_count": 141,
   "id": "b41c16a7",
   "metadata": {},
   "outputs": [
    {
     "data": {
      "text/html": [
       "<div>\n",
       "<style scoped>\n",
       "    .dataframe tbody tr th:only-of-type {\n",
       "        vertical-align: middle;\n",
       "    }\n",
       "\n",
       "    .dataframe tbody tr th {\n",
       "        vertical-align: top;\n",
       "    }\n",
       "\n",
       "    .dataframe thead th {\n",
       "        text-align: right;\n",
       "    }\n",
       "</style>\n",
       "<table border=\"1\" class=\"dataframe\">\n",
       "  <thead>\n",
       "    <tr style=\"text-align: right;\">\n",
       "      <th></th>\n",
       "      <th>href</th>\n",
       "      <th>title</th>\n",
       "      <th>description</th>\n",
       "    </tr>\n",
       "  </thead>\n",
       "  <tbody>\n",
       "    <tr>\n",
       "      <th>0</th>\n",
       "      <td>https://www.crowdfunder.co.uk/beccsbigbuild</td>\n",
       "      <td>Beccs Big Build</td>\n",
       "      <td>The Beccs Big Build project aims to build new ...</td>\n",
       "    </tr>\n",
       "    <tr>\n",
       "      <th>1</th>\n",
       "      <td>https://www.crowdfunder.co.uk/bacup-cc-accessi...</td>\n",
       "      <td>Bacup CC Accessible Access &amp; Outdoor Space</td>\n",
       "      <td>To improve the accessibility to the club and t...</td>\n",
       "    </tr>\n",
       "    <tr>\n",
       "      <th>2</th>\n",
       "      <td>https://www.crowdfunder.co.uk/accessible-ev-ch...</td>\n",
       "      <td>Accessible EV Chargepoints for Vulnerable Drivers</td>\n",
       "      <td>To develop an EV charging unit that delivers a...</td>\n",
       "    </tr>\n",
       "    <tr>\n",
       "      <th>3</th>\n",
       "      <td>https://www.crowdfunder.co.uk/lcc-fix-our-nets</td>\n",
       "      <td>Liverpool Cricket Club - FIX OUR NETS!</td>\n",
       "      <td>We want to fix the outdoor nets at Liverpool C...</td>\n",
       "    </tr>\n",
       "    <tr>\n",
       "      <th>4</th>\n",
       "      <td>https://www.crowdfunder.co.uk/himmah-ramadan-p...</td>\n",
       "      <td>Himmah Ramadan Poverty Appeal</td>\n",
       "      <td>The Prophet Muhammad (peace be upon him) said:...</td>\n",
       "    </tr>\n",
       "  </tbody>\n",
       "</table>\n",
       "</div>"
      ],
      "text/plain": [
       "                                                href  \\\n",
       "0        https://www.crowdfunder.co.uk/beccsbigbuild   \n",
       "1  https://www.crowdfunder.co.uk/bacup-cc-accessi...   \n",
       "2  https://www.crowdfunder.co.uk/accessible-ev-ch...   \n",
       "3     https://www.crowdfunder.co.uk/lcc-fix-our-nets   \n",
       "4  https://www.crowdfunder.co.uk/himmah-ramadan-p...   \n",
       "\n",
       "                                               title  \\\n",
       "0                                    Beccs Big Build   \n",
       "1         Bacup CC Accessible Access & Outdoor Space   \n",
       "2  Accessible EV Chargepoints for Vulnerable Drivers   \n",
       "3             Liverpool Cricket Club - FIX OUR NETS!   \n",
       "4                      Himmah Ramadan Poverty Appeal   \n",
       "\n",
       "                                         description  \n",
       "0  The Beccs Big Build project aims to build new ...  \n",
       "1  To improve the accessibility to the club and t...  \n",
       "2  To develop an EV charging unit that delivers a...  \n",
       "3  We want to fix the outdoor nets at Liverpool C...  \n",
       "4  The Prophet Muhammad (peace be upon him) said:...  "
      ]
     },
     "execution_count": 141,
     "metadata": {},
     "output_type": "execute_result"
    }
   ],
   "source": [
    "df_3 = pd.DataFrame(new_3)\n",
    "df_3.head() "
   ]
  },
  {
   "cell_type": "code",
   "execution_count": 142,
   "id": "7d387462",
   "metadata": {},
   "outputs": [
    {
     "data": {
      "text/html": [
       "<div>\n",
       "<style scoped>\n",
       "    .dataframe tbody tr th:only-of-type {\n",
       "        vertical-align: middle;\n",
       "    }\n",
       "\n",
       "    .dataframe tbody tr th {\n",
       "        vertical-align: top;\n",
       "    }\n",
       "\n",
       "    .dataframe thead th {\n",
       "        text-align: right;\n",
       "    }\n",
       "</style>\n",
       "<table border=\"1\" class=\"dataframe\">\n",
       "  <thead>\n",
       "    <tr style=\"text-align: right;\">\n",
       "      <th></th>\n",
       "      <th>href</th>\n",
       "      <th>title</th>\n",
       "      <th>description</th>\n",
       "    </tr>\n",
       "  </thead>\n",
       "  <tbody>\n",
       "    <tr>\n",
       "      <th>0</th>\n",
       "      <td>https://www.crowdfunder.co.uk/free-assange</td>\n",
       "      <td>Help campaign to Free Julian Assange</td>\n",
       "      <td>Help campaign to Free Julian Assange and Stop ...</td>\n",
       "    </tr>\n",
       "    <tr>\n",
       "      <th>1</th>\n",
       "      <td>https://www.crowdfunder.co.uk/blackout2023</td>\n",
       "      <td>Black Out 2023 | Cannes Lions Festival</td>\n",
       "      <td>Taking Black talent connected to the creative ...</td>\n",
       "    </tr>\n",
       "    <tr>\n",
       "      <th>2</th>\n",
       "      <td>https://www.crowdfunder.co.uk/50-days-to-make-...</td>\n",
       "      <td>50 Days to Make a Difference</td>\n",
       "      <td>Our scientists curate a portfolio of effective...</td>\n",
       "    </tr>\n",
       "    <tr>\n",
       "      <th>3</th>\n",
       "      <td>https://www.crowdfunder.co.uk/saveside</td>\n",
       "      <td>#SAVESIDE</td>\n",
       "      <td>As of 9th April 2023, Side Gallery will close ...</td>\n",
       "    </tr>\n",
       "    <tr>\n",
       "      <th>4</th>\n",
       "      <td>https://www.crowdfunder.co.uk/lets-smash-the-p...</td>\n",
       "      <td>Let's smash the political silence on Brexit</td>\n",
       "      <td>Everyone knows Brexit isn't working, but polit...</td>\n",
       "    </tr>\n",
       "  </tbody>\n",
       "</table>\n",
       "</div>"
      ],
      "text/plain": [
       "                                                href  \\\n",
       "0         https://www.crowdfunder.co.uk/free-assange   \n",
       "1         https://www.crowdfunder.co.uk/blackout2023   \n",
       "2  https://www.crowdfunder.co.uk/50-days-to-make-...   \n",
       "3             https://www.crowdfunder.co.uk/saveside   \n",
       "4  https://www.crowdfunder.co.uk/lets-smash-the-p...   \n",
       "\n",
       "                                         title  \\\n",
       "0         Help campaign to Free Julian Assange   \n",
       "1       Black Out 2023 | Cannes Lions Festival   \n",
       "2                 50 Days to Make a Difference   \n",
       "3                                    #SAVESIDE   \n",
       "4  Let's smash the political silence on Brexit   \n",
       "\n",
       "                                         description  \n",
       "0  Help campaign to Free Julian Assange and Stop ...  \n",
       "1  Taking Black talent connected to the creative ...  \n",
       "2  Our scientists curate a portfolio of effective...  \n",
       "3  As of 9th April 2023, Side Gallery will close ...  \n",
       "4  Everyone knows Brexit isn't working, but polit...  "
      ]
     },
     "execution_count": 142,
     "metadata": {},
     "output_type": "execute_result"
    }
   ],
   "source": [
    "concatenated_3 = pd.concat([df_live_rest, df_3])\n",
    "df_bigger = concatenated_3.reset_index(drop = True)\n",
    "df_bigger.head()"
   ]
  },
  {
   "attachments": {},
   "cell_type": "markdown",
   "id": "9ff1f36d",
   "metadata": {},
   "source": [
    "Есть пара проектов, запущенных 10-12 раз, это выбросы."
   ]
  },
  {
   "cell_type": "code",
   "execution_count": 10,
   "id": "97bf53ee",
   "metadata": {},
   "outputs": [
    {
     "data": {
      "text/plain": [
       "href           993\n",
       "title          981\n",
       "description    966\n",
       "dtype: int64"
      ]
     },
     "execution_count": 10,
     "metadata": {},
     "output_type": "execute_result"
    }
   ],
   "source": [
    "df_bigger.nunique()"
   ]
  },
  {
   "attachments": {},
   "cell_type": "markdown",
   "id": "2e683b60",
   "metadata": {},
   "source": [
    "Дропнем повторяющиеся проекты."
   ]
  },
  {
   "cell_type": "code",
   "execution_count": 11,
   "id": "b2f3e355",
   "metadata": {},
   "outputs": [],
   "source": [
    "df_bigger.drop_duplicates(subset=['title'], keep='last', inplace = True) "
   ]
  },
  {
   "attachments": {},
   "cell_type": "markdown",
   "id": "50b5b9d9",
   "metadata": {},
   "source": [
    "Одинаковое описание у разных частей одного большого проекта, оставим."
   ]
  },
  {
   "cell_type": "code",
   "execution_count": 12,
   "id": "9e48ee7f",
   "metadata": {},
   "outputs": [
    {
     "data": {
      "text/html": [
       "<div>\n",
       "<style scoped>\n",
       "    .dataframe tbody tr th:only-of-type {\n",
       "        vertical-align: middle;\n",
       "    }\n",
       "\n",
       "    .dataframe tbody tr th {\n",
       "        vertical-align: top;\n",
       "    }\n",
       "\n",
       "    .dataframe thead th {\n",
       "        text-align: right;\n",
       "    }\n",
       "</style>\n",
       "<table border=\"1\" class=\"dataframe\">\n",
       "  <thead>\n",
       "    <tr style=\"text-align: right;\">\n",
       "      <th></th>\n",
       "      <th>href</th>\n",
       "      <th>title</th>\n",
       "      <th>description</th>\n",
       "    </tr>\n",
       "  </thead>\n",
       "  <tbody>\n",
       "    <tr>\n",
       "      <th>295</th>\n",
       "      <td>https://www.crowdfunder.co.uk/world-record-bow...</td>\n",
       "      <td>WORLD RECORD BOWLS MATCH MARATHON - 62 HOURS</td>\n",
       "      <td>To engage more people by improving accessibili...</td>\n",
       "    </tr>\n",
       "    <tr>\n",
       "      <th>594</th>\n",
       "      <td>https://www.crowdfunder.co.uk/katie-1</td>\n",
       "      <td>Katie's Gatwick to Paris Cycle Fundraiser</td>\n",
       "      <td>On the 8th of June 2023, I will cycle 300km fr...</td>\n",
       "    </tr>\n",
       "    <tr>\n",
       "      <th>615</th>\n",
       "      <td>https://www.crowdfunder.co.uk/smallwood</td>\n",
       "      <td>The Smallwood Primary School Fundraiser</td>\n",
       "      <td>To support the mental and physical health of t...</td>\n",
       "    </tr>\n",
       "    <tr>\n",
       "      <th>639</th>\n",
       "      <td>https://www.crowdfunder.co.uk/the-who-tour-tic...</td>\n",
       "      <td>The Who UK Tour Tickets</td>\n",
       "      <td>We are running our prize draws to raise funds ...</td>\n",
       "    </tr>\n",
       "    <tr>\n",
       "      <th>692</th>\n",
       "      <td>https://www.crowdfunder.co.uk/london-to-paris-4</td>\n",
       "      <td>London Gatwick to Paris Charity Bike Ride</td>\n",
       "      <td>On the 8th of June, a team of 60 riders will s...</td>\n",
       "    </tr>\n",
       "    <tr>\n",
       "      <th>695</th>\n",
       "      <td>https://www.crowdfunder.co.uk/webheath</td>\n",
       "      <td>The Webheath Academy Primary School Fundraiser</td>\n",
       "      <td>To support the mental and physical health of t...</td>\n",
       "    </tr>\n",
       "    <tr>\n",
       "      <th>740</th>\n",
       "      <td>https://www.crowdfunder.co.uk/denby</td>\n",
       "      <td>The Denby CofE First School Fundraiser</td>\n",
       "      <td>To support the mental and physical health of t...</td>\n",
       "    </tr>\n",
       "    <tr>\n",
       "      <th>747</th>\n",
       "      <td>https://www.crowdfunder.co.uk/oughtrington-1</td>\n",
       "      <td>Oughtrington Community Primary School Fundraiser</td>\n",
       "      <td>To support the mental and physical health of t...</td>\n",
       "    </tr>\n",
       "    <tr>\n",
       "      <th>761</th>\n",
       "      <td>https://www.crowdfunder.co.uk/lawford</td>\n",
       "      <td>The Lawford CofE Primary School Fundraiser</td>\n",
       "      <td>To support the mental and physical health of t...</td>\n",
       "    </tr>\n",
       "    <tr>\n",
       "      <th>785</th>\n",
       "      <td>https://www.crowdfunder.co.uk/glenfrome</td>\n",
       "      <td>The Glenfrome Primary School Fundraiser</td>\n",
       "      <td>To support the mental and physical health of t...</td>\n",
       "    </tr>\n",
       "    <tr>\n",
       "      <th>816</th>\n",
       "      <td>https://www.crowdfunder.co.uk/stmichaels</td>\n",
       "      <td>The St Michael's CofE School Fundraiser</td>\n",
       "      <td>To support the mental and physical health of t...</td>\n",
       "    </tr>\n",
       "    <tr>\n",
       "      <th>844</th>\n",
       "      <td>https://www.crowdfunder.co.uk/whiteheath</td>\n",
       "      <td>Whiteheath Infant and Nursery School Fundraiser</td>\n",
       "      <td>To support the mental and physical health of t...</td>\n",
       "    </tr>\n",
       "    <tr>\n",
       "      <th>850</th>\n",
       "      <td>https://www.crowdfunder.co.uk/bathampton-1</td>\n",
       "      <td>The Bathampton Primary School Fundraiser</td>\n",
       "      <td>To support the mental and physical health of t...</td>\n",
       "    </tr>\n",
       "    <tr>\n",
       "      <th>865</th>\n",
       "      <td>https://www.crowdfunder.co.uk/harris-1</td>\n",
       "      <td>The Harris Primary Academy Fundraiser</td>\n",
       "      <td>To support the mental and physical health of t...</td>\n",
       "    </tr>\n",
       "    <tr>\n",
       "      <th>884</th>\n",
       "      <td>https://www.crowdfunder.co.uk/muiredge</td>\n",
       "      <td>The Muiredge Primary School Fundraiser</td>\n",
       "      <td>To support the mental and physical health of t...</td>\n",
       "    </tr>\n",
       "    <tr>\n",
       "      <th>905</th>\n",
       "      <td>https://www.crowdfunder.co.uk/pellham</td>\n",
       "      <td>The Pelham Primary School Fundraiser</td>\n",
       "      <td>To support the mental and physical health of t...</td>\n",
       "    </tr>\n",
       "    <tr>\n",
       "      <th>914</th>\n",
       "      <td>https://www.crowdfunder.co.uk/winkleigh</td>\n",
       "      <td>The Winkleigh Primary School Fundraiser</td>\n",
       "      <td>To support the mental and physical health of t...</td>\n",
       "    </tr>\n",
       "    <tr>\n",
       "      <th>920</th>\n",
       "      <td>https://www.crowdfunder.co.uk/london-to-paris-...</td>\n",
       "      <td>Lewis' Charity Cycle to Paris Fundraiser</td>\n",
       "      <td>On the 8th of June, I will cycle from London G...</td>\n",
       "    </tr>\n",
       "    <tr>\n",
       "      <th>921</th>\n",
       "      <td>https://www.crowdfunder.co.uk/redhill</td>\n",
       "      <td>The Red Hill Primary School Fundraiser</td>\n",
       "      <td>To support the mental and physical health of t...</td>\n",
       "    </tr>\n",
       "    <tr>\n",
       "      <th>946</th>\n",
       "      <td>https://www.crowdfunder.co.uk/stveronicas</td>\n",
       "      <td>The St Veronica's RC Primary School Fundraiser</td>\n",
       "      <td>To support the mental and physical health of t...</td>\n",
       "    </tr>\n",
       "    <tr>\n",
       "      <th>1008</th>\n",
       "      <td>https://www.crowdfunder.co.uk/air-partner-gatw...</td>\n",
       "      <td>Air Partner Gatwick to Paris Charity Bike Ride</td>\n",
       "      <td>On the 8th of June, a team of 60 riders will s...</td>\n",
       "    </tr>\n",
       "  </tbody>\n",
       "</table>\n",
       "</div>"
      ],
      "text/plain": [
       "                                                   href  \\\n",
       "295   https://www.crowdfunder.co.uk/world-record-bow...   \n",
       "594               https://www.crowdfunder.co.uk/katie-1   \n",
       "615             https://www.crowdfunder.co.uk/smallwood   \n",
       "639   https://www.crowdfunder.co.uk/the-who-tour-tic...   \n",
       "692     https://www.crowdfunder.co.uk/london-to-paris-4   \n",
       "695              https://www.crowdfunder.co.uk/webheath   \n",
       "740                 https://www.crowdfunder.co.uk/denby   \n",
       "747        https://www.crowdfunder.co.uk/oughtrington-1   \n",
       "761               https://www.crowdfunder.co.uk/lawford   \n",
       "785             https://www.crowdfunder.co.uk/glenfrome   \n",
       "816            https://www.crowdfunder.co.uk/stmichaels   \n",
       "844            https://www.crowdfunder.co.uk/whiteheath   \n",
       "850          https://www.crowdfunder.co.uk/bathampton-1   \n",
       "865              https://www.crowdfunder.co.uk/harris-1   \n",
       "884              https://www.crowdfunder.co.uk/muiredge   \n",
       "905               https://www.crowdfunder.co.uk/pellham   \n",
       "914             https://www.crowdfunder.co.uk/winkleigh   \n",
       "920   https://www.crowdfunder.co.uk/london-to-paris-...   \n",
       "921               https://www.crowdfunder.co.uk/redhill   \n",
       "946           https://www.crowdfunder.co.uk/stveronicas   \n",
       "1008  https://www.crowdfunder.co.uk/air-partner-gatw...   \n",
       "\n",
       "                                                 title  \\\n",
       "295       WORLD RECORD BOWLS MATCH MARATHON - 62 HOURS   \n",
       "594          Katie's Gatwick to Paris Cycle Fundraiser   \n",
       "615            The Smallwood Primary School Fundraiser   \n",
       "639                            The Who UK Tour Tickets   \n",
       "692          London Gatwick to Paris Charity Bike Ride   \n",
       "695     The Webheath Academy Primary School Fundraiser   \n",
       "740             The Denby CofE First School Fundraiser   \n",
       "747   Oughtrington Community Primary School Fundraiser   \n",
       "761         The Lawford CofE Primary School Fundraiser   \n",
       "785            The Glenfrome Primary School Fundraiser   \n",
       "816            The St Michael's CofE School Fundraiser   \n",
       "844    Whiteheath Infant and Nursery School Fundraiser   \n",
       "850           The Bathampton Primary School Fundraiser   \n",
       "865              The Harris Primary Academy Fundraiser   \n",
       "884             The Muiredge Primary School Fundraiser   \n",
       "905               The Pelham Primary School Fundraiser   \n",
       "914            The Winkleigh Primary School Fundraiser   \n",
       "920           Lewis' Charity Cycle to Paris Fundraiser   \n",
       "921             The Red Hill Primary School Fundraiser   \n",
       "946     The St Veronica's RC Primary School Fundraiser   \n",
       "1008    Air Partner Gatwick to Paris Charity Bike Ride   \n",
       "\n",
       "                                            description  \n",
       "295   To engage more people by improving accessibili...  \n",
       "594   On the 8th of June 2023, I will cycle 300km fr...  \n",
       "615   To support the mental and physical health of t...  \n",
       "639   We are running our prize draws to raise funds ...  \n",
       "692   On the 8th of June, a team of 60 riders will s...  \n",
       "695   To support the mental and physical health of t...  \n",
       "740   To support the mental and physical health of t...  \n",
       "747   To support the mental and physical health of t...  \n",
       "761   To support the mental and physical health of t...  \n",
       "785   To support the mental and physical health of t...  \n",
       "816   To support the mental and physical health of t...  \n",
       "844   To support the mental and physical health of t...  \n",
       "850   To support the mental and physical health of t...  \n",
       "865   To support the mental and physical health of t...  \n",
       "884   To support the mental and physical health of t...  \n",
       "905   To support the mental and physical health of t...  \n",
       "914   To support the mental and physical health of t...  \n",
       "920   On the 8th of June, I will cycle from London G...  \n",
       "921   To support the mental and physical health of t...  \n",
       "946   To support the mental and physical health of t...  \n",
       "1008  On the 8th of June, a team of 60 riders will s...  "
      ]
     },
     "execution_count": 12,
     "metadata": {},
     "output_type": "execute_result"
    }
   ],
   "source": [
    "df_bigger[df_bigger['description'].duplicated()]"
   ]
  },
  {
   "cell_type": "code",
   "execution_count": 13,
   "id": "d2b98958",
   "metadata": {},
   "outputs": [
    {
     "data": {
      "text/plain": [
       "href           981\n",
       "title          981\n",
       "description    960\n",
       "dtype: int64"
      ]
     },
     "execution_count": 13,
     "metadata": {},
     "output_type": "execute_result"
    }
   ],
   "source": [
    "df_bigger.nunique()"
   ]
  },
  {
   "cell_type": "code",
   "execution_count": 143,
   "id": "a1f6a6b6",
   "metadata": {
    "scrolled": false
   },
   "outputs": [
    {
     "data": {
      "text/html": [
       "<div>\n",
       "<style scoped>\n",
       "    .dataframe tbody tr th:only-of-type {\n",
       "        vertical-align: middle;\n",
       "    }\n",
       "\n",
       "    .dataframe tbody tr th {\n",
       "        vertical-align: top;\n",
       "    }\n",
       "\n",
       "    .dataframe thead th {\n",
       "        text-align: right;\n",
       "    }\n",
       "</style>\n",
       "<table border=\"1\" class=\"dataframe\">\n",
       "  <thead>\n",
       "    <tr style=\"text-align: right;\">\n",
       "      <th></th>\n",
       "      <th>href</th>\n",
       "      <th>title</th>\n",
       "      <th>description</th>\n",
       "      <th>status</th>\n",
       "    </tr>\n",
       "  </thead>\n",
       "  <tbody>\n",
       "    <tr>\n",
       "      <th>0</th>\n",
       "      <td>https://www.crowdfunder.co.uk/free-assange</td>\n",
       "      <td>Help campaign to Free Julian Assange</td>\n",
       "      <td>Help campaign to Free Julian Assange and Stop ...</td>\n",
       "      <td>funding</td>\n",
       "    </tr>\n",
       "    <tr>\n",
       "      <th>1</th>\n",
       "      <td>https://www.crowdfunder.co.uk/blackout2023</td>\n",
       "      <td>Black Out 2023 | Cannes Lions Festival</td>\n",
       "      <td>Taking Black talent connected to the creative ...</td>\n",
       "      <td>funding</td>\n",
       "    </tr>\n",
       "    <tr>\n",
       "      <th>2</th>\n",
       "      <td>https://www.crowdfunder.co.uk/50-days-to-make-...</td>\n",
       "      <td>50 Days to Make a Difference</td>\n",
       "      <td>Our scientists curate a portfolio of effective...</td>\n",
       "      <td>funding</td>\n",
       "    </tr>\n",
       "    <tr>\n",
       "      <th>3</th>\n",
       "      <td>https://www.crowdfunder.co.uk/saveside</td>\n",
       "      <td>#SAVESIDE</td>\n",
       "      <td>As of 9th April 2023, Side Gallery will close ...</td>\n",
       "      <td>funding</td>\n",
       "    </tr>\n",
       "    <tr>\n",
       "      <th>4</th>\n",
       "      <td>https://www.crowdfunder.co.uk/lets-smash-the-p...</td>\n",
       "      <td>Let's smash the political silence on Brexit</td>\n",
       "      <td>Everyone knows Brexit isn't working, but polit...</td>\n",
       "      <td>funding</td>\n",
       "    </tr>\n",
       "  </tbody>\n",
       "</table>\n",
       "</div>"
      ],
      "text/plain": [
       "                                                href  \\\n",
       "0         https://www.crowdfunder.co.uk/free-assange   \n",
       "1         https://www.crowdfunder.co.uk/blackout2023   \n",
       "2  https://www.crowdfunder.co.uk/50-days-to-make-...   \n",
       "3             https://www.crowdfunder.co.uk/saveside   \n",
       "4  https://www.crowdfunder.co.uk/lets-smash-the-p...   \n",
       "\n",
       "                                         title  \\\n",
       "0         Help campaign to Free Julian Assange   \n",
       "1       Black Out 2023 | Cannes Lions Festival   \n",
       "2                 50 Days to Make a Difference   \n",
       "3                                    #SAVESIDE   \n",
       "4  Let's smash the political silence on Brexit   \n",
       "\n",
       "                                         description   status  \n",
       "0  Help campaign to Free Julian Assange and Stop ...  funding  \n",
       "1  Taking Black talent connected to the creative ...  funding  \n",
       "2  Our scientists curate a portfolio of effective...  funding  \n",
       "3  As of 9th April 2023, Side Gallery will close ...  funding  \n",
       "4  Everyone knows Brexit isn't working, but polit...  funding  "
      ]
     },
     "execution_count": 143,
     "metadata": {},
     "output_type": "execute_result"
    }
   ],
   "source": [
    "df_live = df_bigger.reset_index(drop = True)\n",
    "df_live['status'] = 'funding'\n",
    "df_live.head() # финальный датафрейм с текущими проектами"
   ]
  },
  {
   "attachments": {},
   "cell_type": "markdown",
   "id": "12ac64cf",
   "metadata": {},
   "source": [
    "Парсинг страниц текущих проектов завершён."
   ]
  },
  {
   "attachments": {},
   "cell_type": "markdown",
   "id": "33f96464",
   "metadata": {},
   "source": [
    "Парсим завершённые проекты."
   ]
  },
  {
   "cell_type": "code",
   "execution_count": 141,
   "id": "4c86c528",
   "metadata": {},
   "outputs": [
    {
     "data": {
      "application/vnd.jupyter.widget-view+json": {
       "model_id": "09c401772a42468eaf3f9dfe5e2612c5",
       "version_major": 2,
       "version_minor": 0
      },
      "text/plain": [
       "  0%|          | 0/83 [00:00<?, ?it/s]"
      ]
     },
     "metadata": {},
     "output_type": "display_data"
    }
   ],
   "source": [
    "\n",
    "from tqdm.notebook import tqdm\n",
    "import time\n",
    "\n",
    "MAIN_URL = 'https://www.crowdfunder.co.uk/search/projects?'\n",
    "\n",
    "data_succ = []\n",
    "fails_succ = []\n",
    "for p in tqdm(range(1, 84)):\n",
    "    url = MAIN_URL + f'page={p}&completed=successful&isLive=false&map=off'\n",
    "    try:\n",
    "        tree = get_soup(url)\n",
    "        projects = get_hrefs(tree)\n",
    "        data_succ.extend(projects)\n",
    "        time.sleep(0.1)\n",
    "    except:\n",
    "        fails_succ.append(url)"
   ]
  },
  {
   "attachments": {},
   "cell_type": "markdown",
   "id": "96f7fdf3",
   "metadata": {},
   "source": [
    "Подгржуаем датафрейм с завершёнными проектами, данные собраны выше."
   ]
  },
  {
   "cell_type": "code",
   "execution_count": 15,
   "id": "1d2facef",
   "metadata": {},
   "outputs": [],
   "source": [
    "df_succ_rest = pd.read_pickle('df_succ_store.pkl')"
   ]
  },
  {
   "attachments": {},
   "cell_type": "markdown",
   "id": "dc51bcbb",
   "metadata": {},
   "source": [
    "Вручную добавим страницу, которая не спарсилась."
   ]
  },
  {
   "cell_type": "code",
   "execution_count": 16,
   "id": "1e60e74b",
   "metadata": {},
   "outputs": [],
   "source": [
    "\n",
    "new_18 = []\n",
    "tree = get_soup('https://www.crowdfunder.co.uk/search/projects?page=18&completed=successful&isLive=false&map=off')\n",
    "projects = get_hrefs(tree)\n",
    "new_18.extend(projects)\n",
    "time.sleep(0.1)"
   ]
  },
  {
   "cell_type": "code",
   "execution_count": 145,
   "id": "16fc9848",
   "metadata": {},
   "outputs": [
    {
     "data": {
      "text/html": [
       "<div>\n",
       "<style scoped>\n",
       "    .dataframe tbody tr th:only-of-type {\n",
       "        vertical-align: middle;\n",
       "    }\n",
       "\n",
       "    .dataframe tbody tr th {\n",
       "        vertical-align: top;\n",
       "    }\n",
       "\n",
       "    .dataframe thead th {\n",
       "        text-align: right;\n",
       "    }\n",
       "</style>\n",
       "<table border=\"1\" class=\"dataframe\">\n",
       "  <thead>\n",
       "    <tr style=\"text-align: right;\">\n",
       "      <th></th>\n",
       "      <th>href</th>\n",
       "      <th>title</th>\n",
       "      <th>description</th>\n",
       "    </tr>\n",
       "  </thead>\n",
       "  <tbody>\n",
       "    <tr>\n",
       "      <th>0</th>\n",
       "      <td>https://www.crowdfunder.co.uk/level-up-proport...</td>\n",
       "      <td>Proportional Representation - It’s Now or Never</td>\n",
       "      <td>Despite Boris Johnson’s best efforts, we’ve ne...</td>\n",
       "    </tr>\n",
       "    <tr>\n",
       "      <th>1</th>\n",
       "      <td>https://www.crowdfunder.co.uk/hookpod-technolo...</td>\n",
       "      <td>Hookpod; technology to save seabirds and turtles</td>\n",
       "      <td>We work to make longline fishing safe for mari...</td>\n",
       "    </tr>\n",
       "    <tr>\n",
       "      <th>2</th>\n",
       "      <td>https://www.crowdfunder.co.uk/bringbackbrighto...</td>\n",
       "      <td>#SaveOurTheatres - Bring Back Brighton Dome</td>\n",
       "      <td>We’re part of the #SaveOurTheatres initiative ...</td>\n",
       "    </tr>\n",
       "    <tr>\n",
       "      <th>3</th>\n",
       "      <td>https://www.crowdfunder.co.uk/backthebike</td>\n",
       "      <td>University of Surrey - Back the Bike!</td>\n",
       "      <td>Let's pledge to bring a Pool Bike Scheme to th...</td>\n",
       "    </tr>\n",
       "    <tr>\n",
       "      <th>4</th>\n",
       "      <td>https://www.crowdfunder.co.uk/support-dornoch-...</td>\n",
       "      <td>Dornoch Castle needs you #Covid19 support fund</td>\n",
       "      <td>Covid19 lockdown has wrecked this industry and...</td>\n",
       "    </tr>\n",
       "  </tbody>\n",
       "</table>\n",
       "</div>"
      ],
      "text/plain": [
       "                                                href  \\\n",
       "0  https://www.crowdfunder.co.uk/level-up-proport...   \n",
       "1  https://www.crowdfunder.co.uk/hookpod-technolo...   \n",
       "2  https://www.crowdfunder.co.uk/bringbackbrighto...   \n",
       "3          https://www.crowdfunder.co.uk/backthebike   \n",
       "4  https://www.crowdfunder.co.uk/support-dornoch-...   \n",
       "\n",
       "                                              title  \\\n",
       "0   Proportional Representation - It’s Now or Never   \n",
       "1  Hookpod; technology to save seabirds and turtles   \n",
       "2       #SaveOurTheatres - Bring Back Brighton Dome   \n",
       "3             University of Surrey - Back the Bike!   \n",
       "4    Dornoch Castle needs you #Covid19 support fund   \n",
       "\n",
       "                                         description  \n",
       "0  Despite Boris Johnson’s best efforts, we’ve ne...  \n",
       "1  We work to make longline fishing safe for mari...  \n",
       "2  We’re part of the #SaveOurTheatres initiative ...  \n",
       "3  Let's pledge to bring a Pool Bike Scheme to th...  \n",
       "4  Covid19 lockdown has wrecked this industry and...  "
      ]
     },
     "execution_count": 145,
     "metadata": {},
     "output_type": "execute_result"
    }
   ],
   "source": [
    "import pandas as pd\n",
    "\n",
    "df_18 = pd.DataFrame(new_18)\n",
    "df_18.head()"
   ]
  },
  {
   "cell_type": "code",
   "execution_count": 18,
   "id": "6d6eb402",
   "metadata": {},
   "outputs": [],
   "source": [
    "concatenated_18 = pd.concat([df_succ_rest, df_18])\n",
    "df_bigger2 = concatenated_18.reset_index(drop = True)\n",
    "df_fin = df_bigger2"
   ]
  },
  {
   "cell_type": "code",
   "execution_count": 19,
   "id": "0fe24855",
   "metadata": {},
   "outputs": [
    {
     "data": {
      "text/plain": [
       "href           996\n",
       "title          994\n",
       "description    982\n",
       "dtype: int64"
      ]
     },
     "execution_count": 19,
     "metadata": {},
     "output_type": "execute_result"
    }
   ],
   "source": [
    "df_fin.nunique()"
   ]
  },
  {
   "cell_type": "code",
   "execution_count": 20,
   "id": "ae295f27",
   "metadata": {},
   "outputs": [],
   "source": [
    "df_fin.drop_duplicates(subset=['title'], keep='last', inplace = True) # дропнем повторы"
   ]
  },
  {
   "cell_type": "code",
   "execution_count": 21,
   "id": "59fb9baf",
   "metadata": {},
   "outputs": [
    {
     "data": {
      "text/plain": [
       "href           994\n",
       "title          994\n",
       "description    980\n",
       "dtype: int64"
      ]
     },
     "execution_count": 21,
     "metadata": {},
     "output_type": "execute_result"
    }
   ],
   "source": [
    "df_fin.nunique()"
   ]
  },
  {
   "attachments": {},
   "cell_type": "markdown",
   "id": "ce7b0204",
   "metadata": {},
   "source": [
    " Одинаковое описание у разных частей одного большого проекта, оставим."
   ]
  },
  {
   "cell_type": "code",
   "execution_count": 22,
   "id": "3dce94ee",
   "metadata": {},
   "outputs": [
    {
     "data": {
      "text/html": [
       "<div>\n",
       "<style scoped>\n",
       "    .dataframe tbody tr th:only-of-type {\n",
       "        vertical-align: middle;\n",
       "    }\n",
       "\n",
       "    .dataframe tbody tr th {\n",
       "        vertical-align: top;\n",
       "    }\n",
       "\n",
       "    .dataframe thead th {\n",
       "        text-align: right;\n",
       "    }\n",
       "</style>\n",
       "<table border=\"1\" class=\"dataframe\">\n",
       "  <thead>\n",
       "    <tr style=\"text-align: right;\">\n",
       "      <th></th>\n",
       "      <th>href</th>\n",
       "      <th>title</th>\n",
       "      <th>description</th>\n",
       "    </tr>\n",
       "  </thead>\n",
       "  <tbody>\n",
       "    <tr>\n",
       "      <th>273</th>\n",
       "      <td>https://www.crowdfunder.co.uk/food4heroes-midl...</td>\n",
       "      <td>Food4Heroes Midlands - Feed The NHS</td>\n",
       "      <td>Help feed our NHS frontline staff, your donati...</td>\n",
       "    </tr>\n",
       "    <tr>\n",
       "      <th>343</th>\n",
       "      <td>https://www.crowdfunder.co.uk/food4heroes-york...</td>\n",
       "      <td>Food4Heroes Yorkshire - Help Us Feed NHS Staff</td>\n",
       "      <td>Help feed our NHS frontline staff, your donati...</td>\n",
       "    </tr>\n",
       "    <tr>\n",
       "      <th>462</th>\n",
       "      <td>https://www.crowdfunder.co.uk/save-leatherhead...</td>\n",
       "      <td>Save Leatherhead Theatre</td>\n",
       "      <td>Please join me and make a difference? Every do...</td>\n",
       "    </tr>\n",
       "    <tr>\n",
       "      <th>569</th>\n",
       "      <td>https://www.crowdfunder.co.uk/cheltenhamtownvm...</td>\n",
       "      <td>Cheltenham Town v Manchester City - FA Cup</td>\n",
       "      <td>Crowdfunder is waiving its platform fees for c...</td>\n",
       "    </tr>\n",
       "    <tr>\n",
       "      <th>623</th>\n",
       "      <td>https://www.crowdfunder.co.uk/save-the-finborough</td>\n",
       "      <td>#SaveOurTheatres - Finborough Theatre</td>\n",
       "      <td>We’re part of a national initiative launched b...</td>\n",
       "    </tr>\n",
       "    <tr>\n",
       "      <th>665</th>\n",
       "      <td>https://www.crowdfunder.co.uk/thepostbar-saveo...</td>\n",
       "      <td>#SaveOurVenues - The Post Bar Tottenham</td>\n",
       "      <td>We're one of the music venues identified by MV...</td>\n",
       "    </tr>\n",
       "    <tr>\n",
       "      <th>674</th>\n",
       "      <td>https://www.crowdfunder.co.uk/saveboom</td>\n",
       "      <td>BOOM LEEDS needs your support right now! #Save...</td>\n",
       "      <td>We're one of the music venues identified by MV...</td>\n",
       "    </tr>\n",
       "    <tr>\n",
       "      <th>717</th>\n",
       "      <td>https://www.crowdfunder.co.uk/venue38</td>\n",
       "      <td>#SaveOurVenues - Venue38</td>\n",
       "      <td>We're one of the music venues identified by MV...</td>\n",
       "    </tr>\n",
       "    <tr>\n",
       "      <th>757</th>\n",
       "      <td>https://www.crowdfunder.co.uk/voluntary-action...</td>\n",
       "      <td>Voluntary Action Angus Give Local - Give Angus</td>\n",
       "      <td>Please join me and make a difference? Every do...</td>\n",
       "    </tr>\n",
       "    <tr>\n",
       "      <th>799</th>\n",
       "      <td>https://www.crowdfunder.co.uk/food4heroes-sout...</td>\n",
       "      <td>Food4Heroes South West - Help Us Feed NHS Staff</td>\n",
       "      <td>Help feed our NHS frontline staff, your donati...</td>\n",
       "    </tr>\n",
       "    <tr>\n",
       "      <th>811</th>\n",
       "      <td>https://www.crowdfunder.co.uk/pet-shop-boys-el...</td>\n",
       "      <td>Pet Shop Boys at Electric Ballroom, London</td>\n",
       "      <td>Our aim is to raise urgent funds for the UK's ...</td>\n",
       "    </tr>\n",
       "    <tr>\n",
       "      <th>942</th>\n",
       "      <td>https://www.crowdfunder.co.uk/thelantern</td>\n",
       "      <td>TheLanternHalifax</td>\n",
       "      <td>We're one of the music venues identified by MV...</td>\n",
       "    </tr>\n",
       "    <tr>\n",
       "      <th>972</th>\n",
       "      <td>https://www.crowdfunder.co.uk/savethewedge</td>\n",
       "      <td>#SaveOurVenues - Save The Wedge</td>\n",
       "      <td>We’re part of a national initiative launched b...</td>\n",
       "    </tr>\n",
       "    <tr>\n",
       "      <th>980</th>\n",
       "      <td>https://www.crowdfunder.co.uk/mundellmusicback...</td>\n",
       "      <td>#SaveOurVenues - Mundell Music Backstage</td>\n",
       "      <td>We're one of the music venues identified by MV...</td>\n",
       "    </tr>\n",
       "  </tbody>\n",
       "</table>\n",
       "</div>"
      ],
      "text/plain": [
       "                                                  href  \\\n",
       "273  https://www.crowdfunder.co.uk/food4heroes-midl...   \n",
       "343  https://www.crowdfunder.co.uk/food4heroes-york...   \n",
       "462  https://www.crowdfunder.co.uk/save-leatherhead...   \n",
       "569  https://www.crowdfunder.co.uk/cheltenhamtownvm...   \n",
       "623  https://www.crowdfunder.co.uk/save-the-finborough   \n",
       "665  https://www.crowdfunder.co.uk/thepostbar-saveo...   \n",
       "674             https://www.crowdfunder.co.uk/saveboom   \n",
       "717              https://www.crowdfunder.co.uk/venue38   \n",
       "757  https://www.crowdfunder.co.uk/voluntary-action...   \n",
       "799  https://www.crowdfunder.co.uk/food4heroes-sout...   \n",
       "811  https://www.crowdfunder.co.uk/pet-shop-boys-el...   \n",
       "942           https://www.crowdfunder.co.uk/thelantern   \n",
       "972         https://www.crowdfunder.co.uk/savethewedge   \n",
       "980  https://www.crowdfunder.co.uk/mundellmusicback...   \n",
       "\n",
       "                                                 title  \\\n",
       "273                Food4Heroes Midlands - Feed The NHS   \n",
       "343     Food4Heroes Yorkshire - Help Us Feed NHS Staff   \n",
       "462                           Save Leatherhead Theatre   \n",
       "569         Cheltenham Town v Manchester City - FA Cup   \n",
       "623              #SaveOurTheatres - Finborough Theatre   \n",
       "665            #SaveOurVenues - The Post Bar Tottenham   \n",
       "674  BOOM LEEDS needs your support right now! #Save...   \n",
       "717                           #SaveOurVenues - Venue38   \n",
       "757     Voluntary Action Angus Give Local - Give Angus   \n",
       "799    Food4Heroes South West - Help Us Feed NHS Staff   \n",
       "811         Pet Shop Boys at Electric Ballroom, London   \n",
       "942                                  TheLanternHalifax   \n",
       "972                    #SaveOurVenues - Save The Wedge   \n",
       "980           #SaveOurVenues - Mundell Music Backstage   \n",
       "\n",
       "                                           description  \n",
       "273  Help feed our NHS frontline staff, your donati...  \n",
       "343  Help feed our NHS frontline staff, your donati...  \n",
       "462  Please join me and make a difference? Every do...  \n",
       "569  Crowdfunder is waiving its platform fees for c...  \n",
       "623  We’re part of a national initiative launched b...  \n",
       "665  We're one of the music venues identified by MV...  \n",
       "674  We're one of the music venues identified by MV...  \n",
       "717  We're one of the music venues identified by MV...  \n",
       "757  Please join me and make a difference? Every do...  \n",
       "799  Help feed our NHS frontline staff, your donati...  \n",
       "811  Our aim is to raise urgent funds for the UK's ...  \n",
       "942  We're one of the music venues identified by MV...  \n",
       "972  We’re part of a national initiative launched b...  \n",
       "980  We're one of the music venues identified by MV...  "
      ]
     },
     "execution_count": 22,
     "metadata": {},
     "output_type": "execute_result"
    }
   ],
   "source": [
    "df_fin[df_fin['description'].duplicated()]"
   ]
  },
  {
   "cell_type": "code",
   "execution_count": 146,
   "id": "ab976c10",
   "metadata": {},
   "outputs": [
    {
     "data": {
      "text/html": [
       "<div>\n",
       "<style scoped>\n",
       "    .dataframe tbody tr th:only-of-type {\n",
       "        vertical-align: middle;\n",
       "    }\n",
       "\n",
       "    .dataframe tbody tr th {\n",
       "        vertical-align: top;\n",
       "    }\n",
       "\n",
       "    .dataframe thead th {\n",
       "        text-align: right;\n",
       "    }\n",
       "</style>\n",
       "<table border=\"1\" class=\"dataframe\">\n",
       "  <thead>\n",
       "    <tr style=\"text-align: right;\">\n",
       "      <th></th>\n",
       "      <th>href</th>\n",
       "      <th>title</th>\n",
       "      <th>description</th>\n",
       "      <th>status</th>\n",
       "    </tr>\n",
       "  </thead>\n",
       "  <tbody>\n",
       "    <tr>\n",
       "      <th>0</th>\n",
       "      <td>https://www.crowdfunder.co.uk/unicef</td>\n",
       "      <td>Help UNICEF deliver vital COVID-19 vaccines</td>\n",
       "      <td>When humanity pulls together, nothing can stop...</td>\n",
       "      <td>success</td>\n",
       "    </tr>\n",
       "    <tr>\n",
       "      <th>1</th>\n",
       "      <td>https://www.crowdfunder.co.uk/rbs-fundraiser</td>\n",
       "      <td>NatWest Group</td>\n",
       "      <td>RBS partnering with National Emergencies Trust...</td>\n",
       "      <td>success</td>\n",
       "    </tr>\n",
       "    <tr>\n",
       "      <th>2</th>\n",
       "      <td>https://www.crowdfunder.co.uk/unicef-aus</td>\n",
       "      <td>Help UNICEF Australia deliver 2 billion vaccines</td>\n",
       "      <td>With vaccines rolling out across Australia, we...</td>\n",
       "      <td>success</td>\n",
       "    </tr>\n",
       "    <tr>\n",
       "      <th>3</th>\n",
       "      <td>https://www.crowdfunder.co.uk/glenwyvis-distil...</td>\n",
       "      <td>GlenWyvis Distillery</td>\n",
       "      <td>The Worlds first Community owned Scotch Malt W...</td>\n",
       "      <td>success</td>\n",
       "    </tr>\n",
       "    <tr>\n",
       "      <th>4</th>\n",
       "      <td>https://www.crowdfunder.co.uk/own-our-venues</td>\n",
       "      <td>Own Our Venues</td>\n",
       "      <td>An exciting opportunity for the live music com...</td>\n",
       "      <td>success</td>\n",
       "    </tr>\n",
       "  </tbody>\n",
       "</table>\n",
       "</div>"
      ],
      "text/plain": [
       "                                                href  \\\n",
       "0               https://www.crowdfunder.co.uk/unicef   \n",
       "1       https://www.crowdfunder.co.uk/rbs-fundraiser   \n",
       "2           https://www.crowdfunder.co.uk/unicef-aus   \n",
       "3  https://www.crowdfunder.co.uk/glenwyvis-distil...   \n",
       "4       https://www.crowdfunder.co.uk/own-our-venues   \n",
       "\n",
       "                                              title  \\\n",
       "0       Help UNICEF deliver vital COVID-19 vaccines   \n",
       "1                                     NatWest Group   \n",
       "2  Help UNICEF Australia deliver 2 billion vaccines   \n",
       "3                              GlenWyvis Distillery   \n",
       "4                                    Own Our Venues   \n",
       "\n",
       "                                         description   status  \n",
       "0  When humanity pulls together, nothing can stop...  success  \n",
       "1  RBS partnering with National Emergencies Trust...  success  \n",
       "2  With vaccines rolling out across Australia, we...  success  \n",
       "3  The Worlds first Community owned Scotch Malt W...  success  \n",
       "4  An exciting opportunity for the live music com...  success  "
      ]
     },
     "execution_count": 146,
     "metadata": {},
     "output_type": "execute_result"
    }
   ],
   "source": [
    "df_fin = df_fin.reset_index(drop = True)\n",
    "df_fin['status'] = 'success'\n",
    "df_fin.head() # финальный датафрейм с завершёнными проектами"
   ]
  },
  {
   "attachments": {},
   "cell_type": "markdown",
   "id": "1dfe17c5",
   "metadata": {},
   "source": [
    "Парсинг страниц успешных проектов завершён."
   ]
  },
  {
   "cell_type": "code",
   "execution_count": 24,
   "id": "2c4d7387",
   "metadata": {
    "scrolled": true
   },
   "outputs": [
    {
     "data": {
      "text/html": [
       "<div>\n",
       "<style scoped>\n",
       "    .dataframe tbody tr th:only-of-type {\n",
       "        vertical-align: middle;\n",
       "    }\n",
       "\n",
       "    .dataframe tbody tr th {\n",
       "        vertical-align: top;\n",
       "    }\n",
       "\n",
       "    .dataframe thead th {\n",
       "        text-align: right;\n",
       "    }\n",
       "</style>\n",
       "<table border=\"1\" class=\"dataframe\">\n",
       "  <thead>\n",
       "    <tr style=\"text-align: right;\">\n",
       "      <th></th>\n",
       "      <th>href</th>\n",
       "      <th>title</th>\n",
       "      <th>description</th>\n",
       "      <th>status</th>\n",
       "    </tr>\n",
       "  </thead>\n",
       "  <tbody>\n",
       "    <tr>\n",
       "      <th>0</th>\n",
       "      <td>https://www.crowdfunder.co.uk/free-assange</td>\n",
       "      <td>Help campaign to Free Julian Assange</td>\n",
       "      <td>Help campaign to Free Julian Assange and Stop ...</td>\n",
       "      <td>funding</td>\n",
       "    </tr>\n",
       "    <tr>\n",
       "      <th>1</th>\n",
       "      <td>https://www.crowdfunder.co.uk/blackout2023</td>\n",
       "      <td>Black Out 2023 | Cannes Lions Festival</td>\n",
       "      <td>Taking Black talent connected to the creative ...</td>\n",
       "      <td>funding</td>\n",
       "    </tr>\n",
       "    <tr>\n",
       "      <th>2</th>\n",
       "      <td>https://www.crowdfunder.co.uk/50-days-to-make-...</td>\n",
       "      <td>50 Days to Make a Difference</td>\n",
       "      <td>Our scientists curate a portfolio of effective...</td>\n",
       "      <td>funding</td>\n",
       "    </tr>\n",
       "    <tr>\n",
       "      <th>3</th>\n",
       "      <td>https://www.crowdfunder.co.uk/saveside</td>\n",
       "      <td>#SAVESIDE</td>\n",
       "      <td>As of 9th April 2023, Side Gallery will close ...</td>\n",
       "      <td>funding</td>\n",
       "    </tr>\n",
       "    <tr>\n",
       "      <th>4</th>\n",
       "      <td>https://www.crowdfunder.co.uk/lets-smash-the-p...</td>\n",
       "      <td>Let's smash the political silence on Brexit</td>\n",
       "      <td>Everyone knows Brexit isn't working, but polit...</td>\n",
       "      <td>funding</td>\n",
       "    </tr>\n",
       "    <tr>\n",
       "      <th>...</th>\n",
       "      <td>...</td>\n",
       "      <td>...</td>\n",
       "      <td>...</td>\n",
       "      <td>...</td>\n",
       "    </tr>\n",
       "    <tr>\n",
       "      <th>1970</th>\n",
       "      <td>https://www.crowdfunder.co.uk/cosmickitchen</td>\n",
       "      <td>Cosmic Kitchen - Plymouth Climate Challenge</td>\n",
       "      <td>Back Cosmic Kitchen founders, Gabriela and Luc...</td>\n",
       "      <td>success</td>\n",
       "    </tr>\n",
       "    <tr>\n",
       "      <th>1971</th>\n",
       "      <td>https://www.crowdfunder.co.uk/win-mark-knopfle...</td>\n",
       "      <td>Win Mark Knopfler's Signed Stratocaster Guitar</td>\n",
       "      <td>In aid of Stagehand's #ILoveLive campaign, Mar...</td>\n",
       "      <td>success</td>\n",
       "    </tr>\n",
       "    <tr>\n",
       "      <th>1972</th>\n",
       "      <td>https://www.crowdfunder.co.uk/trusselltrust</td>\n",
       "      <td>Trussell Trust food banks need your support</td>\n",
       "      <td>With your help, we can support food banks duri...</td>\n",
       "      <td>success</td>\n",
       "    </tr>\n",
       "    <tr>\n",
       "      <th>1973</th>\n",
       "      <td>https://www.crowdfunder.co.uk/sustaining-creat...</td>\n",
       "      <td>Sustaining Creativity Fund</td>\n",
       "      <td>Thanks to Spotify and your donations we can su...</td>\n",
       "      <td>success</td>\n",
       "    </tr>\n",
       "    <tr>\n",
       "      <th>1974</th>\n",
       "      <td>https://www.crowdfunder.co.uk/womensequalitylo...</td>\n",
       "      <td>Help the Women’s Equality Party win in London ...</td>\n",
       "      <td>Invest in equality and help us raise our elect...</td>\n",
       "      <td>success</td>\n",
       "    </tr>\n",
       "  </tbody>\n",
       "</table>\n",
       "<p>1975 rows × 4 columns</p>\n",
       "</div>"
      ],
      "text/plain": [
       "                                                   href  \\\n",
       "0            https://www.crowdfunder.co.uk/free-assange   \n",
       "1            https://www.crowdfunder.co.uk/blackout2023   \n",
       "2     https://www.crowdfunder.co.uk/50-days-to-make-...   \n",
       "3                https://www.crowdfunder.co.uk/saveside   \n",
       "4     https://www.crowdfunder.co.uk/lets-smash-the-p...   \n",
       "...                                                 ...   \n",
       "1970        https://www.crowdfunder.co.uk/cosmickitchen   \n",
       "1971  https://www.crowdfunder.co.uk/win-mark-knopfle...   \n",
       "1972        https://www.crowdfunder.co.uk/trusselltrust   \n",
       "1973  https://www.crowdfunder.co.uk/sustaining-creat...   \n",
       "1974  https://www.crowdfunder.co.uk/womensequalitylo...   \n",
       "\n",
       "                                                  title  \\\n",
       "0                  Help campaign to Free Julian Assange   \n",
       "1                Black Out 2023 | Cannes Lions Festival   \n",
       "2                          50 Days to Make a Difference   \n",
       "3                                             #SAVESIDE   \n",
       "4           Let's smash the political silence on Brexit   \n",
       "...                                                 ...   \n",
       "1970        Cosmic Kitchen - Plymouth Climate Challenge   \n",
       "1971     Win Mark Knopfler's Signed Stratocaster Guitar   \n",
       "1972        Trussell Trust food banks need your support   \n",
       "1973                         Sustaining Creativity Fund   \n",
       "1974  Help the Women’s Equality Party win in London ...   \n",
       "\n",
       "                                            description   status  \n",
       "0     Help campaign to Free Julian Assange and Stop ...  funding  \n",
       "1     Taking Black talent connected to the creative ...  funding  \n",
       "2     Our scientists curate a portfolio of effective...  funding  \n",
       "3     As of 9th April 2023, Side Gallery will close ...  funding  \n",
       "4     Everyone knows Brexit isn't working, but polit...  funding  \n",
       "...                                                 ...      ...  \n",
       "1970  Back Cosmic Kitchen founders, Gabriela and Luc...  success  \n",
       "1971  In aid of Stagehand's #ILoveLive campaign, Mar...  success  \n",
       "1972  With your help, we can support food banks duri...  success  \n",
       "1973  Thanks to Spotify and your donations we can su...  success  \n",
       "1974  Invest in equality and help us raise our elect...  success  \n",
       "\n",
       "[1975 rows x 4 columns]"
      ]
     },
     "execution_count": 24,
     "metadata": {},
     "output_type": "execute_result"
    }
   ],
   "source": [
    "concatenated = pd.concat([df_live, df_fin])\n",
    "df1 = concatenated.reset_index(drop = True)\n",
    "df1 # совмещаем датафреймы"
   ]
  },
  {
   "attachments": {},
   "cell_type": "markdown",
   "id": "4a1ae1ff",
   "metadata": {},
   "source": [
    "Напишем несколько функций, котрые собирают инфу с индивилуальной страницы проекта."
   ]
  },
  {
   "cell_type": "code",
   "execution_count": 38,
   "id": "4517f024",
   "metadata": {},
   "outputs": [],
   "source": [
    "df1.to_pickle('df1_main.pkl') # сохраняем датафрейм в пикл"
   ]
  },
  {
   "cell_type": "code",
   "execution_count": 149,
   "id": "b66052fe",
   "metadata": {
    "scrolled": true
   },
   "outputs": [
    {
     "data": {
      "text/plain": [
       "['https://www.crowdfunder.co.uk/free-assange',\n",
       " 'https://www.crowdfunder.co.uk/blackout2023',\n",
       " 'https://www.crowdfunder.co.uk/50-days-to-make-a-difference',\n",
       " 'https://www.crowdfunder.co.uk/saveside',\n",
       " 'https://www.crowdfunder.co.uk/lets-smash-the-political-silence-on-brexit']"
      ]
     },
     "execution_count": 149,
     "metadata": {},
     "output_type": "execute_result"
    }
   ],
   "source": [
    "links = df1['href'].values\n",
    "links = links.tolist() # все собранные ссылки\n",
    "links[0:5] "
   ]
  },
  {
   "cell_type": "code",
   "execution_count": 30,
   "id": "76bd596b",
   "metadata": {},
   "outputs": [],
   "source": [
    "mysoup = get_soup('https://www.crowdfunder.co.uk/p/re-open-p-franco')"
   ]
  },
  {
   "cell_type": "code",
   "execution_count": 20,
   "id": "2ab7aad9",
   "metadata": {},
   "outputs": [],
   "source": [
    "# функция собирает контент проекта\n",
    "def get_content(soup):\n",
    "    return soup.find('section', {'class': 'cf-site__content'})\n",
    "\n",
    "# content = get_content(mysoup)\n",
    "# content"
   ]
  },
  {
   "cell_type": "code",
   "execution_count": 85,
   "id": "331750be",
   "metadata": {},
   "outputs": [],
   "source": [
    "content_fin = get_content(get_soup('https://www.crowdfunder.co.uk/p/stockton-swim-scheme-cost-of-living-help'))\n",
    "# content_fin"
   ]
  },
  {
   "cell_type": "code",
   "execution_count": 27,
   "id": "47b3a320",
   "metadata": {},
   "outputs": [],
   "source": [
    "# собираем локацию\n",
    "def get_loc(content):\n",
    "    try:\n",
    "        loc = content.find('h2', {'class': 'cf-text cf-text--body cf-text--dark cf-text--l2c'}).text\n",
    "        location = loc.split('\\xa0in\\xa0')[1]\n",
    "    except AttributeError:\n",
    "        location = 'null'\n",
    "    return location"
   ]
  },
  {
   "cell_type": "code",
   "execution_count": 59,
   "id": "e3238b17",
   "metadata": {},
   "outputs": [
    {
     "name": "stdout",
     "output_type": "stream",
     "text": [
      "Bridport, Dorset, United Kingdom\n"
     ]
    }
   ],
   "source": [
    "print(get_loc(content))"
   ]
  },
  {
   "attachments": {},
   "cell_type": "markdown",
   "id": "474ced6c",
   "metadata": {},
   "source": [
    "Функции для текущих проектов."
   ]
  },
  {
   "cell_type": "code",
   "execution_count": 32,
   "id": "41edd179",
   "metadata": {},
   "outputs": [
    {
     "data": {
      "text/plain": [
       "30000"
      ]
     },
     "execution_count": 32,
     "metadata": {},
     "output_type": "execute_result"
    }
   ],
   "source": [
    "# собираем денежную цель, если это текущий проект\n",
    "goal = content.find('span', {'class': 'cf-text--dark cf-text--thick'}).text\n",
    "goal_int = int(goal[1:].replace(\",\",\"\"))\n",
    "goal_int"
   ]
  },
  {
   "cell_type": "code",
   "execution_count": 61,
   "id": "fc59db4a",
   "metadata": {},
   "outputs": [
    {
     "data": {
      "text/plain": [
       "1.32"
      ]
     },
     "execution_count": 61,
     "metadata": {},
     "output_type": "execute_result"
    }
   ],
   "source": [
    "# собираем уровень достижения цели, если это текущий проект\n",
    "rate = content.find('span', {'class': 'cf-text cf-text--fixed14 cf-text--dark cf-text--thick'}).text\n",
    "mult = int(rate[:-1]) / 100\n",
    "mult"
   ]
  },
  {
   "cell_type": "code",
   "execution_count": 33,
   "id": "208e8367",
   "metadata": {},
   "outputs": [],
   "source": [
    "# в случае текущего проекта собираем цель и уровень готовности, в случае завершённого проекта собираем собранные деньги\n",
    "#и длительность проекта\n",
    "def get_money_rate(content):\n",
    "    try:\n",
    "        goal = content.find('span', {'class': 'cf-text--dark cf-text--thick'}).text\n",
    "        rate = content.find('span', {'class': 'cf-text cf-text--fixed14 cf-text--dark cf-text--thick'}).text\n",
    "        money = int(goal[1:].replace(\",\",\"\"))\n",
    "        mult = int(rate[:-1]) / 100\n",
    "        days = 'null'\n",
    "    except AttributeError:\n",
    "        try:\n",
    "            report = content.find('span', {'class': 'cf-text cf-text--thin'}).text\n",
    "            report1 = report.split('£')[1].split(' with')\n",
    "            money = int(report1[0].replace(\",\",\"\"))\n",
    "            days = int(((report1[1].split('in '))[1].split())[0])\n",
    "            mult = 'null'\n",
    "        except:\n",
    "            mult = 'null'\n",
    "            money = 'null'\n",
    "            days = 'null'\n",
    "    return money, mult, days    "
   ]
  },
  {
   "cell_type": "code",
   "execution_count": 66,
   "id": "8418dfe7",
   "metadata": {},
   "outputs": [
    {
     "data": {
      "text/plain": [
       "(20093, 'null', 42)"
      ]
     },
     "execution_count": 66,
     "metadata": {},
     "output_type": "execute_result"
    }
   ],
   "source": [
    "get_money_rate(content_fin)"
   ]
  },
  {
   "cell_type": "code",
   "execution_count": 101,
   "id": "fd3bff85",
   "metadata": {},
   "outputs": [],
   "source": [
    "# собираем теги\n",
    "def get_tags(content):\n",
    "    try:\n",
    "        tags = content.find('div', {'data-tip-box': 'bookmark'})\n",
    "        mytags  =tags.find_all('a', {'class': 'cf-text cf-text--fixed14 cf-text--light'})\n",
    "        return [item.text for item in mytags]\n",
    "    except:\n",
    "        return 'null' #обновление функции, чтобы спарсить страницы без тэгов"
   ]
  },
  {
   "cell_type": "code",
   "execution_count": 86,
   "id": "31532bc5",
   "metadata": {},
   "outputs": [
    {
     "data": {
      "text/plain": [
       "['Community', 'Sports']"
      ]
     },
     "execution_count": 86,
     "metadata": {},
     "output_type": "execute_result"
    }
   ],
   "source": [
    "get_tags(content_fin)"
   ]
  },
  {
   "cell_type": "code",
   "execution_count": 96,
   "id": "f2479528",
   "metadata": {},
   "outputs": [],
   "source": [
    "# def get_fb_shares(content):\n",
    "#     return content.find('div', {'data-layout': 'center-left'}) - почему-то не собирает шэры на фейсбуке"
   ]
  },
  {
   "cell_type": "code",
   "execution_count": 35,
   "id": "03bf5cd2",
   "metadata": {},
   "outputs": [],
   "source": [
    "# собираем показатели силы сообщества\n",
    "def get_community(content):\n",
    "    communic = content.find('ul', {'class': 'cf-nav__list cf-horizontal-nav__elem'})\n",
    "    upd = communic.find('span', {'aria-label': 'Number of updates'}).text\n",
    "    comm = communic.find('span', {'aria-label': 'Number of comments'}).text\n",
    "    try:\n",
    "        supp = communic.find('span', {'aria-label': 'Number of investors'}).text\n",
    "    except AttributeError:\n",
    "        supp = communic.find('span', {'aria-label': 'Number of supporters'}).text\n",
    "    community = {'upd': upd, 'comm': comm, 'supp': supp}\n",
    "    return community"
   ]
  },
  {
   "cell_type": "code",
   "execution_count": 158,
   "id": "7836f776",
   "metadata": {},
   "outputs": [
    {
     "data": {
      "text/plain": [
       "{'upd': '5', 'comm': '425', 'supp': '916'}"
      ]
     },
     "execution_count": 158,
     "metadata": {},
     "output_type": "execute_result"
    }
   ],
   "source": [
    "get_community(content)"
   ]
  },
  {
   "cell_type": "code",
   "execution_count": 36,
   "id": "2710db0f",
   "metadata": {},
   "outputs": [],
   "source": [
    "# србираем кол-во вознаграждений\n",
    "def get_rewards_num(content):\n",
    "    try:\n",
    "        rewards = content.find_all('article', {'data-well': 'reward'})\n",
    "        num_rewards = len(rewards)\n",
    "    except AttributeError:\n",
    "        num_rewards = 'null'\n",
    "    return num_rewards"
   ]
  },
  {
   "cell_type": "code",
   "execution_count": 103,
   "id": "9d1570a1",
   "metadata": {},
   "outputs": [
    {
     "data": {
      "text/plain": [
       "1"
      ]
     },
     "execution_count": 103,
     "metadata": {},
     "output_type": "execute_result"
    }
   ],
   "source": [
    "get_rewards_num(content)"
   ]
  },
  {
   "cell_type": "code",
   "execution_count": 178,
   "id": "4c94c585",
   "metadata": {},
   "outputs": [
    {
     "data": {
      "text/plain": [
       "['https://www.crowdfunder.co.uk/safe-passage-legal',\n",
       " 'https://www.crowdfunder.co.uk/greenandstone',\n",
       " 'https://www.crowdfunder.co.uk/bromsgroverugby']"
      ]
     },
     "execution_count": 178,
     "metadata": {},
     "output_type": "execute_result"
    }
   ],
   "source": [
    "# сэмпл 3 рандомных ссылок из базы\n",
    "from random import sample\n",
    "babylinks = sample(links, 3)\n",
    "babylinks"
   ]
  },
  {
   "attachments": {},
   "cell_type": "markdown",
   "id": "3d617d1c",
   "metadata": {},
   "source": [
    "Проходимся по ссылкам из сэмпла и собираем инфу."
   ]
  },
  {
   "cell_type": "code",
   "execution_count": 179,
   "id": "b1da05cd",
   "metadata": {},
   "outputs": [
    {
     "data": {
      "application/vnd.jupyter.widget-view+json": {
       "model_id": "6886a415ad824038bc9527764b173c3e",
       "version_major": 2,
       "version_minor": 0
      },
      "text/plain": [
       "  0%|          | 0/3 [00:00<?, ?it/s]"
      ]
     },
     "metadata": {},
     "output_type": "display_data"
    }
   ],
   "source": [
    "\n",
    "from tqdm.notebook import tqdm\n",
    "\n",
    "hrefs_data = []\n",
    "failed_links = []\n",
    "for link in tqdm(babylinks):\n",
    "    features = {'href': link}\n",
    "    try:\n",
    "        soup = get_soup(link)\n",
    "        content = get_content(soup)\n",
    "        progress = get_money_rate(content)\n",
    "        features.update({'location': get_loc(content)})\n",
    "        features.update({'money': progress[0]})\n",
    "        features.update({'rate': progress[1]})\n",
    "        features.update({'days': progress[2]})\n",
    "        features.update({'tags': get_tags(content)})\n",
    "        features.update({'rewards_num': get_rewards_num(content)})\n",
    "        community = get_community(content)\n",
    "        features.update(community)\n",
    "        hrefs_data.append(features)\n",
    "    except:\n",
    "        failed_links.append(link)"
   ]
  },
  {
   "attachments": {},
   "cell_type": "markdown",
   "id": "52394490",
   "metadata": {},
   "source": [
    "Проходимся по ссылкам из всего датафрейма и собираем инфу."
   ]
  },
  {
   "cell_type": "code",
   "execution_count": 185,
   "id": "ad8baf5a",
   "metadata": {},
   "outputs": [
    {
     "data": {
      "application/vnd.jupyter.widget-view+json": {
       "model_id": "de63f4afa40d4d3a85f41c15095916ec",
       "version_major": 2,
       "version_minor": 0
      },
      "text/plain": [
       "  0%|          | 0/1976 [00:00<?, ?it/s]"
      ]
     },
     "metadata": {},
     "output_type": "display_data"
    }
   ],
   "source": [
    "\n",
    "from tqdm.notebook import tqdm\n",
    "\n",
    "hrefs_details = []\n",
    "failed_links = []\n",
    "for link in tqdm(links):\n",
    "    features = {'href': link}\n",
    "    try:\n",
    "        soup = get_soup(link)\n",
    "        content = get_content(soup)\n",
    "        progress = get_money_rate(content)\n",
    "        features.update({'location': get_loc(content)})\n",
    "        features.update({'money': progress[0]})\n",
    "        features.update({'rate': progress[1]})\n",
    "        features.update({'days': progress[2]})\n",
    "        features.update({'tags': get_tags(content)})\n",
    "        features.update({'rewards_num': get_rewards_num(content)})\n",
    "        community = get_community(content)\n",
    "        features.update(community)\n",
    "        hrefs_details.append(features)\n",
    "    except:\n",
    "        failed_links.append(link)"
   ]
  },
  {
   "cell_type": "code",
   "execution_count": 187,
   "id": "608a6aba",
   "metadata": {},
   "outputs": [
    {
     "data": {
      "text/plain": [
       "1899"
      ]
     },
     "execution_count": 187,
     "metadata": {},
     "output_type": "execute_result"
    }
   ],
   "source": [
    "len(hrefs_details) # успешные 1899 ссылок из 1975, отлично"
   ]
  },
  {
   "cell_type": "code",
   "execution_count": null,
   "id": "83d0db4f",
   "metadata": {},
   "outputs": [],
   "source": [
    "df_details = pd.DataFrame(hrefs_details)"
   ]
  },
  {
   "cell_type": "code",
   "execution_count": 192,
   "id": "6442448b",
   "metadata": {},
   "outputs": [],
   "source": [
    "df_details.to_pickle('df_details_store.pkl') # сохраняем датафрейм в пикл"
   ]
  },
  {
   "cell_type": "code",
   "execution_count": 195,
   "id": "6be1358c",
   "metadata": {},
   "outputs": [
    {
     "data": {
      "text/plain": [
       "273016"
      ]
     },
     "execution_count": 195,
     "metadata": {},
     "output_type": "execute_result"
    }
   ],
   "source": [
    "file_out = r'C:/Users/anfey/Desktop/df_details.csv' # сохраняем датафрейм в таблицу\n",
    "df_details.to_csv(file_out)\n",
    "file_data = open(file_out, 'rb').read()\n",
    "open(file_out, 'wb').write(file_data[:-2])"
   ]
  },
  {
   "cell_type": "code",
   "execution_count": 154,
   "id": "6dd329bb",
   "metadata": {},
   "outputs": [
    {
     "data": {
      "text/html": [
       "<div>\n",
       "<style scoped>\n",
       "    .dataframe tbody tr th:only-of-type {\n",
       "        vertical-align: middle;\n",
       "    }\n",
       "\n",
       "    .dataframe tbody tr th {\n",
       "        vertical-align: top;\n",
       "    }\n",
       "\n",
       "    .dataframe thead th {\n",
       "        text-align: right;\n",
       "    }\n",
       "</style>\n",
       "<table border=\"1\" class=\"dataframe\">\n",
       "  <thead>\n",
       "    <tr style=\"text-align: right;\">\n",
       "      <th></th>\n",
       "      <th>href</th>\n",
       "      <th>location</th>\n",
       "      <th>money</th>\n",
       "      <th>rate</th>\n",
       "      <th>days</th>\n",
       "      <th>tags</th>\n",
       "      <th>rewards_num</th>\n",
       "      <th>upd</th>\n",
       "      <th>comm</th>\n",
       "      <th>supp</th>\n",
       "    </tr>\n",
       "  </thead>\n",
       "  <tbody>\n",
       "    <tr>\n",
       "      <th>0</th>\n",
       "      <td>https://www.crowdfunder.co.uk/free-assange</td>\n",
       "      <td>London, Greater London, United Kingdom</td>\n",
       "      <td>300000</td>\n",
       "      <td>0.61</td>\n",
       "      <td>null</td>\n",
       "      <td>[Community, Personal Causes]</td>\n",
       "      <td>0</td>\n",
       "      <td>22</td>\n",
       "      <td>1242</td>\n",
       "      <td>3576</td>\n",
       "    </tr>\n",
       "    <tr>\n",
       "      <th>1</th>\n",
       "      <td>https://www.crowdfunder.co.uk/blackout2023</td>\n",
       "      <td>London, Greater London, United Kingdom</td>\n",
       "      <td>100000</td>\n",
       "      <td>0.84</td>\n",
       "      <td>null</td>\n",
       "      <td>[Business, Music]</td>\n",
       "      <td>0</td>\n",
       "      <td>0</td>\n",
       "      <td>9</td>\n",
       "      <td>24</td>\n",
       "    </tr>\n",
       "    <tr>\n",
       "      <th>2</th>\n",
       "      <td>https://www.crowdfunder.co.uk/50-days-to-make-...</td>\n",
       "      <td>London, Greater London, United Kingdom</td>\n",
       "      <td>150000</td>\n",
       "      <td>0.55</td>\n",
       "      <td>null</td>\n",
       "      <td>[Environment]</td>\n",
       "      <td>3</td>\n",
       "      <td>0</td>\n",
       "      <td>11</td>\n",
       "      <td>68</td>\n",
       "    </tr>\n",
       "    <tr>\n",
       "      <th>3</th>\n",
       "      <td>https://www.crowdfunder.co.uk/saveside</td>\n",
       "      <td>Newcastle upon Tyne, Tyne and Wear, United Kin...</td>\n",
       "      <td>75000</td>\n",
       "      <td>1.04</td>\n",
       "      <td>null</td>\n",
       "      <td>[Creative &amp; Arts]</td>\n",
       "      <td>0</td>\n",
       "      <td>5</td>\n",
       "      <td>694</td>\n",
       "      <td>1806</td>\n",
       "    </tr>\n",
       "    <tr>\n",
       "      <th>4</th>\n",
       "      <td>https://www.crowdfunder.co.uk/lets-smash-the-p...</td>\n",
       "      <td>London, Greater London, United Kingdom</td>\n",
       "      <td>100000</td>\n",
       "      <td>0.6</td>\n",
       "      <td>null</td>\n",
       "      <td>[Politics]</td>\n",
       "      <td>6</td>\n",
       "      <td>1</td>\n",
       "      <td>407</td>\n",
       "      <td>2391</td>\n",
       "    </tr>\n",
       "  </tbody>\n",
       "</table>\n",
       "</div>"
      ],
      "text/plain": [
       "                                                href  \\\n",
       "0         https://www.crowdfunder.co.uk/free-assange   \n",
       "1         https://www.crowdfunder.co.uk/blackout2023   \n",
       "2  https://www.crowdfunder.co.uk/50-days-to-make-...   \n",
       "3             https://www.crowdfunder.co.uk/saveside   \n",
       "4  https://www.crowdfunder.co.uk/lets-smash-the-p...   \n",
       "\n",
       "                                            location   money  rate  days  \\\n",
       "0             London, Greater London, United Kingdom  300000  0.61  null   \n",
       "1             London, Greater London, United Kingdom  100000  0.84  null   \n",
       "2             London, Greater London, United Kingdom  150000  0.55  null   \n",
       "3  Newcastle upon Tyne, Tyne and Wear, United Kin...   75000  1.04  null   \n",
       "4             London, Greater London, United Kingdom  100000   0.6  null   \n",
       "\n",
       "                           tags  rewards_num upd  comm  supp  \n",
       "0  [Community, Personal Causes]            0  22  1242  3576  \n",
       "1             [Business, Music]            0   0     9    24  \n",
       "2                 [Environment]            3   0    11    68  \n",
       "3             [Creative & Arts]            0   5   694  1806  \n",
       "4                    [Politics]            6   1   407  2391  "
      ]
     },
     "execution_count": 154,
     "metadata": {},
     "output_type": "execute_result"
    }
   ],
   "source": [
    "df2 = pd.read_pickle('df_details_store.pkl')\n",
    "df2.head()"
   ]
  },
  {
   "cell_type": "code",
   "execution_count": 197,
   "id": "5a9cdb02",
   "metadata": {},
   "outputs": [
    {
     "name": "stdout",
     "output_type": "stream",
     "text": [
      "Done\n"
     ]
    }
   ],
   "source": [
    "with open(r'C:/Users/anfey/Desktop/fails.csv', 'w') as fp:\n",
    "    for item in failed_links:\n",
    "        # write each item on a new line\n",
    "        fp.write(\"%s\\n\" % item)\n",
    "    print('Done') # сохраняем фейлы"
   ]
  },
  {
   "cell_type": "code",
   "execution_count": 45,
   "id": "6e64d15a",
   "metadata": {},
   "outputs": [],
   "source": [
    "with open(r'C:/Users/anfey/Desktop/fails.csv') as file:\n",
    "    hrefs = file.read()"
   ]
  },
  {
   "cell_type": "code",
   "execution_count": 151,
   "id": "f4f15407",
   "metadata": {},
   "outputs": [
    {
     "data": {
      "text/plain": [
       "['https://www.crowdfunder.co.uk/prevent-holiday-hunger-for-kids-this-winter',\n",
       " 'https://www.crowdfunder.co.uk/the-dodgy-free-peace-sweet-charity-give-away',\n",
       " 'https://www.crowdfunder.co.uk/rebeccas-mind-half-marathon',\n",
       " 'https://www.crowdfunder.co.uk/this-community-heart-needs-to-keep-beating',\n",
       " 'https://www.crowdfunder.co.uk/international-punjabi-conference']"
      ]
     },
     "execution_count": 151,
     "metadata": {},
     "output_type": "execute_result"
    }
   ],
   "source": [
    "fails = hrefs.split('\\n')[:-1]\n",
    "fails[0:5]"
   ]
  },
  {
   "attachments": {},
   "cell_type": "markdown",
   "id": "007b6e8b",
   "metadata": {},
   "source": [
    "Далее пройдёмся по ссылкам, которые не удаллось спарсить, и напишем отдельные функции, чтобы заполнить пропуски в данных."
   ]
  },
  {
   "attachments": {},
   "cell_type": "markdown",
   "id": "cabe32f7",
   "metadata": {},
   "source": [
    "Собираем финансирование в абсолютном выражении для проектов благотворительности."
   ]
  },
  {
   "cell_type": "code",
   "execution_count": 1,
   "id": "12b8bf95",
   "metadata": {},
   "outputs": [],
   "source": [
    "\n",
    "def get_charity(content):\n",
    "    char = content.find('span', {'class': 'cf-text cf-text--fixed14 cf-text--thin'}).text\n",
    "    return char"
   ]
  },
  {
   "cell_type": "code",
   "execution_count": 77,
   "id": "e60ed26b",
   "metadata": {},
   "outputs": [
    {
     "data": {
      "application/vnd.jupyter.widget-view+json": {
       "model_id": "270fb550600d4ece823d4dd57f0de83d",
       "version_major": 2,
       "version_minor": 0
      },
      "text/plain": [
       "  0%|          | 0/77 [00:00<?, ?it/s]"
      ]
     },
     "metadata": {},
     "output_type": "display_data"
    }
   ],
   "source": [
    "from tqdm.notebook import tqdm \n",
    "# существует тип проектов charity\n",
    "charity_all = []\n",
    "no_charity = []\n",
    "for link in tqdm(fails):\n",
    "    features = {'href': link}\n",
    "    try:\n",
    "        soup = get_soup(link)\n",
    "        content = get_content(soup)\n",
    "        char_num = get_charity(content)\n",
    "        features.update({'char': char_num})\n",
    "        charity_all.append(features)\n",
    "    except:\n",
    "        no_charity.append(link)"
   ]
  },
  {
   "cell_type": "code",
   "execution_count": 152,
   "id": "144e83de",
   "metadata": {},
   "outputs": [
    {
     "data": {
      "text/plain": [
       "14"
      ]
     },
     "execution_count": 152,
     "metadata": {},
     "output_type": "execute_result"
    }
   ],
   "source": [
    "char_del = []\n",
    "for i in charity_all:\n",
    "    href = i['href']\n",
    "    char_del.append(href)\n",
    "len(char_del)"
   ]
  },
  {
   "cell_type": "code",
   "execution_count": 100,
   "id": "3fa562f9",
   "metadata": {},
   "outputs": [
    {
     "data": {
      "text/plain": [
       "63"
      ]
     },
     "execution_count": 100,
     "metadata": {},
     "output_type": "execute_result"
    }
   ],
   "source": [
    "fails_upd =  [item for item in fails if item not in char_del]\n",
    "len(fails_upd) # charity преоктов менее 1% от всей выборки"
   ]
  },
  {
   "cell_type": "code",
   "execution_count": 108,
   "id": "6a85a96b",
   "metadata": {},
   "outputs": [
    {
     "data": {
      "application/vnd.jupyter.widget-view+json": {
       "model_id": "c935aadae3654cc4a418030c2252a5c7",
       "version_major": 2,
       "version_minor": 0
      },
      "text/plain": [
       "  0%|          | 0/59 [00:00<?, ?it/s]"
      ]
     },
     "metadata": {},
     "output_type": "display_data"
    }
   ],
   "source": [
    "from tqdm.notebook import tqdm\n",
    "\n",
    "hrefs_notags = []\n",
    "fails_notags = []\n",
    "for link in tqdm(fails_upd[4:]): # многие ссылки выдают ошибку 404, так что попробуем доп. собрать только проекты без тэгов\n",
    "    features = {'href': link}\n",
    "    try:\n",
    "        soup = get_soup(link)\n",
    "        content = get_content(soup)\n",
    "        progress = get_money_rate(content)\n",
    "        features.update({'location': get_loc(content)})\n",
    "        features.update({'money': progress[0]})\n",
    "        features.update({'rate': progress[1]})\n",
    "        features.update({'days': progress[2]})\n",
    "        features.update({'tags': get_tags(content)})\n",
    "        features.update({'rewards_num': get_rewards_num(content)})\n",
    "        community = get_community(content)\n",
    "        features.update(community)\n",
    "        hrefs_notags.append(features)\n",
    "    except:\n",
    "        fails_notags.append(link)"
   ]
  },
  {
   "cell_type": "code",
   "execution_count": 110,
   "id": "16aa0dd9",
   "metadata": {},
   "outputs": [
    {
     "data": {
      "text/plain": [
       "53"
      ]
     },
     "execution_count": 110,
     "metadata": {},
     "output_type": "execute_result"
    }
   ],
   "source": [
    "len(hrefs_notags) # вау, оказалось, больше половины страниц сначала не спарсились из-за отсутствия тэга"
   ]
  },
  {
   "cell_type": "code",
   "execution_count": 120,
   "id": "93daa93b",
   "metadata": {
    "scrolled": true
   },
   "outputs": [
    {
     "data": {
      "text/plain": [
       "(1899, 10)"
      ]
     },
     "execution_count": 120,
     "metadata": {},
     "output_type": "execute_result"
    }
   ],
   "source": [
    "df2.shape"
   ]
  },
  {
   "cell_type": "code",
   "execution_count": 121,
   "id": "c4866f86",
   "metadata": {},
   "outputs": [
    {
     "data": {
      "text/html": [
       "<div>\n",
       "<style scoped>\n",
       "    .dataframe tbody tr th:only-of-type {\n",
       "        vertical-align: middle;\n",
       "    }\n",
       "\n",
       "    .dataframe tbody tr th {\n",
       "        vertical-align: top;\n",
       "    }\n",
       "\n",
       "    .dataframe thead th {\n",
       "        text-align: right;\n",
       "    }\n",
       "</style>\n",
       "<table border=\"1\" class=\"dataframe\">\n",
       "  <thead>\n",
       "    <tr style=\"text-align: right;\">\n",
       "      <th></th>\n",
       "      <th>href</th>\n",
       "      <th>location</th>\n",
       "      <th>money</th>\n",
       "      <th>rate</th>\n",
       "      <th>days</th>\n",
       "      <th>tags</th>\n",
       "      <th>rewards_num</th>\n",
       "      <th>upd</th>\n",
       "      <th>comm</th>\n",
       "      <th>supp</th>\n",
       "    </tr>\n",
       "  </thead>\n",
       "  <tbody>\n",
       "    <tr>\n",
       "      <th>0</th>\n",
       "      <td>https://www.crowdfunder.co.uk/notmyking</td>\n",
       "      <td>London, Greater London, United Kingdom</td>\n",
       "      <td>60000</td>\n",
       "      <td>0.6</td>\n",
       "      <td>null</td>\n",
       "      <td>[Politics]</td>\n",
       "      <td>0</td>\n",
       "      <td>2</td>\n",
       "      <td>539</td>\n",
       "      <td>1162</td>\n",
       "    </tr>\n",
       "    <tr>\n",
       "      <th>1</th>\n",
       "      <td>https://www.crowdfunder.co.uk/crowdfund-dartmo...</td>\n",
       "      <td>Plymouth</td>\n",
       "      <td>339930</td>\n",
       "      <td>null</td>\n",
       "      <td>35</td>\n",
       "      <td>null</td>\n",
       "      <td>42</td>\n",
       "      <td>6</td>\n",
       "      <td>186</td>\n",
       "      <td>740</td>\n",
       "    </tr>\n",
       "    <tr>\n",
       "      <th>2</th>\n",
       "      <td>https://www.crowdfunder.co.uk/thewavebristol</td>\n",
       "      <td>Bristol</td>\n",
       "      <td>219473</td>\n",
       "      <td>null</td>\n",
       "      <td>28</td>\n",
       "      <td>null</td>\n",
       "      <td>23</td>\n",
       "      <td>2</td>\n",
       "      <td>198</td>\n",
       "      <td>937</td>\n",
       "    </tr>\n",
       "    <tr>\n",
       "      <th>3</th>\n",
       "      <td>https://www.crowdfunder.co.uk/sole-of-discretion</td>\n",
       "      <td>Plymouth</td>\n",
       "      <td>142055</td>\n",
       "      <td>null</td>\n",
       "      <td>35</td>\n",
       "      <td>null</td>\n",
       "      <td>17</td>\n",
       "      <td>7</td>\n",
       "      <td>16</td>\n",
       "      <td>70</td>\n",
       "    </tr>\n",
       "    <tr>\n",
       "      <th>4</th>\n",
       "      <td>https://www.crowdfunder.co.uk/funding-the-firs...</td>\n",
       "      <td>Aberdeen, Scotland, United Kingdom</td>\n",
       "      <td>121093</td>\n",
       "      <td>null</td>\n",
       "      <td>8</td>\n",
       "      <td>null</td>\n",
       "      <td>8</td>\n",
       "      <td>3</td>\n",
       "      <td>371</td>\n",
       "      <td>1015</td>\n",
       "    </tr>\n",
       "  </tbody>\n",
       "</table>\n",
       "</div>"
      ],
      "text/plain": [
       "                                                href  \\\n",
       "0            https://www.crowdfunder.co.uk/notmyking   \n",
       "1  https://www.crowdfunder.co.uk/crowdfund-dartmo...   \n",
       "2       https://www.crowdfunder.co.uk/thewavebristol   \n",
       "3   https://www.crowdfunder.co.uk/sole-of-discretion   \n",
       "4  https://www.crowdfunder.co.uk/funding-the-firs...   \n",
       "\n",
       "                                 location   money  rate  days        tags  \\\n",
       "0  London, Greater London, United Kingdom   60000   0.6  null  [Politics]   \n",
       "1                                Plymouth  339930  null    35        null   \n",
       "2                                 Bristol  219473  null    28        null   \n",
       "3                                Plymouth  142055  null    35        null   \n",
       "4      Aberdeen, Scotland, United Kingdom  121093  null     8        null   \n",
       "\n",
       "   rewards_num upd comm  supp  \n",
       "0            0   2  539  1162  \n",
       "1           42   6  186   740  \n",
       "2           23   2  198   937  \n",
       "3           17   7   16    70  \n",
       "4            8   3  371  1015  "
      ]
     },
     "execution_count": 121,
     "metadata": {},
     "output_type": "execute_result"
    }
   ],
   "source": [
    "df_notags = pd.DataFrame(hrefs_notags)\n",
    "df_notags.head()"
   ]
  },
  {
   "cell_type": "code",
   "execution_count": null,
   "id": "dd8b9b2a",
   "metadata": {},
   "outputs": [],
   "source": [
    "concatenated_notags = pd.concat([df2, df_notags])\n",
    "df2_conc = concatenated_notags.reset_index(drop = True)\n",
    "df2 = df2_conc # добавляем оставшиеся ссылки в генеральный датафрейм"
   ]
  },
  {
   "cell_type": "code",
   "execution_count": 125,
   "id": "be6ceae0",
   "metadata": {},
   "outputs": [
    {
     "data": {
      "text/plain": [
       "(1952, 10)"
      ]
     },
     "execution_count": 125,
     "metadata": {},
     "output_type": "execute_result"
    }
   ],
   "source": [
    "df2.shape"
   ]
  },
  {
   "cell_type": "code",
   "execution_count": 126,
   "id": "a50a2e92",
   "metadata": {},
   "outputs": [],
   "source": [
    "df2.to_pickle('df2_main.pkl')"
   ]
  },
  {
   "cell_type": "code",
   "execution_count": 155,
   "id": "85c631b3",
   "metadata": {},
   "outputs": [
    {
     "data": {
      "text/html": [
       "<div>\n",
       "<style scoped>\n",
       "    .dataframe tbody tr th:only-of-type {\n",
       "        vertical-align: middle;\n",
       "    }\n",
       "\n",
       "    .dataframe tbody tr th {\n",
       "        vertical-align: top;\n",
       "    }\n",
       "\n",
       "    .dataframe thead th {\n",
       "        text-align: right;\n",
       "    }\n",
       "</style>\n",
       "<table border=\"1\" class=\"dataframe\">\n",
       "  <thead>\n",
       "    <tr style=\"text-align: right;\">\n",
       "      <th></th>\n",
       "      <th>href</th>\n",
       "      <th>location</th>\n",
       "      <th>money</th>\n",
       "      <th>rate</th>\n",
       "      <th>days</th>\n",
       "      <th>tags</th>\n",
       "      <th>rewards_num</th>\n",
       "      <th>upd</th>\n",
       "      <th>comm</th>\n",
       "      <th>supp</th>\n",
       "    </tr>\n",
       "  </thead>\n",
       "  <tbody>\n",
       "    <tr>\n",
       "      <th>0</th>\n",
       "      <td>https://www.crowdfunder.co.uk/free-assange</td>\n",
       "      <td>London, Greater London, United Kingdom</td>\n",
       "      <td>300000</td>\n",
       "      <td>0.61</td>\n",
       "      <td>null</td>\n",
       "      <td>[Community, Personal Causes]</td>\n",
       "      <td>0</td>\n",
       "      <td>22</td>\n",
       "      <td>1242</td>\n",
       "      <td>3576</td>\n",
       "    </tr>\n",
       "    <tr>\n",
       "      <th>1</th>\n",
       "      <td>https://www.crowdfunder.co.uk/blackout2023</td>\n",
       "      <td>London, Greater London, United Kingdom</td>\n",
       "      <td>100000</td>\n",
       "      <td>0.84</td>\n",
       "      <td>null</td>\n",
       "      <td>[Business, Music]</td>\n",
       "      <td>0</td>\n",
       "      <td>0</td>\n",
       "      <td>9</td>\n",
       "      <td>24</td>\n",
       "    </tr>\n",
       "    <tr>\n",
       "      <th>2</th>\n",
       "      <td>https://www.crowdfunder.co.uk/50-days-to-make-...</td>\n",
       "      <td>London, Greater London, United Kingdom</td>\n",
       "      <td>150000</td>\n",
       "      <td>0.55</td>\n",
       "      <td>null</td>\n",
       "      <td>[Environment]</td>\n",
       "      <td>3</td>\n",
       "      <td>0</td>\n",
       "      <td>11</td>\n",
       "      <td>68</td>\n",
       "    </tr>\n",
       "    <tr>\n",
       "      <th>3</th>\n",
       "      <td>https://www.crowdfunder.co.uk/saveside</td>\n",
       "      <td>Newcastle upon Tyne, Tyne and Wear, United Kin...</td>\n",
       "      <td>75000</td>\n",
       "      <td>1.04</td>\n",
       "      <td>null</td>\n",
       "      <td>[Creative &amp; Arts]</td>\n",
       "      <td>0</td>\n",
       "      <td>5</td>\n",
       "      <td>694</td>\n",
       "      <td>1806</td>\n",
       "    </tr>\n",
       "    <tr>\n",
       "      <th>4</th>\n",
       "      <td>https://www.crowdfunder.co.uk/lets-smash-the-p...</td>\n",
       "      <td>London, Greater London, United Kingdom</td>\n",
       "      <td>100000</td>\n",
       "      <td>0.6</td>\n",
       "      <td>null</td>\n",
       "      <td>[Politics]</td>\n",
       "      <td>6</td>\n",
       "      <td>1</td>\n",
       "      <td>407</td>\n",
       "      <td>2391</td>\n",
       "    </tr>\n",
       "  </tbody>\n",
       "</table>\n",
       "</div>"
      ],
      "text/plain": [
       "                                                href  \\\n",
       "0         https://www.crowdfunder.co.uk/free-assange   \n",
       "1         https://www.crowdfunder.co.uk/blackout2023   \n",
       "2  https://www.crowdfunder.co.uk/50-days-to-make-...   \n",
       "3             https://www.crowdfunder.co.uk/saveside   \n",
       "4  https://www.crowdfunder.co.uk/lets-smash-the-p...   \n",
       "\n",
       "                                            location   money  rate  days  \\\n",
       "0             London, Greater London, United Kingdom  300000  0.61  null   \n",
       "1             London, Greater London, United Kingdom  100000  0.84  null   \n",
       "2             London, Greater London, United Kingdom  150000  0.55  null   \n",
       "3  Newcastle upon Tyne, Tyne and Wear, United Kin...   75000  1.04  null   \n",
       "4             London, Greater London, United Kingdom  100000   0.6  null   \n",
       "\n",
       "                           tags  rewards_num upd  comm  supp  \n",
       "0  [Community, Personal Causes]            0  22  1242  3576  \n",
       "1             [Business, Music]            0   0     9    24  \n",
       "2                 [Environment]            3   0    11    68  \n",
       "3             [Creative & Arts]            0   5   694  1806  \n",
       "4                    [Politics]            6   1   407  2391  "
      ]
     },
     "execution_count": 155,
     "metadata": {},
     "output_type": "execute_result"
    }
   ],
   "source": [
    "df2 = pd.read_pickle('df2_main.pkl')\n",
    "df2.head()"
   ]
  },
  {
   "cell_type": "code",
   "execution_count": 132,
   "id": "a57f9426",
   "metadata": {},
   "outputs": [],
   "source": [
    "# left join - оставляем все, что в левой таблице, датафпейм со всеми данными парсинга\n",
    "df = pd.merge(df2, df1, left_on='href', right_on='href', how='left')"
   ]
  },
  {
   "cell_type": "code",
   "execution_count": 134,
   "id": "9d85a2bf",
   "metadata": {},
   "outputs": [],
   "source": [
    "columns_titles = [\"href\",\"title\", 'description', 'location', 'tags',\n",
    "                  'upd', 'comm', 'supp', 'rewards_num', 'money', 'rate', 'days', 'status']\n",
    "df=df.reindex(columns=columns_titles)"
   ]
  },
  {
   "cell_type": "code",
   "execution_count": 136,
   "id": "dec116a0",
   "metadata": {},
   "outputs": [],
   "source": [
    "df.to_pickle('df_main.pkl')"
   ]
  },
  {
   "cell_type": "code",
   "execution_count": 139,
   "id": "dddadaa4",
   "metadata": {},
   "outputs": [
    {
     "data": {
      "text/plain": [
       "601357"
      ]
     },
     "execution_count": 139,
     "metadata": {},
     "output_type": "execute_result"
    }
   ],
   "source": [
    "file_out = r'C:/Users/anfey/Desktop/df_main.csv' # сохраняем датафрейм в таблицу\n",
    "df.to_csv(file_out)\n",
    "file_data = open(file_out, 'rb').read()\n",
    "open(file_out, 'wb').write(file_data[:-2])"
   ]
  },
  {
   "attachments": {},
   "cell_type": "markdown",
   "id": "3a3cf76b",
   "metadata": {},
   "source": [
    "В признаке money очень много нулей, поэтому нужно дописать парсер."
   ]
  },
  {
   "cell_type": "code",
   "execution_count": 4,
   "id": "f18e6987",
   "metadata": {},
   "outputs": [
    {
     "data": {
      "text/html": [
       "<div>\n",
       "<style scoped>\n",
       "    .dataframe tbody tr th:only-of-type {\n",
       "        vertical-align: middle;\n",
       "    }\n",
       "\n",
       "    .dataframe tbody tr th {\n",
       "        vertical-align: top;\n",
       "    }\n",
       "\n",
       "    .dataframe thead th {\n",
       "        text-align: right;\n",
       "    }\n",
       "</style>\n",
       "<table border=\"1\" class=\"dataframe\">\n",
       "  <thead>\n",
       "    <tr style=\"text-align: right;\">\n",
       "      <th></th>\n",
       "      <th>href</th>\n",
       "      <th>title</th>\n",
       "      <th>description</th>\n",
       "      <th>location</th>\n",
       "      <th>tags</th>\n",
       "      <th>upd</th>\n",
       "      <th>comm</th>\n",
       "      <th>supp</th>\n",
       "      <th>rewards_num</th>\n",
       "      <th>money</th>\n",
       "      <th>rate</th>\n",
       "      <th>days</th>\n",
       "      <th>status</th>\n",
       "    </tr>\n",
       "  </thead>\n",
       "  <tbody>\n",
       "    <tr>\n",
       "      <th>0</th>\n",
       "      <td>https://www.crowdfunder.co.uk/free-assange</td>\n",
       "      <td>Help campaign to Free Julian Assange</td>\n",
       "      <td>Help campaign to Free Julian Assange and Stop ...</td>\n",
       "      <td>London, Greater London, United Kingdom</td>\n",
       "      <td>[Community, Personal Causes]</td>\n",
       "      <td>22</td>\n",
       "      <td>1242</td>\n",
       "      <td>3576</td>\n",
       "      <td>0</td>\n",
       "      <td>300000</td>\n",
       "      <td>0.61</td>\n",
       "      <td>null</td>\n",
       "      <td>funding</td>\n",
       "    </tr>\n",
       "    <tr>\n",
       "      <th>1</th>\n",
       "      <td>https://www.crowdfunder.co.uk/blackout2023</td>\n",
       "      <td>Black Out 2023 | Cannes Lions Festival</td>\n",
       "      <td>Taking Black talent connected to the creative ...</td>\n",
       "      <td>London, Greater London, United Kingdom</td>\n",
       "      <td>[Business, Music]</td>\n",
       "      <td>0</td>\n",
       "      <td>9</td>\n",
       "      <td>24</td>\n",
       "      <td>0</td>\n",
       "      <td>100000</td>\n",
       "      <td>0.84</td>\n",
       "      <td>null</td>\n",
       "      <td>funding</td>\n",
       "    </tr>\n",
       "    <tr>\n",
       "      <th>2</th>\n",
       "      <td>https://www.crowdfunder.co.uk/50-days-to-make-...</td>\n",
       "      <td>50 Days to Make a Difference</td>\n",
       "      <td>Our scientists curate a portfolio of effective...</td>\n",
       "      <td>London, Greater London, United Kingdom</td>\n",
       "      <td>[Environment]</td>\n",
       "      <td>0</td>\n",
       "      <td>11</td>\n",
       "      <td>68</td>\n",
       "      <td>3</td>\n",
       "      <td>150000</td>\n",
       "      <td>0.55</td>\n",
       "      <td>null</td>\n",
       "      <td>funding</td>\n",
       "    </tr>\n",
       "    <tr>\n",
       "      <th>3</th>\n",
       "      <td>https://www.crowdfunder.co.uk/saveside</td>\n",
       "      <td>#SAVESIDE</td>\n",
       "      <td>As of 9th April 2023, Side Gallery will close ...</td>\n",
       "      <td>Newcastle upon Tyne, Tyne and Wear, United Kin...</td>\n",
       "      <td>[Creative &amp; Arts]</td>\n",
       "      <td>5</td>\n",
       "      <td>694</td>\n",
       "      <td>1806</td>\n",
       "      <td>0</td>\n",
       "      <td>75000</td>\n",
       "      <td>1.04</td>\n",
       "      <td>null</td>\n",
       "      <td>funding</td>\n",
       "    </tr>\n",
       "    <tr>\n",
       "      <th>4</th>\n",
       "      <td>https://www.crowdfunder.co.uk/lets-smash-the-p...</td>\n",
       "      <td>Let's smash the political silence on Brexit</td>\n",
       "      <td>Everyone knows Brexit isn't working, but polit...</td>\n",
       "      <td>London, Greater London, United Kingdom</td>\n",
       "      <td>[Politics]</td>\n",
       "      <td>1</td>\n",
       "      <td>407</td>\n",
       "      <td>2391</td>\n",
       "      <td>6</td>\n",
       "      <td>100000</td>\n",
       "      <td>0.6</td>\n",
       "      <td>null</td>\n",
       "      <td>funding</td>\n",
       "    </tr>\n",
       "    <tr>\n",
       "      <th>...</th>\n",
       "      <td>...</td>\n",
       "      <td>...</td>\n",
       "      <td>...</td>\n",
       "      <td>...</td>\n",
       "      <td>...</td>\n",
       "      <td>...</td>\n",
       "      <td>...</td>\n",
       "      <td>...</td>\n",
       "      <td>...</td>\n",
       "      <td>...</td>\n",
       "      <td>...</td>\n",
       "      <td>...</td>\n",
       "      <td>...</td>\n",
       "    </tr>\n",
       "    <tr>\n",
       "      <th>1947</th>\n",
       "      <td>https://www.crowdfunder.co.uk/schumacher</td>\n",
       "      <td>Schumacher International Network for Change (S...</td>\n",
       "      <td>We are raising £25K in 25 days to build a virt...</td>\n",
       "      <td>Totnes</td>\n",
       "      <td>null</td>\n",
       "      <td>2</td>\n",
       "      <td>27</td>\n",
       "      <td>200</td>\n",
       "      <td>8</td>\n",
       "      <td>25225</td>\n",
       "      <td>null</td>\n",
       "      <td>25</td>\n",
       "      <td>success</td>\n",
       "    </tr>\n",
       "    <tr>\n",
       "      <th>1948</th>\n",
       "      <td>https://www.crowdfunder.co.uk/ipcuk-scholarships</td>\n",
       "      <td>IPCUK Scholarships</td>\n",
       "      <td>Help build a scholarship fund so that we can s...</td>\n",
       "      <td>London</td>\n",
       "      <td>null</td>\n",
       "      <td>5</td>\n",
       "      <td>26</td>\n",
       "      <td>238</td>\n",
       "      <td>27</td>\n",
       "      <td>24255</td>\n",
       "      <td>null</td>\n",
       "      <td>28</td>\n",
       "      <td>success</td>\n",
       "    </tr>\n",
       "    <tr>\n",
       "      <th>1949</th>\n",
       "      <td>https://www.crowdfunder.co.uk/snaffling-pig</td>\n",
       "      <td>Snaffling Pig</td>\n",
       "      <td>A porky brand with the balls to take on the sn...</td>\n",
       "      <td></td>\n",
       "      <td>null</td>\n",
       "      <td>2</td>\n",
       "      <td>0</td>\n",
       "      <td>92</td>\n",
       "      <td>13</td>\n",
       "      <td>23600</td>\n",
       "      <td>null</td>\n",
       "      <td>42</td>\n",
       "      <td>success</td>\n",
       "    </tr>\n",
       "    <tr>\n",
       "      <th>1950</th>\n",
       "      <td>https://www.crowdfunder.co.uk/hookpod-technolo...</td>\n",
       "      <td>Hookpod; technology to save seabirds and turtles</td>\n",
       "      <td>We work to make longline fishing safe for mari...</td>\n",
       "      <td>Dartington, England, United Kingdom</td>\n",
       "      <td>null</td>\n",
       "      <td>14</td>\n",
       "      <td>42</td>\n",
       "      <td>487</td>\n",
       "      <td>8</td>\n",
       "      <td>72997</td>\n",
       "      <td>null</td>\n",
       "      <td>10</td>\n",
       "      <td>success</td>\n",
       "    </tr>\n",
       "    <tr>\n",
       "      <th>1951</th>\n",
       "      <td>https://www.crowdfunder.co.uk/backthebike</td>\n",
       "      <td>University of Surrey - Back the Bike!</td>\n",
       "      <td>Let's pledge to bring a Pool Bike Scheme to th...</td>\n",
       "      <td>Guildford, England, United Kingdom</td>\n",
       "      <td>null</td>\n",
       "      <td>8</td>\n",
       "      <td>100</td>\n",
       "      <td>466</td>\n",
       "      <td>22</td>\n",
       "      <td>69906</td>\n",
       "      <td>null</td>\n",
       "      <td>33</td>\n",
       "      <td>success</td>\n",
       "    </tr>\n",
       "  </tbody>\n",
       "</table>\n",
       "<p>1952 rows × 13 columns</p>\n",
       "</div>"
      ],
      "text/plain": [
       "                                                   href  \\\n",
       "0            https://www.crowdfunder.co.uk/free-assange   \n",
       "1            https://www.crowdfunder.co.uk/blackout2023   \n",
       "2     https://www.crowdfunder.co.uk/50-days-to-make-...   \n",
       "3                https://www.crowdfunder.co.uk/saveside   \n",
       "4     https://www.crowdfunder.co.uk/lets-smash-the-p...   \n",
       "...                                                 ...   \n",
       "1947           https://www.crowdfunder.co.uk/schumacher   \n",
       "1948   https://www.crowdfunder.co.uk/ipcuk-scholarships   \n",
       "1949        https://www.crowdfunder.co.uk/snaffling-pig   \n",
       "1950  https://www.crowdfunder.co.uk/hookpod-technolo...   \n",
       "1951          https://www.crowdfunder.co.uk/backthebike   \n",
       "\n",
       "                                                  title  \\\n",
       "0                  Help campaign to Free Julian Assange   \n",
       "1                Black Out 2023 | Cannes Lions Festival   \n",
       "2                          50 Days to Make a Difference   \n",
       "3                                             #SAVESIDE   \n",
       "4           Let's smash the political silence on Brexit   \n",
       "...                                                 ...   \n",
       "1947  Schumacher International Network for Change (S...   \n",
       "1948                                 IPCUK Scholarships   \n",
       "1949                                      Snaffling Pig   \n",
       "1950   Hookpod; technology to save seabirds and turtles   \n",
       "1951              University of Surrey - Back the Bike!   \n",
       "\n",
       "                                            description  \\\n",
       "0     Help campaign to Free Julian Assange and Stop ...   \n",
       "1     Taking Black talent connected to the creative ...   \n",
       "2     Our scientists curate a portfolio of effective...   \n",
       "3     As of 9th April 2023, Side Gallery will close ...   \n",
       "4     Everyone knows Brexit isn't working, but polit...   \n",
       "...                                                 ...   \n",
       "1947  We are raising £25K in 25 days to build a virt...   \n",
       "1948  Help build a scholarship fund so that we can s...   \n",
       "1949  A porky brand with the balls to take on the sn...   \n",
       "1950  We work to make longline fishing safe for mari...   \n",
       "1951  Let's pledge to bring a Pool Bike Scheme to th...   \n",
       "\n",
       "                                               location  \\\n",
       "0                London, Greater London, United Kingdom   \n",
       "1                London, Greater London, United Kingdom   \n",
       "2                London, Greater London, United Kingdom   \n",
       "3     Newcastle upon Tyne, Tyne and Wear, United Kin...   \n",
       "4                London, Greater London, United Kingdom   \n",
       "...                                                 ...   \n",
       "1947                                             Totnes   \n",
       "1948                                             London   \n",
       "1949                                                      \n",
       "1950                Dartington, England, United Kingdom   \n",
       "1951                 Guildford, England, United Kingdom   \n",
       "\n",
       "                              tags upd  comm  supp  rewards_num   money  rate  \\\n",
       "0     [Community, Personal Causes]  22  1242  3576            0  300000  0.61   \n",
       "1                [Business, Music]   0     9    24            0  100000  0.84   \n",
       "2                    [Environment]   0    11    68            3  150000  0.55   \n",
       "3                [Creative & Arts]   5   694  1806            0   75000  1.04   \n",
       "4                       [Politics]   1   407  2391            6  100000   0.6   \n",
       "...                            ...  ..   ...   ...          ...     ...   ...   \n",
       "1947                          null   2    27   200            8   25225  null   \n",
       "1948                          null   5    26   238           27   24255  null   \n",
       "1949                          null   2     0    92           13   23600  null   \n",
       "1950                          null  14    42   487            8   72997  null   \n",
       "1951                          null   8   100   466           22   69906  null   \n",
       "\n",
       "      days   status  \n",
       "0     null  funding  \n",
       "1     null  funding  \n",
       "2     null  funding  \n",
       "3     null  funding  \n",
       "4     null  funding  \n",
       "...    ...      ...  \n",
       "1947    25  success  \n",
       "1948    28  success  \n",
       "1949    42  success  \n",
       "1950    10  success  \n",
       "1951    33  success  \n",
       "\n",
       "[1952 rows x 13 columns]"
      ]
     },
     "execution_count": 4,
     "metadata": {},
     "output_type": "execute_result"
    }
   ],
   "source": [
    "import pandas as pd # читаем таблицу с исправленным статусом\n",
    "df = pd.read_pickle('df_main (1).pkl')\n",
    "df"
   ]
  },
  {
   "cell_type": "code",
   "execution_count": null,
   "id": "d7af0fa0",
   "metadata": {},
   "outputs": [],
   "source": [
    "prob = df[(df['money'] == 'null')] # ищем нули в признаке деньги\n",
    "links_mon = list(prob['href'])"
   ]
  },
  {
   "attachments": {},
   "cell_type": "markdown",
   "id": "6db950fe",
   "metadata": {},
   "source": [
    "Сэмплируем 3 рандомных ссылок из списка."
   ]
  },
  {
   "cell_type": "code",
   "execution_count": 56,
   "id": "d1e010c9",
   "metadata": {},
   "outputs": [
    {
     "data": {
      "text/plain": [
       "['https://www.crowdfunder.co.uk/hastings-pier-take-a-stake-in-our-future',\n",
       " 'https://www.crowdfunder.co.uk/costoflivingcrisis-1',\n",
       " 'https://www.crowdfunder.co.uk/edinburghzoo']"
      ]
     },
     "execution_count": 56,
     "metadata": {},
     "output_type": "execute_result"
    }
   ],
   "source": [
    "from random import sample \n",
    "babelinks = sample(links_mon, 3)\n",
    "babelinks"
   ]
  },
  {
   "cell_type": "code",
   "execution_count": 59,
   "id": "eebb8236",
   "metadata": {},
   "outputs": [
    {
     "data": {
      "application/vnd.jupyter.widget-view+json": {
       "model_id": "b32b8bea83ae433f856f65798d2ce2ae",
       "version_major": 2,
       "version_minor": 0
      },
      "text/plain": [
       "  0%|          | 0/337 [00:00<?, ?it/s]"
      ]
     },
     "metadata": {},
     "output_type": "display_data"
    }
   ],
   "source": [
    "from tqdm.notebook import tqdm # собираем величину денег проекта с обновлённой функцией\n",
    "\n",
    "hrefs_upd = []\n",
    "fails_mon = []\n",
    "for link in tqdm(links_mon):\n",
    "    features = {'href': link}\n",
    "    try:\n",
    "        soup = get_soup(link)\n",
    "        content = get_content(soup)\n",
    "        progress = get_money_succ(content)\n",
    "        features.update({'money': progress[0]})\n",
    "        features.update({'rate': progress[1]})\n",
    "        features.update({'days': progress[2]})\n",
    "        hrefs_upd.append(features)\n",
    "    except:\n",
    "        fails_mon.append(link)"
   ]
  },
  {
   "cell_type": "code",
   "execution_count": 15,
   "id": "dba5b083",
   "metadata": {},
   "outputs": [],
   "source": [
    "soup = get_soup('https://www.crowdfunder.co.uk/p/keep-the-lights-on')\n",
    "content = get_content(soup)"
   ]
  },
  {
   "cell_type": "code",
   "execution_count": 51,
   "id": "74b4f310",
   "metadata": {},
   "outputs": [],
   "source": [
    "def get_money_succ(content): # обновлённая функция \n",
    "    try:\n",
    "        report = content.find('span', {'class': 'cf-text cf-text--thin'}).text\n",
    "        report1 = report.split('£')[1].split(' with')\n",
    "        report2 = report.split('£')[2]\n",
    "        money = int(report1[0].split()[0].replace(\",\",\"\"))\n",
    "        days = int(report2.split('in ')[1].split()[0])\n",
    "        mult = 'null'\n",
    "    except:\n",
    "            mult = 'null'\n",
    "            money = 'null'\n",
    "            days = 'null'\n",
    "    return money, mult, days    "
   ]
  },
  {
   "cell_type": "code",
   "execution_count": 52,
   "id": "101674bf",
   "metadata": {},
   "outputs": [
    {
     "data": {
      "text/plain": [
       "(26662, 'null', 35)"
      ]
     },
     "execution_count": 52,
     "metadata": {},
     "output_type": "execute_result"
    }
   ],
   "source": [
    "get_money_succ(content)"
   ]
  },
  {
   "cell_type": "code",
   "execution_count": 63,
   "id": "ac0fb338",
   "metadata": {},
   "outputs": [
    {
     "name": "stdout",
     "output_type": "stream",
     "text": [
      "Done\n"
     ]
    }
   ],
   "source": [
    "with open(r'C:/Users/anfey/Desktop/hrefs_mon.csv', 'w') as fp:\n",
    "    for item in hrefs_upd:\n",
    "        # write each item on a new line\n",
    "        fp.write(\"%s\\n\" % item)\n",
    "    print('Done') # сохраняем фейлы"
   ]
  },
  {
   "cell_type": "code",
   "execution_count": 2,
   "id": "8e1da500",
   "metadata": {},
   "outputs": [],
   "source": [
    "with open(r'C:/Users/anfey/Desktop/hrefs_mon.csv') as file:\n",
    "    hrefs_mon = file.read()"
   ]
  },
  {
   "cell_type": "code",
   "execution_count": 3,
   "id": "fcbe4009",
   "metadata": {},
   "outputs": [],
   "source": [
    "hrefs_mon = hrefs_mon.split('\\n')[:-1]"
   ]
  },
  {
   "cell_type": "code",
   "execution_count": 5,
   "id": "d59009a1",
   "metadata": {},
   "outputs": [
    {
     "data": {
      "text/html": [
       "<div>\n",
       "<style scoped>\n",
       "    .dataframe tbody tr th:only-of-type {\n",
       "        vertical-align: middle;\n",
       "    }\n",
       "\n",
       "    .dataframe tbody tr th {\n",
       "        vertical-align: top;\n",
       "    }\n",
       "\n",
       "    .dataframe thead th {\n",
       "        text-align: right;\n",
       "    }\n",
       "</style>\n",
       "<table border=\"1\" class=\"dataframe\">\n",
       "  <thead>\n",
       "    <tr style=\"text-align: right;\">\n",
       "      <th></th>\n",
       "      <th>href</th>\n",
       "      <th>money</th>\n",
       "      <th>rate</th>\n",
       "      <th>days</th>\n",
       "    </tr>\n",
       "  </thead>\n",
       "  <tbody>\n",
       "    <tr>\n",
       "      <th>0</th>\n",
       "      <td>https://www.crowdfunder.co.uk/new-golf-gym---l...</td>\n",
       "      <td>52055</td>\n",
       "      <td>null</td>\n",
       "      <td>35</td>\n",
       "    </tr>\n",
       "    <tr>\n",
       "      <th>1</th>\n",
       "      <td>https://www.crowdfunder.co.uk/the-destiny-camp...</td>\n",
       "      <td>53323</td>\n",
       "      <td>null</td>\n",
       "      <td>42</td>\n",
       "    </tr>\n",
       "    <tr>\n",
       "      <th>2</th>\n",
       "      <td>https://www.crowdfunder.co.uk/csaa-food-bank</td>\n",
       "      <td>45258</td>\n",
       "      <td>null</td>\n",
       "      <td>42</td>\n",
       "    </tr>\n",
       "    <tr>\n",
       "      <th>3</th>\n",
       "      <td>https://www.crowdfunder.co.uk/crowdfunder-cost...</td>\n",
       "      <td>null</td>\n",
       "      <td>null</td>\n",
       "      <td>null</td>\n",
       "    </tr>\n",
       "    <tr>\n",
       "      <th>4</th>\n",
       "      <td>https://www.crowdfunder.co.uk/the87press2023</td>\n",
       "      <td>null</td>\n",
       "      <td>null</td>\n",
       "      <td>null</td>\n",
       "    </tr>\n",
       "    <tr>\n",
       "      <th>...</th>\n",
       "      <td>...</td>\n",
       "      <td>...</td>\n",
       "      <td>...</td>\n",
       "      <td>...</td>\n",
       "    </tr>\n",
       "    <tr>\n",
       "      <th>331</th>\n",
       "      <td>https://www.crowdfunder.co.uk/bringbackbrighto...</td>\n",
       "      <td>71841</td>\n",
       "      <td>null</td>\n",
       "      <td>552</td>\n",
       "    </tr>\n",
       "    <tr>\n",
       "      <th>332</th>\n",
       "      <td>https://www.crowdfunder.co.uk/win-mark-knopfle...</td>\n",
       "      <td>68733</td>\n",
       "      <td>null</td>\n",
       "      <td>20</td>\n",
       "    </tr>\n",
       "    <tr>\n",
       "      <th>333</th>\n",
       "      <td>https://www.crowdfunder.co.uk/trusselltrust</td>\n",
       "      <td>68616</td>\n",
       "      <td>null</td>\n",
       "      <td>843</td>\n",
       "    </tr>\n",
       "    <tr>\n",
       "      <th>334</th>\n",
       "      <td>https://www.crowdfunder.co.uk/sustaining-creat...</td>\n",
       "      <td>68541</td>\n",
       "      <td>null</td>\n",
       "      <td>179</td>\n",
       "    </tr>\n",
       "    <tr>\n",
       "      <th>335</th>\n",
       "      <td>https://www.crowdfunder.co.uk/themicahbaerwald...</td>\n",
       "      <td>null</td>\n",
       "      <td>null</td>\n",
       "      <td>null</td>\n",
       "    </tr>\n",
       "  </tbody>\n",
       "</table>\n",
       "<p>336 rows × 4 columns</p>\n",
       "</div>"
      ],
      "text/plain": [
       "                                                  href  money  rate  days\n",
       "0    https://www.crowdfunder.co.uk/new-golf-gym---l...  52055  null    35\n",
       "1    https://www.crowdfunder.co.uk/the-destiny-camp...  53323  null    42\n",
       "2         https://www.crowdfunder.co.uk/csaa-food-bank  45258  null    42\n",
       "3    https://www.crowdfunder.co.uk/crowdfunder-cost...   null  null  null\n",
       "4         https://www.crowdfunder.co.uk/the87press2023   null  null  null\n",
       "..                                                 ...    ...   ...   ...\n",
       "331  https://www.crowdfunder.co.uk/bringbackbrighto...  71841  null   552\n",
       "332  https://www.crowdfunder.co.uk/win-mark-knopfle...  68733  null    20\n",
       "333        https://www.crowdfunder.co.uk/trusselltrust  68616  null   843\n",
       "334  https://www.crowdfunder.co.uk/sustaining-creat...  68541  null   179\n",
       "335  https://www.crowdfunder.co.uk/themicahbaerwald...   null  null  null\n",
       "\n",
       "[336 rows x 4 columns]"
      ]
     },
     "execution_count": 5,
     "metadata": {},
     "output_type": "execute_result"
    }
   ],
   "source": [
    "import pandas as pd # ещё раз подгружаем датафрейм с нулями в признаке money для некоторых ссылок\n",
    "\n",
    "df_mon = pd.DataFrame(hrefs_mon)\n",
    "df_mon"
   ]
  },
  {
   "cell_type": "code",
   "execution_count": 6,
   "id": "e4513850",
   "metadata": {},
   "outputs": [
    {
     "data": {
      "text/html": [
       "<div>\n",
       "<style scoped>\n",
       "    .dataframe tbody tr th:only-of-type {\n",
       "        vertical-align: middle;\n",
       "    }\n",
       "\n",
       "    .dataframe tbody tr th {\n",
       "        vertical-align: top;\n",
       "    }\n",
       "\n",
       "    .dataframe thead th {\n",
       "        text-align: right;\n",
       "    }\n",
       "</style>\n",
       "<table border=\"1\" class=\"dataframe\">\n",
       "  <thead>\n",
       "    <tr style=\"text-align: right;\">\n",
       "      <th></th>\n",
       "      <th>href</th>\n",
       "      <th>money</th>\n",
       "      <th>rate</th>\n",
       "      <th>days</th>\n",
       "    </tr>\n",
       "  </thead>\n",
       "  <tbody>\n",
       "    <tr>\n",
       "      <th>3</th>\n",
       "      <td>https://www.crowdfunder.co.uk/crowdfunder-cost...</td>\n",
       "      <td>null</td>\n",
       "      <td>null</td>\n",
       "      <td>null</td>\n",
       "    </tr>\n",
       "    <tr>\n",
       "      <th>4</th>\n",
       "      <td>https://www.crowdfunder.co.uk/the87press2023</td>\n",
       "      <td>null</td>\n",
       "      <td>null</td>\n",
       "      <td>null</td>\n",
       "    </tr>\n",
       "    <tr>\n",
       "      <th>5</th>\n",
       "      <td>https://www.crowdfunder.co.uk/brass-blast</td>\n",
       "      <td>null</td>\n",
       "      <td>null</td>\n",
       "      <td>null</td>\n",
       "    </tr>\n",
       "    <tr>\n",
       "      <th>6</th>\n",
       "      <td>https://www.crowdfunder.co.uk/stockton-hockey-...</td>\n",
       "      <td>null</td>\n",
       "      <td>null</td>\n",
       "      <td>null</td>\n",
       "    </tr>\n",
       "    <tr>\n",
       "      <th>8</th>\n",
       "      <td>https://www.crowdfunder.co.uk/unravellingshort...</td>\n",
       "      <td>null</td>\n",
       "      <td>null</td>\n",
       "      <td>null</td>\n",
       "    </tr>\n",
       "  </tbody>\n",
       "</table>\n",
       "</div>"
      ],
      "text/plain": [
       "                                                href money  rate  days\n",
       "3  https://www.crowdfunder.co.uk/crowdfunder-cost...  null  null  null\n",
       "4       https://www.crowdfunder.co.uk/the87press2023  null  null  null\n",
       "5          https://www.crowdfunder.co.uk/brass-blast  null  null  null\n",
       "6  https://www.crowdfunder.co.uk/stockton-hockey-...  null  null  null\n",
       "8  https://www.crowdfunder.co.uk/unravellingshort...  null  null  null"
      ]
     },
     "execution_count": 6,
     "metadata": {},
     "output_type": "execute_result"
    }
   ],
   "source": [
    "prob3 = df_mon[(df_mon['money'] == 'null')] # смотрим, где остались нули\n",
    "links_mon1 = list(prob3['href'])\n",
    "prob3.head()"
   ]
  },
  {
   "cell_type": "code",
   "execution_count": 35,
   "id": "e1fa7410",
   "metadata": {},
   "outputs": [],
   "source": [
    "def get_money_running(content): # другая обновлённая функция для парсинга\n",
    "    try:\n",
    "        report = content.find('p', {'class': 'cf-callout__text'}).text\n",
    "        report1 = report.split('£')[1].split(' with')\n",
    "        money = int(report1[0].split()[0].replace(\",\",\"\"))\n",
    "        mult = 'null'\n",
    "        days = int(report1[1].split('in ')[1].split()[0])\n",
    "    except:\n",
    "            mult = 'null'\n",
    "            money = 'null'\n",
    "            days = 'null'\n",
    "    return money, mult, days    "
   ]
  },
  {
   "cell_type": "code",
   "execution_count": 21,
   "id": "e1dd6cf2",
   "metadata": {},
   "outputs": [],
   "source": [
    "soup = get_soup('https://www.crowdfunder.co.uk/p/support-my-slow-fashion-studio')\n",
    "content = get_content(soup)"
   ]
  },
  {
   "cell_type": "code",
   "execution_count": 36,
   "id": "74403305",
   "metadata": {},
   "outputs": [
    {
     "data": {
      "text/plain": [
       "(1001, 'null', 42)"
      ]
     },
     "execution_count": 36,
     "metadata": {},
     "output_type": "execute_result"
    }
   ],
   "source": [
    "get_money_running(content)"
   ]
  },
  {
   "cell_type": "code",
   "execution_count": 37,
   "id": "0621287a",
   "metadata": {},
   "outputs": [
    {
     "data": {
      "application/vnd.jupyter.widget-view+json": {
       "model_id": "405af7cddb024cccb42ef65ddff1c74e",
       "version_major": 2,
       "version_minor": 0
      },
      "text/plain": [
       "  0%|          | 0/47 [00:00<?, ?it/s]"
      ]
     },
     "metadata": {},
     "output_type": "display_data"
    }
   ],
   "source": [
    "from tqdm.notebook import tqdm # парсинг по фейловым ссылкам\n",
    "\n",
    "hrefs_run = []\n",
    "fails_run = []\n",
    "for link in tqdm(links_mon1):\n",
    "    features = {'href': link}\n",
    "    try:\n",
    "        soup = get_soup(link)\n",
    "        content = get_content(soup)\n",
    "        progress = get_money_running(content)\n",
    "        features.update({'money': progress[0]})\n",
    "        features.update({'rate': progress[1]})\n",
    "        features.update({'days': progress[2]})\n",
    "        hrefs_run.append(features)\n",
    "    except:\n",
    "        fails_run.append(link)"
   ]
  },
  {
   "cell_type": "code",
   "execution_count": 84,
   "id": "696846c4",
   "metadata": {},
   "outputs": [
    {
     "data": {
      "text/html": [
       "<div>\n",
       "<style scoped>\n",
       "    .dataframe tbody tr th:only-of-type {\n",
       "        vertical-align: middle;\n",
       "    }\n",
       "\n",
       "    .dataframe tbody tr th {\n",
       "        vertical-align: top;\n",
       "    }\n",
       "\n",
       "    .dataframe thead th {\n",
       "        text-align: right;\n",
       "    }\n",
       "</style>\n",
       "<table border=\"1\" class=\"dataframe\">\n",
       "  <thead>\n",
       "    <tr style=\"text-align: right;\">\n",
       "      <th></th>\n",
       "      <th>href</th>\n",
       "      <th>money</th>\n",
       "      <th>rate</th>\n",
       "      <th>days</th>\n",
       "    </tr>\n",
       "  </thead>\n",
       "  <tbody>\n",
       "    <tr>\n",
       "      <th>0</th>\n",
       "      <td>https://www.crowdfunder.co.uk/crowdfunder-cost...</td>\n",
       "      <td>null</td>\n",
       "      <td>null</td>\n",
       "      <td>null</td>\n",
       "    </tr>\n",
       "    <tr>\n",
       "      <th>1</th>\n",
       "      <td>https://www.crowdfunder.co.uk/the87press2023</td>\n",
       "      <td>18460</td>\n",
       "      <td>null</td>\n",
       "      <td>56</td>\n",
       "    </tr>\n",
       "    <tr>\n",
       "      <th>2</th>\n",
       "      <td>https://www.crowdfunder.co.uk/brass-blast</td>\n",
       "      <td>17545</td>\n",
       "      <td>null</td>\n",
       "      <td>32</td>\n",
       "    </tr>\n",
       "    <tr>\n",
       "      <th>3</th>\n",
       "      <td>https://www.crowdfunder.co.uk/stockton-hockey-...</td>\n",
       "      <td>16553</td>\n",
       "      <td>null</td>\n",
       "      <td>78</td>\n",
       "    </tr>\n",
       "    <tr>\n",
       "      <th>4</th>\n",
       "      <td>https://www.crowdfunder.co.uk/unravellingshort...</td>\n",
       "      <td>12381</td>\n",
       "      <td>null</td>\n",
       "      <td>32</td>\n",
       "    </tr>\n",
       "  </tbody>\n",
       "</table>\n",
       "</div>"
      ],
      "text/plain": [
       "                                                href  money  rate  days\n",
       "0  https://www.crowdfunder.co.uk/crowdfunder-cost...   null  null  null\n",
       "1       https://www.crowdfunder.co.uk/the87press2023  18460  null    56\n",
       "2          https://www.crowdfunder.co.uk/brass-blast  17545  null    32\n",
       "3  https://www.crowdfunder.co.uk/stockton-hockey-...  16553  null    78\n",
       "4  https://www.crowdfunder.co.uk/unravellingshort...  12381  null    32"
      ]
     },
     "execution_count": 84,
     "metadata": {},
     "output_type": "execute_result"
    }
   ],
   "source": [
    "df_last_hrefs = pd.DataFrame(hrefs_run) # посмотрим на успешный сбор\n",
    "df_last_hrefs.head()"
   ]
  },
  {
   "cell_type": "code",
   "execution_count": 46,
   "id": "b6d0e4ac",
   "metadata": {},
   "outputs": [
    {
     "data": {
      "text/html": [
       "<div>\n",
       "<style scoped>\n",
       "    .dataframe tbody tr th:only-of-type {\n",
       "        vertical-align: middle;\n",
       "    }\n",
       "\n",
       "    .dataframe tbody tr th {\n",
       "        vertical-align: top;\n",
       "    }\n",
       "\n",
       "    .dataframe thead th {\n",
       "        text-align: right;\n",
       "    }\n",
       "</style>\n",
       "<table border=\"1\" class=\"dataframe\">\n",
       "  <thead>\n",
       "    <tr style=\"text-align: right;\">\n",
       "      <th></th>\n",
       "      <th>href</th>\n",
       "      <th>money</th>\n",
       "      <th>rate</th>\n",
       "      <th>days</th>\n",
       "    </tr>\n",
       "  </thead>\n",
       "  <tbody>\n",
       "    <tr>\n",
       "      <th>0</th>\n",
       "      <td>https://www.crowdfunder.co.uk/new-golf-gym---l...</td>\n",
       "      <td>52055</td>\n",
       "      <td>null</td>\n",
       "      <td>35</td>\n",
       "    </tr>\n",
       "    <tr>\n",
       "      <th>1</th>\n",
       "      <td>https://www.crowdfunder.co.uk/the-destiny-camp...</td>\n",
       "      <td>53323</td>\n",
       "      <td>null</td>\n",
       "      <td>42</td>\n",
       "    </tr>\n",
       "    <tr>\n",
       "      <th>2</th>\n",
       "      <td>https://www.crowdfunder.co.uk/csaa-food-bank</td>\n",
       "      <td>45258</td>\n",
       "      <td>null</td>\n",
       "      <td>42</td>\n",
       "    </tr>\n",
       "    <tr>\n",
       "      <th>3</th>\n",
       "      <td>https://www.crowdfunder.co.uk/crowdfunder-cost...</td>\n",
       "      <td>null</td>\n",
       "      <td>null</td>\n",
       "      <td>null</td>\n",
       "    </tr>\n",
       "    <tr>\n",
       "      <th>4</th>\n",
       "      <td>https://www.crowdfunder.co.uk/the87press2023</td>\n",
       "      <td>null</td>\n",
       "      <td>null</td>\n",
       "      <td>null</td>\n",
       "    </tr>\n",
       "    <tr>\n",
       "      <th>...</th>\n",
       "      <td>...</td>\n",
       "      <td>...</td>\n",
       "      <td>...</td>\n",
       "      <td>...</td>\n",
       "    </tr>\n",
       "    <tr>\n",
       "      <th>378</th>\n",
       "      <td>https://www.crowdfunder.co.uk/hastings-pier-ta...</td>\n",
       "      <td>null</td>\n",
       "      <td>null</td>\n",
       "      <td>null</td>\n",
       "    </tr>\n",
       "    <tr>\n",
       "      <th>379</th>\n",
       "      <td>https://www.crowdfunder.co.uk/place-a-trade-gi...</td>\n",
       "      <td>null</td>\n",
       "      <td>null</td>\n",
       "      <td>null</td>\n",
       "    </tr>\n",
       "    <tr>\n",
       "      <th>380</th>\n",
       "      <td>https://www.crowdfunder.co.uk/sunderland-together</td>\n",
       "      <td>null</td>\n",
       "      <td>null</td>\n",
       "      <td>null</td>\n",
       "    </tr>\n",
       "    <tr>\n",
       "      <th>381</th>\n",
       "      <td>https://www.crowdfunder.co.uk/immunisation-coa...</td>\n",
       "      <td>null</td>\n",
       "      <td>null</td>\n",
       "      <td>null</td>\n",
       "    </tr>\n",
       "    <tr>\n",
       "      <th>382</th>\n",
       "      <td>https://www.crowdfunder.co.uk/themicahbaerwald...</td>\n",
       "      <td>null</td>\n",
       "      <td>null</td>\n",
       "      <td>null</td>\n",
       "    </tr>\n",
       "  </tbody>\n",
       "</table>\n",
       "<p>383 rows × 4 columns</p>\n",
       "</div>"
      ],
      "text/plain": [
       "                                                  href  money  rate  days\n",
       "0    https://www.crowdfunder.co.uk/new-golf-gym---l...  52055  null    35\n",
       "1    https://www.crowdfunder.co.uk/the-destiny-camp...  53323  null    42\n",
       "2         https://www.crowdfunder.co.uk/csaa-food-bank  45258  null    42\n",
       "3    https://www.crowdfunder.co.uk/crowdfunder-cost...   null  null  null\n",
       "4         https://www.crowdfunder.co.uk/the87press2023   null  null  null\n",
       "..                                                 ...    ...   ...   ...\n",
       "378  https://www.crowdfunder.co.uk/hastings-pier-ta...   null  null  null\n",
       "379  https://www.crowdfunder.co.uk/place-a-trade-gi...   null  null  null\n",
       "380  https://www.crowdfunder.co.uk/sunderland-together   null  null  null\n",
       "381  https://www.crowdfunder.co.uk/immunisation-coa...   null  null  null\n",
       "382  https://www.crowdfunder.co.uk/themicahbaerwald...   null  null  null\n",
       "\n",
       "[383 rows x 4 columns]"
      ]
     },
     "execution_count": 46,
     "metadata": {},
     "output_type": "execute_result"
    }
   ],
   "source": [
    "concatenated_mon = pd.concat([df_mon, df_last_hrefs]) # совмещаем с последним датафреймом\n",
    "df_money = concatenated_mon.reset_index(drop = True)\n",
    "df_money"
   ]
  },
  {
   "cell_type": "code",
   "execution_count": 47,
   "id": "ca51839f",
   "metadata": {},
   "outputs": [
    {
     "data": {
      "text/html": [
       "<div>\n",
       "<style scoped>\n",
       "    .dataframe tbody tr th:only-of-type {\n",
       "        vertical-align: middle;\n",
       "    }\n",
       "\n",
       "    .dataframe tbody tr th {\n",
       "        vertical-align: top;\n",
       "    }\n",
       "\n",
       "    .dataframe thead th {\n",
       "        text-align: right;\n",
       "    }\n",
       "</style>\n",
       "<table border=\"1\" class=\"dataframe\">\n",
       "  <thead>\n",
       "    <tr style=\"text-align: right;\">\n",
       "      <th></th>\n",
       "      <th>href</th>\n",
       "      <th>money</th>\n",
       "      <th>rate</th>\n",
       "      <th>days</th>\n",
       "    </tr>\n",
       "  </thead>\n",
       "  <tbody>\n",
       "    <tr>\n",
       "      <th>0</th>\n",
       "      <td>https://www.crowdfunder.co.uk/new-golf-gym---l...</td>\n",
       "      <td>52055</td>\n",
       "      <td>null</td>\n",
       "      <td>35</td>\n",
       "    </tr>\n",
       "    <tr>\n",
       "      <th>1</th>\n",
       "      <td>https://www.crowdfunder.co.uk/the-destiny-camp...</td>\n",
       "      <td>53323</td>\n",
       "      <td>null</td>\n",
       "      <td>42</td>\n",
       "    </tr>\n",
       "    <tr>\n",
       "      <th>2</th>\n",
       "      <td>https://www.crowdfunder.co.uk/csaa-food-bank</td>\n",
       "      <td>45258</td>\n",
       "      <td>null</td>\n",
       "      <td>42</td>\n",
       "    </tr>\n",
       "    <tr>\n",
       "      <th>7</th>\n",
       "      <td>https://www.crowdfunder.co.uk/wigtonclubhub</td>\n",
       "      <td>16528</td>\n",
       "      <td>null</td>\n",
       "      <td>49</td>\n",
       "    </tr>\n",
       "    <tr>\n",
       "      <th>13</th>\n",
       "      <td>https://www.crowdfunder.co.uk/tnn-together</td>\n",
       "      <td>6390</td>\n",
       "      <td>null</td>\n",
       "      <td>56</td>\n",
       "    </tr>\n",
       "    <tr>\n",
       "      <th>...</th>\n",
       "      <td>...</td>\n",
       "      <td>...</td>\n",
       "      <td>...</td>\n",
       "      <td>...</td>\n",
       "    </tr>\n",
       "    <tr>\n",
       "      <th>378</th>\n",
       "      <td>https://www.crowdfunder.co.uk/hastings-pier-ta...</td>\n",
       "      <td>null</td>\n",
       "      <td>null</td>\n",
       "      <td>null</td>\n",
       "    </tr>\n",
       "    <tr>\n",
       "      <th>379</th>\n",
       "      <td>https://www.crowdfunder.co.uk/place-a-trade-gi...</td>\n",
       "      <td>null</td>\n",
       "      <td>null</td>\n",
       "      <td>null</td>\n",
       "    </tr>\n",
       "    <tr>\n",
       "      <th>380</th>\n",
       "      <td>https://www.crowdfunder.co.uk/sunderland-together</td>\n",
       "      <td>null</td>\n",
       "      <td>null</td>\n",
       "      <td>null</td>\n",
       "    </tr>\n",
       "    <tr>\n",
       "      <th>381</th>\n",
       "      <td>https://www.crowdfunder.co.uk/immunisation-coa...</td>\n",
       "      <td>null</td>\n",
       "      <td>null</td>\n",
       "      <td>null</td>\n",
       "    </tr>\n",
       "    <tr>\n",
       "      <th>382</th>\n",
       "      <td>https://www.crowdfunder.co.uk/themicahbaerwald...</td>\n",
       "      <td>null</td>\n",
       "      <td>null</td>\n",
       "      <td>null</td>\n",
       "    </tr>\n",
       "  </tbody>\n",
       "</table>\n",
       "<p>336 rows × 4 columns</p>\n",
       "</div>"
      ],
      "text/plain": [
       "                                                  href  money  rate  days\n",
       "0    https://www.crowdfunder.co.uk/new-golf-gym---l...  52055  null    35\n",
       "1    https://www.crowdfunder.co.uk/the-destiny-camp...  53323  null    42\n",
       "2         https://www.crowdfunder.co.uk/csaa-food-bank  45258  null    42\n",
       "7          https://www.crowdfunder.co.uk/wigtonclubhub  16528  null    49\n",
       "13          https://www.crowdfunder.co.uk/tnn-together   6390  null    56\n",
       "..                                                 ...    ...   ...   ...\n",
       "378  https://www.crowdfunder.co.uk/hastings-pier-ta...   null  null  null\n",
       "379  https://www.crowdfunder.co.uk/place-a-trade-gi...   null  null  null\n",
       "380  https://www.crowdfunder.co.uk/sunderland-together   null  null  null\n",
       "381  https://www.crowdfunder.co.uk/immunisation-coa...   null  null  null\n",
       "382  https://www.crowdfunder.co.uk/themicahbaerwald...   null  null  null\n",
       "\n",
       "[336 rows x 4 columns]"
      ]
     },
     "execution_count": 47,
     "metadata": {},
     "output_type": "execute_result"
    }
   ],
   "source": [
    "df_money.drop_duplicates(subset=['href'], keep='last', inplace = True) # дропнем повторяющиеся проекты\n",
    "df_money"
   ]
  },
  {
   "cell_type": "code",
   "execution_count": 51,
   "id": "5934b34e",
   "metadata": {},
   "outputs": [
    {
     "data": {
      "text/plain": [
       "(27, 4)"
      ]
     },
     "execution_count": 51,
     "metadata": {},
     "output_type": "execute_result"
    }
   ],
   "source": [
    "prob4 = df_money[(df_money['money'] == 'null')]\n",
    "prob4.shape"
   ]
  },
  {
   "cell_type": "code",
   "execution_count": 52,
   "id": "62480e81",
   "metadata": {},
   "outputs": [],
   "source": [
    "df_money.to_pickle('df_money.pkl') # сохраняем датафрейм в пикл"
   ]
  },
  {
   "attachments": {},
   "cell_type": "markdown",
   "id": "fb8f0c47",
   "metadata": {},
   "source": [
    "В этой части я пробую собрать дату добавления проекта на сайт, но при парсинге оказалось, что она есть только у малого кол-ва проектов, поэтому такой признак мы не стали вводить."
   ]
  },
  {
   "cell_type": "code",
   "execution_count": 11,
   "id": "311a14f3",
   "metadata": {},
   "outputs": [],
   "source": [
    "soup = get_soup('https://www.crowdfunder.co.uk/p/funding-reforestion-of-cornwall')"
   ]
  },
  {
   "cell_type": "code",
   "execution_count": 12,
   "id": "48c41cad",
   "metadata": {},
   "outputs": [],
   "source": [
    "def get_upload(soup): # функция, которая собирает дату \n",
    "    head = soup.find('script', {'type': 'application/ld+json'}).text\n",
    "    date = head.split(\"uploadDate\")[1].split()[1].split('T')[0][1:]\n",
    "    return date"
   ]
  },
  {
   "cell_type": "code",
   "execution_count": 13,
   "id": "e8f8ce29",
   "metadata": {},
   "outputs": [
    {
     "data": {
      "text/plain": [
       "'2023-03-30'"
      ]
     },
     "execution_count": 13,
     "metadata": {},
     "output_type": "execute_result"
    }
   ],
   "source": [
    "get_upload(soup)"
   ]
  },
  {
   "cell_type": "code",
   "execution_count": 14,
   "id": "df66b2c6",
   "metadata": {},
   "outputs": [
    {
     "data": {
      "text/plain": [
       "1952"
      ]
     },
     "execution_count": 14,
     "metadata": {},
     "output_type": "execute_result"
    }
   ],
   "source": [
    "links_date = list(df['href'])\n",
    "len(links_date)"
   ]
  },
  {
   "cell_type": "code",
   "execution_count": 92,
   "id": "52a93083",
   "metadata": {},
   "outputs": [
    {
     "data": {
      "text/plain": [
       "['https://www.crowdfunder.co.uk/fashionandtextilesforever',\n",
       " 'https://www.crowdfunder.co.uk/redcarrugbyclub',\n",
       " 'https://www.crowdfunder.co.uk/richmondrugby']"
      ]
     },
     "execution_count": 92,
     "metadata": {},
     "output_type": "execute_result"
    }
   ],
   "source": [
    "from random import sample # берём сэмпл из трёх ссылок\n",
    "minlinks = sample(links_date, 3)\n",
    "minlinks"
   ]
  },
  {
   "cell_type": "code",
   "execution_count": 15,
   "id": "c3280b9b",
   "metadata": {},
   "outputs": [
    {
     "data": {
      "application/vnd.jupyter.widget-view+json": {
       "model_id": "2ee357256151452aba5ad3ac86f84efe",
       "version_major": 2,
       "version_minor": 0
      },
      "text/plain": [
       "  0%|          | 0/800 [00:00<?, ?it/s]"
      ]
     },
     "metadata": {},
     "output_type": "display_data"
    }
   ],
   "source": [
    "from tqdm.notebook import tqdm # пробуем собрать даты для половины проектов\n",
    "\n",
    "hrefs_date = []\n",
    "failed_date = []\n",
    "for link in tqdm(links_date[0:800]):\n",
    "    features = {'href': link}\n",
    "    try:\n",
    "        soup = get_soup(link)\n",
    "        features.update({'upload_date': get_upload(soup)})\n",
    "        hrefs_date.append(features)\n",
    "    except:\n",
    "        failed_date.append(link)"
   ]
  },
  {
   "cell_type": "code",
   "execution_count": 19,
   "id": "2136dbd5",
   "metadata": {},
   "outputs": [
    {
     "name": "stdout",
     "output_type": "stream",
     "text": [
      "Done\n"
     ]
    }
   ],
   "source": [
    "with open(r'C:/Users/anfey/Desktop/hrefs_date.csv', 'w') as fp:\n",
    "    for item in hrefs_date:\n",
    "        # write each item on a new line\n",
    "        fp.write(\"%s\\n\" % item)\n",
    "    print('Done') # сохраняем фейлы"
   ]
  },
  {
   "cell_type": "code",
   "execution_count": 20,
   "id": "0b1cc32a",
   "metadata": {},
   "outputs": [
    {
     "name": "stdout",
     "output_type": "stream",
     "text": [
      "Done\n"
     ]
    }
   ],
   "source": [
    "with open(r'C:/Users/anfey/Desktop/fails_date.csv', 'w') as fp:\n",
    "    for item in failed_date:\n",
    "        # write each item on a new line\n",
    "        fp.write(\"%s\\n\" % item)\n",
    "    print('Done') # сохраняем фейлы"
   ]
  },
  {
   "cell_type": "code",
   "execution_count": 7,
   "id": "cb516eb9",
   "metadata": {},
   "outputs": [],
   "source": [
    "df_money = pd.read_pickle('df_money.pkl')"
   ]
  },
  {
   "cell_type": "code",
   "execution_count": 10,
   "id": "39dc6950",
   "metadata": {},
   "outputs": [
    {
     "data": {
      "text/plain": [
       "(27, 4)"
      ]
     },
     "execution_count": 10,
     "metadata": {},
     "output_type": "execute_result"
    }
   ],
   "source": [
    "df_money[df_money['money'] == 'null'].shape # а здесь смотрим, сколько в итоге нулей в money"
   ]
  },
  {
   "cell_type": "code",
   "execution_count": null,
   "id": "33ef59b3",
   "metadata": {},
   "outputs": [],
   "source": []
  },
  {
   "cell_type": "code",
   "execution_count": null,
   "id": "dd01c804",
   "metadata": {},
   "outputs": [],
   "source": []
  }
 ],
 "metadata": {
  "kernelspec": {
   "display_name": "Python 3 (ipykernel)",
   "language": "python",
   "name": "python3"
  },
  "language_info": {
   "codemirror_mode": {
    "name": "ipython",
    "version": 3
   },
   "file_extension": ".py",
   "mimetype": "text/x-python",
   "name": "python",
   "nbconvert_exporter": "python",
   "pygments_lexer": "ipython3",
   "version": "3.9.7"
  }
 },
 "nbformat": 4,
 "nbformat_minor": 5
}
