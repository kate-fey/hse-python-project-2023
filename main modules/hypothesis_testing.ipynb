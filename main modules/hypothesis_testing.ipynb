{
 "cells": [
  {
   "cell_type": "markdown",
   "id": "3df7ff04",
   "metadata": {},
   "source": [
    "## Гипотезы\n",
    "\n",
    "1. Для успешных проектов\n",
    "- больше комментов => больше денег \n",
    "\n",
    "2. Для всех проектов\n",
    "- Проекты, отмеченные тегами, собирают больше денег чем проекты без тэгов\n",
    "- больше апдейтов => больше комментов \n",
    "- больше ревардов  => больше pledge \n",
    "- глаголы побуждения повышают average pledge\n",
    "- чем выше sentiment_score, тем выше average pledge\n",
    "- если вы в лондоне, то average pledge больше \n",
    "- pledge для тэга community будет больше, чем для всех остальных\n",
    "- количество supporters для национальных проектов больше, чем в локальных\n",
    "\n",
    "3. Количество денег имеет экспоненциальное распределение"
   ]
  },
  {
   "cell_type": "code",
   "execution_count": 1,
   "id": "f3d239ed",
   "metadata": {},
   "outputs": [],
   "source": [
    "import numpy as np\n",
    "import pandas as pd\n",
    "\n",
    "import scipy.stats as sts\n",
    "import matplotlib.pyplot as plt\n",
    "import seaborn as sns"
   ]
  },
  {
   "cell_type": "code",
   "execution_count": 2,
   "id": "1cbd7baa",
   "metadata": {},
   "outputs": [],
   "source": [
    "import warnings\n",
    "warnings.filterwarnings(\"ignore\")"
   ]
  },
  {
   "cell_type": "code",
   "execution_count": 3,
   "id": "e3b512c7",
   "metadata": {},
   "outputs": [
    {
     "data": {
      "text/html": [
       "<div>\n",
       "<style scoped>\n",
       "    .dataframe tbody tr th:only-of-type {\n",
       "        vertical-align: middle;\n",
       "    }\n",
       "\n",
       "    .dataframe tbody tr th {\n",
       "        vertical-align: top;\n",
       "    }\n",
       "\n",
       "    .dataframe thead th {\n",
       "        text-align: right;\n",
       "    }\n",
       "</style>\n",
       "<table border=\"1\" class=\"dataframe\">\n",
       "  <thead>\n",
       "    <tr style=\"text-align: right;\">\n",
       "      <th></th>\n",
       "      <th>href</th>\n",
       "      <th>title</th>\n",
       "      <th>description</th>\n",
       "      <th>location</th>\n",
       "      <th>tags</th>\n",
       "      <th>upd</th>\n",
       "      <th>comm</th>\n",
       "      <th>supp</th>\n",
       "      <th>rewards_num</th>\n",
       "      <th>money</th>\n",
       "      <th>...</th>\n",
       "      <th>tags_Transport</th>\n",
       "      <th>tags_Travel</th>\n",
       "      <th>tags_University</th>\n",
       "      <th>tags_Venue</th>\n",
       "      <th>tags_null</th>\n",
       "      <th>sentiment_score</th>\n",
       "      <th>ps_capital</th>\n",
       "      <th>inn_score</th>\n",
       "      <th>eco_score</th>\n",
       "      <th>pledge</th>\n",
       "    </tr>\n",
       "  </thead>\n",
       "  <tbody>\n",
       "    <tr>\n",
       "      <th>0</th>\n",
       "      <td>https://www.crowdfunder.co.uk/free-assange</td>\n",
       "      <td>Help campaign to Free Julian Assange</td>\n",
       "      <td>[help, campaign, free, julian, assange, stop, ...</td>\n",
       "      <td>London</td>\n",
       "      <td>[Community, Personal Causes]</td>\n",
       "      <td>22</td>\n",
       "      <td>1242</td>\n",
       "      <td>3576</td>\n",
       "      <td>0</td>\n",
       "      <td>300000.0</td>\n",
       "      <td>...</td>\n",
       "      <td>0</td>\n",
       "      <td>0</td>\n",
       "      <td>0</td>\n",
       "      <td>0</td>\n",
       "      <td>0</td>\n",
       "      <td>0.7840</td>\n",
       "      <td>0</td>\n",
       "      <td>0</td>\n",
       "      <td>0</td>\n",
       "      <td>83.892617</td>\n",
       "    </tr>\n",
       "    <tr>\n",
       "      <th>1</th>\n",
       "      <td>https://www.crowdfunder.co.uk/blackout2023</td>\n",
       "      <td>Black Out 2023 | Cannes Lions Festival</td>\n",
       "      <td>[taking, black, talent, connected, creative, i...</td>\n",
       "      <td>London</td>\n",
       "      <td>[Business, Music]</td>\n",
       "      <td>0</td>\n",
       "      <td>9</td>\n",
       "      <td>24</td>\n",
       "      <td>0</td>\n",
       "      <td>100000.0</td>\n",
       "      <td>...</td>\n",
       "      <td>0</td>\n",
       "      <td>0</td>\n",
       "      <td>0</td>\n",
       "      <td>0</td>\n",
       "      <td>0</td>\n",
       "      <td>0.9217</td>\n",
       "      <td>0</td>\n",
       "      <td>2</td>\n",
       "      <td>0</td>\n",
       "      <td>4166.666667</td>\n",
       "    </tr>\n",
       "    <tr>\n",
       "      <th>2</th>\n",
       "      <td>https://www.crowdfunder.co.uk/50-days-to-make-...</td>\n",
       "      <td>50 Days to Make a Difference</td>\n",
       "      <td>[scientists, curate, portfolio, effective, cli...</td>\n",
       "      <td>London</td>\n",
       "      <td>[Environment]</td>\n",
       "      <td>0</td>\n",
       "      <td>11</td>\n",
       "      <td>68</td>\n",
       "      <td>3</td>\n",
       "      <td>150000.0</td>\n",
       "      <td>...</td>\n",
       "      <td>0</td>\n",
       "      <td>0</td>\n",
       "      <td>0</td>\n",
       "      <td>0</td>\n",
       "      <td>0</td>\n",
       "      <td>0.7430</td>\n",
       "      <td>1</td>\n",
       "      <td>0</td>\n",
       "      <td>2</td>\n",
       "      <td>2205.882353</td>\n",
       "    </tr>\n",
       "    <tr>\n",
       "      <th>3</th>\n",
       "      <td>https://www.crowdfunder.co.uk/saveside</td>\n",
       "      <td>#SAVESIDE</td>\n",
       "      <td>[april, side, gallery, close, public, due, cri...</td>\n",
       "      <td>Newcastle upon Tyne</td>\n",
       "      <td>[Creative &amp; Arts]</td>\n",
       "      <td>5</td>\n",
       "      <td>694</td>\n",
       "      <td>1806</td>\n",
       "      <td>0</td>\n",
       "      <td>75000.0</td>\n",
       "      <td>...</td>\n",
       "      <td>0</td>\n",
       "      <td>0</td>\n",
       "      <td>0</td>\n",
       "      <td>0</td>\n",
       "      <td>0</td>\n",
       "      <td>-0.7096</td>\n",
       "      <td>0</td>\n",
       "      <td>0</td>\n",
       "      <td>0</td>\n",
       "      <td>41.528239</td>\n",
       "    </tr>\n",
       "    <tr>\n",
       "      <th>4</th>\n",
       "      <td>https://www.crowdfunder.co.uk/lets-smash-the-p...</td>\n",
       "      <td>Let's smash the political silence on Brexit</td>\n",
       "      <td>[everyone, knows, brexit, working, politicians...</td>\n",
       "      <td>London</td>\n",
       "      <td>[Politics]</td>\n",
       "      <td>1</td>\n",
       "      <td>407</td>\n",
       "      <td>2391</td>\n",
       "      <td>6</td>\n",
       "      <td>100000.0</td>\n",
       "      <td>...</td>\n",
       "      <td>0</td>\n",
       "      <td>0</td>\n",
       "      <td>0</td>\n",
       "      <td>0</td>\n",
       "      <td>0</td>\n",
       "      <td>0.0000</td>\n",
       "      <td>0</td>\n",
       "      <td>0</td>\n",
       "      <td>0</td>\n",
       "      <td>41.823505</td>\n",
       "    </tr>\n",
       "  </tbody>\n",
       "</table>\n",
       "<p>5 rows × 45 columns</p>\n",
       "</div>"
      ],
      "text/plain": [
       "                                                href  \\\n",
       "0         https://www.crowdfunder.co.uk/free-assange   \n",
       "1         https://www.crowdfunder.co.uk/blackout2023   \n",
       "2  https://www.crowdfunder.co.uk/50-days-to-make-...   \n",
       "3             https://www.crowdfunder.co.uk/saveside   \n",
       "4  https://www.crowdfunder.co.uk/lets-smash-the-p...   \n",
       "\n",
       "                                         title  \\\n",
       "0         Help campaign to Free Julian Assange   \n",
       "1       Black Out 2023 | Cannes Lions Festival   \n",
       "2                 50 Days to Make a Difference   \n",
       "3                                    #SAVESIDE   \n",
       "4  Let's smash the political silence on Brexit   \n",
       "\n",
       "                                         description             location  \\\n",
       "0  [help, campaign, free, julian, assange, stop, ...               London   \n",
       "1  [taking, black, talent, connected, creative, i...               London   \n",
       "2  [scientists, curate, portfolio, effective, cli...               London   \n",
       "3  [april, side, gallery, close, public, due, cri...  Newcastle upon Tyne   \n",
       "4  [everyone, knows, brexit, working, politicians...               London   \n",
       "\n",
       "                           tags  upd  comm  supp  rewards_num     money  ...  \\\n",
       "0  [Community, Personal Causes]   22  1242  3576            0  300000.0  ...   \n",
       "1             [Business, Music]    0     9    24            0  100000.0  ...   \n",
       "2                 [Environment]    0    11    68            3  150000.0  ...   \n",
       "3             [Creative & Arts]    5   694  1806            0   75000.0  ...   \n",
       "4                    [Politics]    1   407  2391            6  100000.0  ...   \n",
       "\n",
       "  tags_Transport  tags_Travel  tags_University  tags_Venue  tags_null  \\\n",
       "0              0            0                0           0          0   \n",
       "1              0            0                0           0          0   \n",
       "2              0            0                0           0          0   \n",
       "3              0            0                0           0          0   \n",
       "4              0            0                0           0          0   \n",
       "\n",
       "   sentiment_score  ps_capital  inn_score  eco_score       pledge  \n",
       "0           0.7840           0          0          0    83.892617  \n",
       "1           0.9217           0          2          0  4166.666667  \n",
       "2           0.7430           1          0          2  2205.882353  \n",
       "3          -0.7096           0          0          0    41.528239  \n",
       "4           0.0000           0          0          0    41.823505  \n",
       "\n",
       "[5 rows x 45 columns]"
      ]
     },
     "execution_count": 3,
     "metadata": {},
     "output_type": "execute_result"
    }
   ],
   "source": [
    "df = pd.read_pickle('df_hyp.pkl') # считаем данные из основного файла\n",
    "df.head()"
   ]
  },
  {
   "cell_type": "code",
   "execution_count": 10,
   "id": "fc18964a",
   "metadata": {},
   "outputs": [
    {
     "data": {
      "image/png": "[encoded data removed]",
      "text/plain": [
       "<Figure size 2160x720 with 1 Axes>"
      ]
     },
     "metadata": {
      "needs_background": "light"
     },
     "output_type": "display_data"
    }
   ],
   "source": [
    "f, ax = plt.subplots(figsize=(30,10))\n",
    "plt.ylabel(\"Плотность распределения\", fontsize=15)\n",
    "plt.xlabel(\"Распределение переменной money\", fontsize=15)\n",
    "plt.hist(df['money'], bins=70);"
   ]
  },
  {
   "cell_type": "markdown",
   "id": "27dfc499",
   "metadata": {},
   "source": [
    "В ходе работы мы выяснили, что есть 4 проекта, у которых 0 supporters, что необъяснимо с точки зрения логики, поэтому при расчете среднего мы их не учитывали :)"
   ]
  },
  {
   "cell_type": "markdown",
   "id": "67bf9548",
   "metadata": {},
   "source": [
    "Также можно увидеть, что в данных по деньгам присутствует довольно большое количество выбросов, поэтому при проверке гипотез мы будем пользоваться несколькими методами: проведение асимптотического ztest'а и бустрап теста с удалением выбросов, тест Манна-Уитни, который самостоятельно работает с выбросами, оценка медиан без удаления выбросов с помощью бутстрапа\n",
    "\n",
    "Выбросами будем считать проекты, у которых средний взнос больше 2000 долларов"
   ]
  },
  {
   "cell_type": "markdown",
   "id": "a2cc006c",
   "metadata": {},
   "source": [
    "Также отметим, что национальными называются те проекты, у которых в переменнной локация записано United Kingdom. Это проекты, которые направлены на достижение каких-то реальных целей по всей стране. Например, сбор денег для благотворительных организаций, связанных  предоставлением жилья, обеспечение едой школьников и т.д."
   ]
  },
  {
   "cell_type": "markdown",
   "id": "3f502664",
   "metadata": {},
   "source": [
    "#### Будем проверять гипотезы на уровне значимости $\\alpha = 0.05$"
   ]
  },
  {
   "cell_type": "markdown",
   "id": "e202bb99",
   "metadata": {},
   "source": [
    "Предварительно напишем функции, необходимые для проверки гипотез: получение бутстрап выборок, построение интервалов и перестановочный тест\n",
    "\n",
    "Код для бутстрапа взят с семинара 13: https://github.com/hse-econ-data-science/andan_2023/blob/main/sem13_bootstrap/sem13_python_bootstrap.ipynb"
   ]
  },
  {
   "cell_type": "markdown",
   "id": "f811e540",
   "metadata": {},
   "source": [
    "Функция, создающая бут-выборку"
   ]
  },
  {
   "cell_type": "code",
   "execution_count": 58,
   "id": "ab841288",
   "metadata": {},
   "outputs": [],
   "source": [
    "def get_bootstrap_sample(x, B_sample=1):\n",
    "    np.random.seed(1000)\n",
    "    N = x.size \n",
    "    sample = np.random.choice(x, size=(N, B_sample), replace=True)\n",
    "    \n",
    "    if B_sample == 1:\n",
    "        sample = sample.T[0]\n",
    "    return sample"
   ]
  },
  {
   "cell_type": "markdown",
   "id": "55f770ab",
   "metadata": {},
   "source": [
    "Функция, создающая доверительный интервал"
   ]
  },
  {
   "cell_type": "code",
   "execution_count": 59,
   "id": "b6157df1",
   "metadata": {},
   "outputs": [],
   "source": [
    "def quantile_ci(x_boot, alpha=0.05):\n",
    "    left = np.quantile(x_boot, alpha/2)\n",
    "    right = np.quantile(x_boot, 1-alpha/2)\n",
    "    return left, right"
   ]
  },
  {
   "cell_type": "markdown",
   "id": "f2a3538d",
   "metadata": {},
   "source": [
    "Функция, создающая выборки для перестановочного теста и считающая корреляию"
   ]
  },
  {
   "cell_type": "code",
   "execution_count": 47,
   "id": "e4f7a5a2",
   "metadata": {},
   "outputs": [],
   "source": [
    "def permutation_test(x, y, alpha=0.05, n_sim = 10 ** 4):\n",
    "    np.random.seed(1000)\n",
    "    corr = []\n",
    "    corr_new = 0\n",
    "    for i in range(n_sim):\n",
    "        x_perm = np.random.permutation(x)\n",
    "        corr_new = sts.pearsonr(x_perm, y)[0]\n",
    "        corr.append(corr_new)\n",
    "    return corr"
   ]
  },
  {
   "cell_type": "markdown",
   "id": "392a485e",
   "metadata": {},
   "source": [
    "## Гипотеза о связи между количеством комментариев и собранным количеством денег"
   ]
  },
  {
   "cell_type": "markdown",
   "id": "0568e160",
   "metadata": {},
   "source": [
    "Можно предположить, что чем больше комментариев оставляют люди к проекту, тем больше они вовлечены в данный проект и заинтересованы в нем. Значит, они могут вкладывать в него больше денег, что позволяет проекту в целом собрать бОльшую сумму\n",
    "\n",
    "Также имеет смысл рассматривать эту гипотезу только для завершенных проектов, так как для текущих в колонке money отмечена их цель и делать выводы о финальном результате будет некорректно"
   ]
  },
  {
   "cell_type": "code",
   "execution_count": 550,
   "id": "42653277",
   "metadata": {},
   "outputs": [
    {
     "data": {
      "text/plain": [
       "0.4282405945225073"
      ]
     },
     "execution_count": 550,
     "metadata": {},
     "output_type": "execute_result"
    }
   ],
   "source": [
    "supp_suc = df[df['status'] == 'success']['supp']\n",
    "mon_suc = df[df['status'] == 'success']['money']\n",
    "corr = np.corrcoef(supp_suc, mon_suc)[0][1]\n",
    "corr"
   ]
  },
  {
   "cell_type": "markdown",
   "id": "e32d60e4",
   "metadata": {},
   "source": [
    "Проверим уровень значимости этого коэффициента корреляции. Для этого найдем t-статистику"
   ]
  },
  {
   "cell_type": "code",
   "execution_count": 551,
   "id": "2b710a8b",
   "metadata": {},
   "outputs": [
    {
     "data": {
      "text/plain": [
       "15.652829816875727"
      ]
     },
     "execution_count": 551,
     "metadata": {},
     "output_type": "execute_result"
    }
   ],
   "source": [
    "t_obs = corr * np.sqrt (supp_suc.size - 2) / np.sqrt(1 - corr ** 2)\n",
    "t_obs"
   ]
  },
  {
   "cell_type": "code",
   "execution_count": 552,
   "id": "dedc163b",
   "metadata": {},
   "outputs": [
    {
     "data": {
      "text/plain": [
       "1.6462514928708307"
      ]
     },
     "execution_count": 552,
     "metadata": {},
     "output_type": "execute_result"
    }
   ],
   "source": [
    "t_cr = sts.t.ppf(0.95, supp_suc.size - 2)\n",
    "t_cr"
   ]
  },
  {
   "cell_type": "markdown",
   "id": "1c4e8311",
   "metadata": {},
   "source": [
    "Вывод: как видно, t наблюдаемое больше t критического, значит, нулевая гипотеза о корреляции, равной нулю, отвергается, то есть между переменными действительно есть линейная положительная связь - чем больше комментариев оставляют пользователи, тем больше денег собирает проект"
   ]
  },
  {
   "cell_type": "markdown",
   "id": "99a50b81",
   "metadata": {},
   "source": [
    "## Гипотеза о сборе денег проектами с тэгами и без тэгов"
   ]
  },
  {
   "cell_type": "markdown",
   "id": "134db943",
   "metadata": {},
   "source": [
    "$$\n",
    "\\begin{aligned}\n",
    "& H_0: \\mu_{tags} = \\mu_{without} \\\\\n",
    "& H_1: \\mu_{tags} > \\mu_{without}\n",
    "\\end{aligned}\n",
    "$$"
   ]
  },
  {
   "cell_type": "markdown",
   "id": "1e25ef12",
   "metadata": {},
   "source": [
    "Проверим данную гипотезу с помощью z-теста, удалив выбросы"
   ]
  },
  {
   "cell_type": "code",
   "execution_count": 12,
   "id": "7034a857",
   "metadata": {},
   "outputs": [
    {
     "data": {
      "text/plain": [
       "(1813, 48)"
      ]
     },
     "execution_count": 12,
     "metadata": {},
     "output_type": "execute_result"
    }
   ],
   "source": [
    "with_tags = df[(df['tags_null'] == 0) & (df['supp'] != 0) & (df['pledge'] < 2000)]['pledge']\n",
    "without_tags = df[(df['tags_null'] == 1) & (df['supp'] != 0)  & (df['pledge'] < 2000)]['pledge']\n",
    "with_tags.size, without_tags.size"
   ]
  },
  {
   "cell_type": "code",
   "execution_count": 335,
   "id": "38eceee8",
   "metadata": {},
   "outputs": [
    {
     "data": {
      "text/plain": [
       "235.60029179378677"
      ]
     },
     "execution_count": 335,
     "metadata": {},
     "output_type": "execute_result"
    }
   ],
   "source": [
    "with_tags.mean()"
   ]
  },
  {
   "cell_type": "code",
   "execution_count": 336,
   "id": "8ab3447a",
   "metadata": {},
   "outputs": [
    {
     "data": {
      "text/plain": [
       "156.0329529991317"
      ]
     },
     "execution_count": 336,
     "metadata": {},
     "output_type": "execute_result"
    }
   ],
   "source": [
    "without_tags.mean()"
   ]
  },
  {
   "cell_type": "markdown",
   "id": "d6636b37",
   "metadata": {},
   "source": [
    "Посмотрим на распределение переменных чтобы понять, какой тест лучше использовать для проверки гипотезы (проверим распределение через тест Колмагорова)"
   ]
  },
  {
   "cell_type": "code",
   "execution_count": 13,
   "id": "c43df603",
   "metadata": {},
   "outputs": [
    {
     "data": {
      "text/plain": [
       "KstestResult(statistic=0.9992709083294831, pvalue=0.0)"
      ]
     },
     "execution_count": 13,
     "metadata": {},
     "output_type": "execute_result"
    }
   ],
   "source": [
    "sts.kstest(with_tags, 'norm')"
   ]
  },
  {
   "cell_type": "code",
   "execution_count": 14,
   "id": "dad0b957",
   "metadata": {},
   "outputs": [
    {
     "data": {
      "text/plain": [
       "KstestResult(statistic=1.0, pvalue=0.0)"
      ]
     },
     "execution_count": 14,
     "metadata": {},
     "output_type": "execute_result"
    }
   ],
   "source": [
    "sts.kstest(without_tags, 'norm')"
   ]
  },
  {
   "cell_type": "markdown",
   "id": "e0a5f8f9",
   "metadata": {},
   "source": [
    "Видим, что распределение не похоже на нормальное, поэтому можем применить асимптотический ztest"
   ]
  },
  {
   "cell_type": "code",
   "execution_count": 337,
   "id": "9c4c1129",
   "metadata": {},
   "outputs": [
    {
     "data": {
      "text/plain": [
       "(1.6944055881069486, 0.045094119193359365)"
      ]
     },
     "execution_count": 337,
     "metadata": {},
     "output_type": "execute_result"
    }
   ],
   "source": [
    "from statsmodels.stats.weightstats import ztest\n",
    "ztest(with_tags, without_tags, alternative = 'larger')"
   ]
  },
  {
   "cell_type": "markdown",
   "id": "6a4f754b",
   "metadata": {},
   "source": [
    "Как видно, p-value меньше 0.05, значит, нулевая гипотеза отвергается и в проекты с тэгами действительно инвестируют больше, чем в проекты без тэгов. Это вполне логично, так как тэги дают представления инвесторам о тематике проекта,такие проекты более понятные, поэтому люди склонные инвестировать в них больше"
   ]
  },
  {
   "cell_type": "markdown",
   "id": "241c21da",
   "metadata": {},
   "source": [
    "## Гипотеза о связи количества апдейтов и количества комментариев в проекте"
   ]
  },
  {
   "cell_type": "markdown",
   "id": "d59f3a09",
   "metadata": {},
   "source": [
    "Так как комментарии и апдейты это, своего рода, коммуникация между организатором проекта и инвесторами, то можно предположить, что чем больше апдейтов оставляет организатор, чем чаще он обновляет информацию по проекту или каким-либо образом взаимодействует с людьми, то тем больше последние будут более склонны к обратной связи для инвестора в виде комментариев и наоборот\n",
    "\n",
    "Проверим гипотезу через перестановочный тест"
   ]
  },
  {
   "cell_type": "code",
   "execution_count": 48,
   "id": "3d019fe1",
   "metadata": {},
   "outputs": [],
   "source": [
    "upd = df[(df['upd'] < 20) & (df['comm'] < 500)]['upd'] # удалим выбросы из данных\n",
    "comm = df[(df['upd'] < 20) & (df['comm'] < 500)]['comm']\n",
    "corr_perm = permutation_test(upd, comm)"
   ]
  },
  {
   "cell_type": "code",
   "execution_count": 388,
   "id": "271b551a",
   "metadata": {},
   "outputs": [
    {
     "data": {
      "text/plain": [
       "(1800, 1800)"
      ]
     },
     "execution_count": 388,
     "metadata": {},
     "output_type": "execute_result"
    }
   ],
   "source": [
    "upd.size, comm.size"
   ]
  },
  {
   "cell_type": "code",
   "execution_count": 49,
   "id": "1be771d9",
   "metadata": {},
   "outputs": [
    {
     "data": {
      "text/plain": [
       "0.3315355157374541"
      ]
     },
     "execution_count": 49,
     "metadata": {},
     "output_type": "execute_result"
    }
   ],
   "source": [
    "corr_hat = sts.pearsonr(upd, comm)[0]\n",
    "corr_hat"
   ]
  },
  {
   "cell_type": "code",
   "execution_count": 50,
   "id": "98eeaa8b",
   "metadata": {},
   "outputs": [
    {
     "data": {
      "image/png": "[encoded data removed]",
      "text/plain": [
       "<Figure size 432x288 with 1 Axes>"
      ]
     },
     "metadata": {
      "needs_background": "light"
     },
     "output_type": "display_data"
    }
   ],
   "source": [
    "plt.hist(corr_perm, bins = 20);\n",
    "plt.axvline(np.percentile(corr_perm, 2.5), color='red', linestyle=\"--\", lw=2, label='start_CI')\n",
    "plt.axvline(np.percentile(corr_perm, 97.5), color='red', linestyle=\"--\", lw=2, label='stop_CI')\n",
    "plt.axvline(corr_hat, color='green', linestyle=\"--\", lw=2, label='observed')\n",
    "plt.ylabel(\"Плотность распределения\", fontsize=13)\n",
    "plt.xlabel(\"Корреляция между количеством апдейтов и комментариев\", fontsize=13)\n",
    "plt.legend();"
   ]
  },
  {
   "cell_type": "markdown",
   "id": "763e292e",
   "metadata": {},
   "source": [
    "По графику видно, что выборочная корреляция не попадает в интервал, значит, нулевая гипотеза о наличии связи отвергается и на самом деле корреляция равна нулю, то есть линейной связи между количеством апдейтов и комментариев нет"
   ]
  },
  {
   "cell_type": "markdown",
   "id": "1426dc32",
   "metadata": {},
   "source": [
    "## Гипотеза о связи количества наград и уровнем взноса\n",
    "В целом в краудфандинге виды наград значительно различаются, однако многие зависят от того, какую сумму человек вкладывает в проект. Например, в проекте, направленном на переработку пластика с пляжей, за взнос в 20 долларов можно получить набор пластиковых чайников, за 35 - два набора, за 100 - 5 и т.д. Можно предположить, что чем больше наград предлагает организатор, тем больше мотивации будет у человека вкладывать большую сумму, так как он может получить какую-либо награду"
   ]
  },
  {
   "cell_type": "code",
   "execution_count": 107,
   "id": "484bb2e0",
   "metadata": {},
   "outputs": [
    {
     "data": {
      "text/plain": [
       "(-0.0364535920225099, 0.10819593557790556)"
      ]
     },
     "execution_count": 107,
     "metadata": {},
     "output_type": "execute_result"
    }
   ],
   "source": [
    "from scipy.stats import pearsonr\n",
    "pledge_rew = df[df['supp'] != 0]\n",
    "res_pear = pearsonr(pledge_rew['rewards_num'], pledge_rew['pledge'])\n",
    "res_pear"
   ]
  },
  {
   "cell_type": "markdown",
   "id": "f85e908a",
   "metadata": {},
   "source": [
    "Вывод: как показывает тест, между данными на самом деле отсутствует корреляция, то есть можно сказать, что инвесторам не очень важно количество наград при выборе вкладывается в проект или нет"
   ]
  },
  {
   "cell_type": "markdown",
   "id": "0a31b72f",
   "metadata": {},
   "source": [
    "## Гипотеза о глаголах, побуждающих к действию, и pledge\n",
    "Мы предполагаем, что на выбор человека о размере инвестиции может влиять и то, с каким посылом он видит описание проекта. Гипотеза состоит в том, что если инвестор видит какие-либо побуждающие глаголы, то он готов инвестировать в этот проект больше, так как он видит его значимость и предполагает, что его личное участие может повлиять на результат. "
   ]
  },
  {
   "cell_type": "code",
   "execution_count": 111,
   "id": "c5274c34",
   "metadata": {},
   "outputs": [
    {
     "data": {
      "text/plain": [
       "help         551\n",
       "community    314\n",
       "support      289\n",
       "raise        282\n",
       "new          209\n",
       "need         207\n",
       "funds        196\n",
       "people       168\n",
       "money        168\n",
       "raising      166\n",
       "Name: description, dtype: int64"
      ]
     },
     "execution_count": 111,
     "metadata": {},
     "output_type": "execute_result"
    }
   ],
   "source": [
    "# из кода по обработке описаний\n",
    "common200 = pd.Series(df['description'].explode()).value_counts()[:200] \n",
    "common200.nlargest(10)"
   ]
  },
  {
   "cell_type": "markdown",
   "id": "13c950c8",
   "metadata": {},
   "source": [
    "Как видно, наиболее часто встречающиеся побуждающие глаголы из списка - это 'help', 'support', 'raise', 'need'. Проверим, влияют ли они на инвесторов\n",
    "\n",
    "Нулевая гипотеза состоит в том, что матожидание группы проектов, в названии которых есть выбранные слова, равно группе проектов без этих слов. Альтернативная гипотеза - матожидание первой группы больше"
   ]
  },
  {
   "cell_type": "markdown",
   "id": "48374309",
   "metadata": {},
   "source": [
    "$$\n",
    "\\begin{aligned}\n",
    "& H_0: \\mu_{words} = \\mu_{without} \\\\\n",
    "& H_1: \\mu_{words} > \\mu_{without}\n",
    "\\end{aligned}\n",
    "$$"
   ]
  },
  {
   "cell_type": "markdown",
   "id": "075c2692",
   "metadata": {},
   "source": [
    "Для начала разобьем проекты на две группы: в описании которых есть ключевые слова и в которых их нет\n",
    "\n",
    "Для этого создадим список с интересующими нас словами, оставим в колонке с описаниями только эти слова (получится список из тих слов) и посмотрим, где список не пустой - это будет группа с нужными словами"
   ]
  },
  {
   "cell_type": "code",
   "execution_count": 8,
   "id": "e2a0deea",
   "metadata": {},
   "outputs": [
    {
     "data": {
      "text/html": [
       "<div>\n",
       "<style scoped>\n",
       "    .dataframe tbody tr th:only-of-type {\n",
       "        vertical-align: middle;\n",
       "    }\n",
       "\n",
       "    .dataframe tbody tr th {\n",
       "        vertical-align: top;\n",
       "    }\n",
       "\n",
       "    .dataframe thead th {\n",
       "        text-align: right;\n",
       "    }\n",
       "</style>\n",
       "<table border=\"1\" class=\"dataframe\">\n",
       "  <thead>\n",
       "    <tr style=\"text-align: right;\">\n",
       "      <th></th>\n",
       "      <th>description</th>\n",
       "      <th>pledge</th>\n",
       "    </tr>\n",
       "  </thead>\n",
       "  <tbody>\n",
       "    <tr>\n",
       "      <th>0</th>\n",
       "      <td>True</td>\n",
       "      <td>83.892617</td>\n",
       "    </tr>\n",
       "    <tr>\n",
       "      <th>1</th>\n",
       "      <td>False</td>\n",
       "      <td>4166.666667</td>\n",
       "    </tr>\n",
       "    <tr>\n",
       "      <th>2</th>\n",
       "      <td>False</td>\n",
       "      <td>2205.882353</td>\n",
       "    </tr>\n",
       "    <tr>\n",
       "      <th>3</th>\n",
       "      <td>True</td>\n",
       "      <td>41.528239</td>\n",
       "    </tr>\n",
       "    <tr>\n",
       "      <th>4</th>\n",
       "      <td>False</td>\n",
       "      <td>41.823505</td>\n",
       "    </tr>\n",
       "  </tbody>\n",
       "</table>\n",
       "</div>"
      ],
      "text/plain": [
       "   description       pledge\n",
       "0         True    83.892617\n",
       "1        False  4166.666667\n",
       "2        False  2205.882353\n",
       "3         True    41.528239\n",
       "4        False    41.823505"
      ]
     },
     "execution_count": 8,
     "metadata": {},
     "output_type": "execute_result"
    }
   ],
   "source": [
    "words = ['help', 'support', 'raise', 'need']\n",
    "df_group_with = df[(df['supp'] != 0)][['description', 'pledge']]\n",
    "df_group_with.description = df_group_with.description.apply(lambda x: [item for item in x if item in words])\n",
    "df_group_with.description = df_group_with.description.apply(lambda x: len(x) > 0)\n",
    "df_group_with_f = df_group_with[df_group_with['description'] == True]\n",
    "df_group_without = df_group_with[df_group_with['description'] == False]\n",
    "df_group_with.head()"
   ]
  },
  {
   "cell_type": "code",
   "execution_count": 9,
   "id": "6c02ee78",
   "metadata": {},
   "outputs": [],
   "source": [
    "pledge_with = df_group_with_f['pledge']\n",
    "pledge_without = df_group_without['pledge']"
   ]
  },
  {
   "cell_type": "code",
   "execution_count": 10,
   "id": "09afe3c9",
   "metadata": {},
   "outputs": [
    {
     "data": {
      "text/plain": [
       "1053.984270278861"
      ]
     },
     "execution_count": 10,
     "metadata": {},
     "output_type": "execute_result"
    }
   ],
   "source": [
    "pledge_with.mean()"
   ]
  },
  {
   "cell_type": "code",
   "execution_count": 11,
   "id": "3c1f14f5",
   "metadata": {},
   "outputs": [
    {
     "data": {
      "text/plain": [
       "674.3000411663126"
      ]
     },
     "execution_count": 11,
     "metadata": {},
     "output_type": "execute_result"
    }
   ],
   "source": [
    "pledge_without.mean()"
   ]
  },
  {
   "cell_type": "markdown",
   "id": "57725252",
   "metadata": {},
   "source": [
    "Проведем тест Манна-Уитни для проверки равенства матожиданий (мы не удаляли выбросы, а данный тест умеет с ними работать). "
   ]
  },
  {
   "cell_type": "code",
   "execution_count": 563,
   "id": "795f1302",
   "metadata": {},
   "outputs": [
    {
     "data": {
      "text/plain": [
       "(438324.5, 0.9966870010169708)"
      ]
     },
     "execution_count": 563,
     "metadata": {},
     "output_type": "execute_result"
    }
   ],
   "source": [
    "U, pval = sts.mannwhitneyu(pledge_with, pledge_without, alternative='greater')\n",
    "U, pval"
   ]
  },
  {
   "cell_type": "markdown",
   "id": "5e87fe47",
   "metadata": {},
   "source": [
    "Как видно, p-value стремится к 1, значит, нет оснований отвергать нулевую гипотезу, то есть матожидания равны и на самом деле слова в описании не влияют на решение инвестора о сумме взноса"
   ]
  },
  {
   "cell_type": "markdown",
   "id": "ffe06d62",
   "metadata": {},
   "source": [
    "## Гипотеза о связи между эмоциональной окраской и средним взносом"
   ]
  },
  {
   "cell_type": "markdown",
   "id": "de7ec91f",
   "metadata": {},
   "source": [
    "Как известно, в маркетинге, да и просто для привлечения внимания людей, часто используют \"громкие\", эмоциональные слова, что может сильно влиять на выбор человека. Мы хотим проверить, влияет ли эмоциональная окраска проекта в краудфандинге на желание человека инвестировать в него через перестановочный тест"
   ]
  },
  {
   "cell_type": "code",
   "execution_count": 51,
   "id": "1c217c4b",
   "metadata": {},
   "outputs": [],
   "source": [
    "pledge_all = df[df['supp'] != 0]['pledge']\n",
    "sent_sc = df[df['supp'] != 0]['sentiment_score']"
   ]
  },
  {
   "cell_type": "code",
   "execution_count": 54,
   "id": "f8371bf0",
   "metadata": {},
   "outputs": [
    {
     "data": {
      "text/plain": [
       "-0.0036769263482370257"
      ]
     },
     "execution_count": 54,
     "metadata": {},
     "output_type": "execute_result"
    }
   ],
   "source": [
    "corr_hat2 = sts.pearsonr(pledge_all, sent_sc)[0]\n",
    "corr_hat2"
   ]
  },
  {
   "cell_type": "code",
   "execution_count": 55,
   "id": "66719932",
   "metadata": {},
   "outputs": [],
   "source": [
    "corr_perm2 = permutation_test(pledge_all, sent_sc)"
   ]
  },
  {
   "cell_type": "code",
   "execution_count": 57,
   "id": "584f80c0",
   "metadata": {},
   "outputs": [
    {
     "data": {
      "image/png": "[encoded data removed]",
      "text/plain": [
       "<Figure size 432x288 with 1 Axes>"
      ]
     },
     "metadata": {
      "needs_background": "light"
     },
     "output_type": "display_data"
    }
   ],
   "source": [
    "plt.hist(corr_perm2, bins = 20);\n",
    "plt.axvline(np.percentile(corr_perm2, 2.5), color='red', linestyle=\"--\", lw=2, label='start_CI')\n",
    "plt.axvline(np.percentile(corr_perm2, 97.5), color='red', linestyle=\"--\", lw=2, label='stop_CI')\n",
    "plt.axvline(corr_hat2, color='green', linestyle=\"--\", lw=2, label='observed')\n",
    "plt.ylabel(\"Плотность распределения\", fontsize=13)\n",
    "plt.xlabel(\"Корреляция между sentiment_score и pledge\", fontsize=13)\n",
    "plt.legend();"
   ]
  },
  {
   "cell_type": "markdown",
   "id": "fa123bb7",
   "metadata": {},
   "source": [
    "Можно заметить, что выборочная корреляция попадает в построенный доверительный интервал, при этом она стремится к нулю, то есть можно утверждать, что между переменными нет связи. Значит, инвесторы не ориентируются на эмоциональность описания проекта в краудфандинге"
   ]
  },
  {
   "cell_type": "markdown",
   "id": "80764f07",
   "metadata": {},
   "source": [
    "## Гипотеза о размере взносов в Лондоне\n",
    "Можно предположить, что в Лондоне, как столице, живут более богатые люди и они могут больше вкладывать в проекты, поэтому взнос для таких проектов будет больше, чем для остальных"
   ]
  },
  {
   "cell_type": "markdown",
   "id": "46c34acd",
   "metadata": {},
   "source": [
    "$$\n",
    "\\begin{aligned}\n",
    "& H_0: med_{London} = med_{others} \\\\\n",
    "& H_1: med_{London} \\not= med_{others}\n",
    "\\end{aligned}\n",
    "$$"
   ]
  },
  {
   "cell_type": "code",
   "execution_count": 60,
   "id": "f5761d7d",
   "metadata": {},
   "outputs": [],
   "source": [
    "pledge_london = df[(df['location'] == 'London') & (df['supp'] != 0)]['pledge']\n",
    "pledge_others = df[(df['location'] != 'London') & (df['supp'] != 0)]['pledge']"
   ]
  },
  {
   "cell_type": "markdown",
   "id": "59d70c1e",
   "metadata": {},
   "source": [
    "Как мы знаем, в данных по деньгам есть выбросы, поэтому будем смотреть на медианы и построим доверительный интервал для их разницы с помощью бутстрапа"
   ]
  },
  {
   "cell_type": "code",
   "execution_count": 61,
   "id": "cf38e792",
   "metadata": {},
   "outputs": [
    {
     "data": {
      "text/plain": [
       "94.57297702297703"
      ]
     },
     "execution_count": 61,
     "metadata": {},
     "output_type": "execute_result"
    }
   ],
   "source": [
    "pledge_london.median()"
   ]
  },
  {
   "cell_type": "code",
   "execution_count": 62,
   "id": "208a1ecd",
   "metadata": {},
   "outputs": [
    {
     "data": {
      "text/plain": [
       "126.08630952380952"
      ]
     },
     "execution_count": 62,
     "metadata": {},
     "output_type": "execute_result"
    }
   ],
   "source": [
    "pledge_others.median()"
   ]
  },
  {
   "cell_type": "code",
   "execution_count": 63,
   "id": "861e0699",
   "metadata": {},
   "outputs": [],
   "source": [
    "median_hat = pledge_london.median() - pledge_others.median()"
   ]
  },
  {
   "cell_type": "code",
   "execution_count": 64,
   "id": "259b272a",
   "metadata": {},
   "outputs": [],
   "source": [
    "x_boot = get_bootstrap_sample(pledge_london, B_sample=10**4)\n",
    "x_boot = np.median(x_boot, axis=0)\n",
    "\n",
    "y_boot = get_bootstrap_sample(pledge_others, B_sample=10**4)\n",
    "y_boot = np.median(y_boot, axis=0)"
   ]
  },
  {
   "cell_type": "markdown",
   "id": "f05d6a12",
   "metadata": {},
   "source": [
    "Будем смотреть на разность медиан"
   ]
  },
  {
   "cell_type": "code",
   "execution_count": 65,
   "id": "b70b3da8",
   "metadata": {},
   "outputs": [],
   "source": [
    "diff_boot = x_boot - y_boot"
   ]
  },
  {
   "cell_type": "code",
   "execution_count": 66,
   "id": "c9c6c75d",
   "metadata": {},
   "outputs": [
    {
     "data": {
      "text/plain": [
       "(-52.49686188811188, -11.128128205234955)"
      ]
     },
     "execution_count": 66,
     "metadata": {},
     "output_type": "execute_result"
    }
   ],
   "source": [
    "ci_right, ci_left = quantile_ci(diff_boot)\n",
    "ci_right, ci_left"
   ]
  },
  {
   "cell_type": "code",
   "execution_count": 67,
   "id": "5a80911d",
   "metadata": {
    "scrolled": true
   },
   "outputs": [
    {
     "data": {
      "image/png": "[encoded data removed]",
      "text/plain": [
       "<Figure size 432x288 with 1 Axes>"
      ]
     },
     "metadata": {
      "needs_background": "light"
     },
     "output_type": "display_data"
    }
   ],
   "source": [
    "plt.hist(diff_boot, bins = 20);\n",
    "plt.axvline(ci_left, color='red', linestyle=\"--\", lw=2, label='start_CI')\n",
    "plt.axvline(ci_right, color='red', linestyle=\"--\", lw=2, label='stop_CI')\n",
    "plt.axvline(median_hat, color='green', linestyle=\"--\", lw=2, label='observed')\n",
    "plt.ylabel(\"Плотность распределения\", fontsize=13)\n",
    "plt.xlabel(\"Разность медиан в проектах в Лондоне и других\", fontsize=13)\n",
    "plt.legend();"
   ]
  },
  {
   "cell_type": "markdown",
   "id": "b8b4f5f0",
   "metadata": {},
   "source": [
    "Как видно, ноль не попадает в доверительный интервал, значит, разница между проектами есть, причем интервал явно отрицательный, то есть на самом деле pledge в Лондоне ниже, чем в других проектах. Это может быть объяснено тем, что в Лондоне проживает больше людей, поэтому при поддержке проектов создаются комьюнити с большим количеством человек и каждый должен вкладывать меньше. С другой стороны, жители Лондона могут просто быть эгоистичными и не хотеть инвестировать в частные проекты (учитываем, что далеко не каждый проект предлагает какие-либо награды за участие)"
   ]
  },
  {
   "cell_type": "markdown",
   "id": "db90c32f",
   "metadata": {},
   "source": [
    "## Гипотеза о матожидании тэга community\n",
    "Мы предполагаем, что в тэг community люди хотят инвестировать больше, чем во все остальные, так как суть краудфандинга подразумевает создание сообщества\n",
    "\n",
    "Мы предполагаем в $H_0$, что матожидание проектов с тэгом равно оценке матожидания проектов без него, то есть среднему"
   ]
  },
  {
   "cell_type": "markdown",
   "id": "dbc070c6",
   "metadata": {},
   "source": [
    "$$\n",
    "\\begin{aligned}\n",
    "& H_0: \\mu_{community} = c \\\\\n",
    "& H_1: \\mu_{community} \\not= c\n",
    "\\end{aligned}\n",
    "$$"
   ]
  },
  {
   "cell_type": "markdown",
   "id": "b21cada7",
   "metadata": {},
   "source": [
    "Как известно из курса матстата, среднее является наилучшей оценкой для матожидания, поэтому в качестве константы мы решили взять среднее по выборке из проектов без тэга комьюнити. Таким образом, в гипотезе мы проверяем, равно ли матожидание взноса (pledge) группы проектов с тэгом комьюнити среднему для всех остальных проектов. Альтернативной гипотезой является то, что в данный тэг отдельный человек инвестирует в больше. Это может быть объяснимо тем, что люди предпочитают инвестировать в проекты, направленные \"на общее благо\", такие проект могут казаться более надежными (собранные средства будут использоваться по назначению) и давать людям чувство причастности к общественоо-полезным проектам"
   ]
  },
  {
   "cell_type": "markdown",
   "id": "875a4d35",
   "metadata": {},
   "source": [
    "В данной гипотезе мы также воспользуемся бутстрап выборкой, но учтем выбросы в данных и построим интервал для математического ожидания одной группы"
   ]
  },
  {
   "cell_type": "code",
   "execution_count": 68,
   "id": "a138cd10",
   "metadata": {},
   "outputs": [
    {
     "name": "stdout",
     "output_type": "stream",
     "text": [
      "Среднее по всем проектам без тэга community равно 210.7264\n",
      "Среднее по всем проектам c тэгом community равно 263.5511\n"
     ]
    }
   ],
   "source": [
    "no_com_av = df[(df['tags_Community'] == 0) & (df['supp'] != 0) & (df['pledge'] < 2000)]['pledge'].mean()\n",
    "print('Среднее по всем проектам без тэга community равно {:.4f}'.format(no_com_av))\n",
    "com_av = df[(df['tags_Community'] == 1) & (df['supp'] != 0) & (df['pledge'] < 2000)]['pledge'].mean()\n",
    "print('Среднее по всем проектам c тэгом community равно {:.4f}'.format(com_av))"
   ]
  },
  {
   "cell_type": "code",
   "execution_count": 69,
   "id": "e89f5112",
   "metadata": {},
   "outputs": [
    {
     "data": {
      "text/plain": [
       "210.726434592512"
      ]
     },
     "execution_count": 69,
     "metadata": {},
     "output_type": "execute_result"
    }
   ],
   "source": [
    "mean_hat = no_com_av\n",
    "mean_hat"
   ]
  },
  {
   "cell_type": "code",
   "execution_count": 70,
   "id": "96987edd",
   "metadata": {},
   "outputs": [],
   "source": [
    "com_tag = df[(df['tags_Community'] == 1) & (df['supp'] != 0) & (df['pledge'] < 2000)]['pledge']"
   ]
  },
  {
   "cell_type": "code",
   "execution_count": 71,
   "id": "0ef9a054",
   "metadata": {},
   "outputs": [],
   "source": [
    "x_boot = get_bootstrap_sample(com_tag, B_sample=10**4)\n",
    "x_boot_m = np.mean(x_boot, axis=0)"
   ]
  },
  {
   "cell_type": "code",
   "execution_count": 72,
   "id": "3fe960fe",
   "metadata": {},
   "outputs": [
    {
     "data": {
      "text/plain": [
       "(240.9395407110255, 286.53747056689616)"
      ]
     },
     "execution_count": 72,
     "metadata": {},
     "output_type": "execute_result"
    }
   ],
   "source": [
    "ci_right, ci_left = quantile_ci(x_boot_m)\n",
    "ci_right, ci_left"
   ]
  },
  {
   "cell_type": "code",
   "execution_count": 73,
   "id": "085bbc2a",
   "metadata": {},
   "outputs": [
    {
     "data": {
      "image/png": "[encoded data removed]",
      "text/plain": [
       "<Figure size 432x288 with 1 Axes>"
      ]
     },
     "metadata": {
      "needs_background": "light"
     },
     "output_type": "display_data"
    }
   ],
   "source": [
    "plt.hist(x_boot_m, bins = 20);\n",
    "plt.axvline(ci_left, color='red', linestyle=\"--\", lw=2, label='start_CI')\n",
    "plt.axvline(ci_right, color='red', linestyle=\"--\", lw=2, label='stop_CI')\n",
    "plt.axvline(mean_hat, color='green', linestyle=\"--\", lw=2, label='observed')\n",
    "plt.ylabel(\"Плотность распределения\", fontsize=13)\n",
    "plt.xlabel(\"Средние по бустрап выборкам для проектов с тэгом\", fontsize=13)\n",
    "plt.legend();"
   ]
  },
  {
   "cell_type": "markdown",
   "id": "a6e043af",
   "metadata": {},
   "source": [
    "Как видно, наше выборочное значение - среднее по проектам без тэга - не попадает в интервал, а он сам лежит правее этого значения, то есть можно сказать, что среднее в выборке с тэгом выше, чем без него. Это подтверждает наше предположение о том, что люди охотнее инвестируют с проекты с тэгом community, чем в остальные"
   ]
  },
  {
   "cell_type": "markdown",
   "id": "cce5f46b",
   "metadata": {},
   "source": [
    "### Количество supporters для национальных проектов в среднем больше, чем для остальных"
   ]
  },
  {
   "cell_type": "markdown",
   "id": "f8f6d3c8",
   "metadata": {},
   "source": [
    "Мы предполагаем, что количество инвесторов в национальных проектах будет выше, чем во всех остальных. Это связано с тем, что в национальные проекты вкладываются люди со всей страны, тогда как локальные проекты ограничены практически только конкретным городом и его окрестностями. Нулевая гипотеза состоит в равенстве матожиданий в группе, а альтернативная - матожидание национальных проектов выше:"
   ]
  },
  {
   "cell_type": "markdown",
   "id": "83353403",
   "metadata": {},
   "source": [
    "$$\n",
    "\\begin{aligned}\n",
    "& H_0: \\mu_{national} = \\mu_{others} \\\\\n",
    "& H_1: \\mu_{national} > \\mu_{others}\n",
    "\\end{aligned}\n",
    "$$"
   ]
  },
  {
   "cell_type": "code",
   "execution_count": 448,
   "id": "f0da965e",
   "metadata": {},
   "outputs": [],
   "source": [
    "national = df[(df['location'] == 'United Kingdom') & (df['supp'] != 0) & (df['supp'] < 5000)]['supp']\n",
    "others = df[(df['location'] != 'United Kingdom') & (df['supp'] != 0) & (df['supp'] < 5000)]['supp']"
   ]
  },
  {
   "cell_type": "code",
   "execution_count": 449,
   "id": "79ac4fe1",
   "metadata": {},
   "outputs": [
    {
     "data": {
      "text/plain": [
       "737.6293706293707"
      ]
     },
     "execution_count": 449,
     "metadata": {},
     "output_type": "execute_result"
    }
   ],
   "source": [
    "national.mean()"
   ]
  },
  {
   "cell_type": "code",
   "execution_count": 450,
   "id": "69b32007",
   "metadata": {},
   "outputs": [
    {
     "data": {
      "text/plain": [
       "316.78917700112737"
      ]
     },
     "execution_count": 450,
     "metadata": {},
     "output_type": "execute_result"
    }
   ],
   "source": [
    "others.mean()"
   ]
  },
  {
   "cell_type": "markdown",
   "id": "f28ae88b",
   "metadata": {},
   "source": [
    "Проверим, как распределены выборки с помощью теста Колмагорова:"
   ]
  },
  {
   "cell_type": "code",
   "execution_count": 468,
   "id": "70a2a1e2",
   "metadata": {},
   "outputs": [
    {
     "data": {
      "text/plain": [
       "KstestResult(statistic=0.977671080989349, pvalue=1.5456490049874585e-236)"
      ]
     },
     "execution_count": 468,
     "metadata": {},
     "output_type": "execute_result"
    }
   ],
   "source": [
    "sts.kstest(national, 'norm')"
   ]
  },
  {
   "cell_type": "code",
   "execution_count": 469,
   "id": "01254786",
   "metadata": {},
   "outputs": [
    {
     "data": {
      "text/plain": [
       "KstestResult(statistic=0.9845576555196665, pvalue=0.0)"
      ]
     },
     "execution_count": 469,
     "metadata": {},
     "output_type": "execute_result"
    }
   ],
   "source": [
    "sts.kstest(others, 'norm')"
   ]
  },
  {
   "cell_type": "markdown",
   "id": "23233cf8",
   "metadata": {},
   "source": [
    "Как видно, они не имеют нормального распределения, но мы можем применить асимптотический ztest для сравнения матожиданий"
   ]
  },
  {
   "cell_type": "code",
   "execution_count": 470,
   "id": "5aabeb7e",
   "metadata": {},
   "outputs": [
    {
     "data": {
      "text/plain": [
       "(7.597557891667468, 1.508856171314472e-14)"
      ]
     },
     "execution_count": 470,
     "metadata": {},
     "output_type": "execute_result"
    }
   ],
   "source": [
    "ztest(national, others, alternative = 'larger')"
   ]
  },
  {
   "cell_type": "markdown",
   "id": "2dd535fb",
   "metadata": {},
   "source": [
    "Вывод: p-value стремится  к нулю, поэтому, как и ожидалось, нулевая гипотеза отвергается, то есть у национальных проектов действительно больше инвесторов"
   ]
  },
  {
   "cell_type": "markdown",
   "id": "8785fa56",
   "metadata": {},
   "source": [
    "## Проверка гипотезы о распределении переменной money"
   ]
  },
  {
   "cell_type": "markdown",
   "id": "f4a09b1b",
   "metadata": {},
   "source": [
    "Посмотрим на данные без выбросов"
   ]
  },
  {
   "cell_type": "code",
   "execution_count": 40,
   "id": "b28acc66",
   "metadata": {},
   "outputs": [
    {
     "data": {
      "text/plain": [
       "KstestResult(statistic=1.0, pvalue=0.0)"
      ]
     },
     "execution_count": 40,
     "metadata": {},
     "output_type": "execute_result"
    }
   ],
   "source": [
    "money = df[df['money'] < 100000]['money']\n",
    "sts.kstest(money, 'expon')"
   ]
  },
  {
   "cell_type": "code",
   "execution_count": 41,
   "id": "f4153e68",
   "metadata": {},
   "outputs": [
    {
     "data": {
      "text/plain": [
       "1796"
      ]
     },
     "execution_count": 41,
     "metadata": {},
     "output_type": "execute_result"
    }
   ],
   "source": [
    "money.size # всего наблюдений 1947"
   ]
  },
  {
   "cell_type": "code",
   "execution_count": 80,
   "id": "8359b929",
   "metadata": {},
   "outputs": [
    {
     "data": {
      "image/png": "[encoded data removed]",
      "text/plain": [
       "<Figure size 2160x720 with 1 Axes>"
      ]
     },
     "metadata": {
      "needs_background": "light"
     },
     "output_type": "display_data"
    }
   ],
   "source": [
    "f, ax = plt.subplots(figsize=(30,10))\n",
    "plt.hist(money, bins=30)\n",
    "plt.ylabel(\"Плотность распределения\", fontsize=20)\n",
    "plt.xlabel(\"Распределение переменной money\", fontsize=20);"
   ]
  },
  {
   "cell_type": "markdown",
   "id": "8f6147da",
   "metadata": {},
   "source": [
    "Как можно увидеть и по тесту, и по гистограмме, предположение об экспоненциальном распределении отвергается, в распределении есть \"провалы\""
   ]
  },
  {
   "cell_type": "markdown",
   "id": "ea98209b",
   "metadata": {},
   "source": [
    "# Выводы"
   ]
  },
  {
   "cell_type": "markdown",
   "id": "205a295c",
   "metadata": {},
   "source": [
    "В ходе анализа гипотез мы выявили некоторые закономерности, однако не удалось найти однозначной связи между признаками и средним взносом участника или общей суммой денег\n",
    "\n",
    "Выявленные связи: \n",
    "- есть корреляция между количеством комментариев и собранной суммой денег, причем связь положительная, что может быть объяснено вовлеченностью инвесторов в проект\n",
    "- в проекты с тэгами отдельный человек инвестирует в среднем больше (pledge выше), так как проект может казаться понятнее и привлекательнее для инвестора\n",
    "- количество апдейтов и комментариев не связаны\n",
    "- количество наград не влияет на уровень взноса\n",
    "- глаголы, побуждающие к действию, не влияют на размер инвестиций\n",
    "- эмоциональная окраска не влияет на средний взнос \n",
    "- расположенные в Лондоне проекты имеют средний взнос ниже, чем остальные, возможно, потому что комьюнити в Лондоне больше и требуется меньший взнос от каждого участника, либо жители Лондона менее заинтересованы инвестировать в общественные проекты\n",
    "- средний взнос в проектах с тэгом комьюнити выше, чем во всех остальных, вероятно, потому что люди больше заинтересованы инвестировать в проект с таким тэгом\n",
    "- у национальных проектов больше спонсоров, чем в других проктах, так как инвесторы собираются со всей страны, а не из какой-либо локальной области"
   ]
  }
 ],
 "metadata": {
  "kernelspec": {
   "display_name": "Python 3 (ipykernel)",
   "language": "python",
   "name": "python3"
  },
  "language_info": {
   "codemirror_mode": {
    "name": "ipython",
    "version": 3
   },
   "file_extension": ".py",
   "mimetype": "text/x-python",
   "name": "python",
   "nbconvert_exporter": "python",
   "pygments_lexer": "ipython3",
   "version": "3.9.7"
  }
 },
 "nbformat": 4,
 "nbformat_minor": 5
}
